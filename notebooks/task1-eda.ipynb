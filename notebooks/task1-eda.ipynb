{
 "cells": [
  {
   "cell_type": "markdown",
   "id": "3486d9e9",
   "metadata": {},
   "source": [
    "\n",
    "Exploratory Data Analysis\n",
    "Exploratory data analysis (EDA) is a process of summarizing and visualizing data to understand."
   ]
  },
  {
   "cell_type": "code",
   "execution_count": 8,
   "id": "651ac6ec",
   "metadata": {},
   "outputs": [
    {
     "data": {
      "application/vnd.microsoft.datawrangler.viewer.v0+json": {
       "columns": [
        {
         "name": "index",
         "rawType": "int64",
         "type": "integer"
        },
        {
         "name": "Unnamed: 0",
         "rawType": "int64",
         "type": "integer"
        },
        {
         "name": "headline",
         "rawType": "object",
         "type": "string"
        },
        {
         "name": "url",
         "rawType": "object",
         "type": "string"
        },
        {
         "name": "publisher",
         "rawType": "object",
         "type": "string"
        },
        {
         "name": "date",
         "rawType": "object",
         "type": "string"
        },
        {
         "name": "stock",
         "rawType": "object",
         "type": "string"
        }
       ],
       "ref": "2c07eff2-3f06-4f5b-88c4-10dc19ac916e",
       "rows": [
        [
         "0",
         "0",
         "Stocks That Hit 52-Week Highs On Friday",
         "https://www.benzinga.com/news/20/06/16190091/stocks-that-hit-52-week-highs-on-friday",
         "Benzinga Insights",
         "2020-06-05 10:30:54-04:00",
         "A"
        ],
        [
         "1",
         "1",
         "Stocks That Hit 52-Week Highs On Wednesday",
         "https://www.benzinga.com/news/20/06/16170189/stocks-that-hit-52-week-highs-on-wednesday",
         "Benzinga Insights",
         "2020-06-03 10:45:20-04:00",
         "A"
        ],
        [
         "2",
         "2",
         "71 Biggest Movers From Friday",
         "https://www.benzinga.com/news/20/05/16103463/71-biggest-movers-from-friday",
         "Lisa Levin",
         "2020-05-26 04:30:07-04:00",
         "A"
        ],
        [
         "3",
         "3",
         "46 Stocks Moving In Friday's Mid-Day Session",
         "https://www.benzinga.com/news/20/05/16095921/46-stocks-moving-in-fridays-mid-day-session",
         "Lisa Levin",
         "2020-05-22 12:45:06-04:00",
         "A"
        ],
        [
         "4",
         "4",
         "B of A Securities Maintains Neutral on Agilent Technologies, Raises Price Target to $88",
         "https://www.benzinga.com/news/20/05/16095304/b-of-a-securities-maintains-neutral-on-agilent-technologies-raises-price-target-to-88",
         "Vick Meyer",
         "2020-05-22 11:38:59-04:00",
         "A"
        ]
       ],
       "shape": {
        "columns": 6,
        "rows": 5
       }
      },
      "text/html": [
       "<div>\n",
       "<style scoped>\n",
       "    .dataframe tbody tr th:only-of-type {\n",
       "        vertical-align: middle;\n",
       "    }\n",
       "\n",
       "    .dataframe tbody tr th {\n",
       "        vertical-align: top;\n",
       "    }\n",
       "\n",
       "    .dataframe thead th {\n",
       "        text-align: right;\n",
       "    }\n",
       "</style>\n",
       "<table border=\"1\" class=\"dataframe\">\n",
       "  <thead>\n",
       "    <tr style=\"text-align: right;\">\n",
       "      <th></th>\n",
       "      <th>Unnamed: 0</th>\n",
       "      <th>headline</th>\n",
       "      <th>url</th>\n",
       "      <th>publisher</th>\n",
       "      <th>date</th>\n",
       "      <th>stock</th>\n",
       "    </tr>\n",
       "  </thead>\n",
       "  <tbody>\n",
       "    <tr>\n",
       "      <th>0</th>\n",
       "      <td>0</td>\n",
       "      <td>Stocks That Hit 52-Week Highs On Friday</td>\n",
       "      <td>https://www.benzinga.com/news/20/06/16190091/s...</td>\n",
       "      <td>Benzinga Insights</td>\n",
       "      <td>2020-06-05 10:30:54-04:00</td>\n",
       "      <td>A</td>\n",
       "    </tr>\n",
       "    <tr>\n",
       "      <th>1</th>\n",
       "      <td>1</td>\n",
       "      <td>Stocks That Hit 52-Week Highs On Wednesday</td>\n",
       "      <td>https://www.benzinga.com/news/20/06/16170189/s...</td>\n",
       "      <td>Benzinga Insights</td>\n",
       "      <td>2020-06-03 10:45:20-04:00</td>\n",
       "      <td>A</td>\n",
       "    </tr>\n",
       "    <tr>\n",
       "      <th>2</th>\n",
       "      <td>2</td>\n",
       "      <td>71 Biggest Movers From Friday</td>\n",
       "      <td>https://www.benzinga.com/news/20/05/16103463/7...</td>\n",
       "      <td>Lisa Levin</td>\n",
       "      <td>2020-05-26 04:30:07-04:00</td>\n",
       "      <td>A</td>\n",
       "    </tr>\n",
       "    <tr>\n",
       "      <th>3</th>\n",
       "      <td>3</td>\n",
       "      <td>46 Stocks Moving In Friday's Mid-Day Session</td>\n",
       "      <td>https://www.benzinga.com/news/20/05/16095921/4...</td>\n",
       "      <td>Lisa Levin</td>\n",
       "      <td>2020-05-22 12:45:06-04:00</td>\n",
       "      <td>A</td>\n",
       "    </tr>\n",
       "    <tr>\n",
       "      <th>4</th>\n",
       "      <td>4</td>\n",
       "      <td>B of A Securities Maintains Neutral on Agilent...</td>\n",
       "      <td>https://www.benzinga.com/news/20/05/16095304/b...</td>\n",
       "      <td>Vick Meyer</td>\n",
       "      <td>2020-05-22 11:38:59-04:00</td>\n",
       "      <td>A</td>\n",
       "    </tr>\n",
       "  </tbody>\n",
       "</table>\n",
       "</div>"
      ],
      "text/plain": [
       "   Unnamed: 0                                           headline  \\\n",
       "0           0            Stocks That Hit 52-Week Highs On Friday   \n",
       "1           1         Stocks That Hit 52-Week Highs On Wednesday   \n",
       "2           2                      71 Biggest Movers From Friday   \n",
       "3           3       46 Stocks Moving In Friday's Mid-Day Session   \n",
       "4           4  B of A Securities Maintains Neutral on Agilent...   \n",
       "\n",
       "                                                 url          publisher  \\\n",
       "0  https://www.benzinga.com/news/20/06/16190091/s...  Benzinga Insights   \n",
       "1  https://www.benzinga.com/news/20/06/16170189/s...  Benzinga Insights   \n",
       "2  https://www.benzinga.com/news/20/05/16103463/7...         Lisa Levin   \n",
       "3  https://www.benzinga.com/news/20/05/16095921/4...         Lisa Levin   \n",
       "4  https://www.benzinga.com/news/20/05/16095304/b...         Vick Meyer   \n",
       "\n",
       "                        date stock  \n",
       "0  2020-06-05 10:30:54-04:00     A  \n",
       "1  2020-06-03 10:45:20-04:00     A  \n",
       "2  2020-05-26 04:30:07-04:00     A  \n",
       "3  2020-05-22 12:45:06-04:00     A  \n",
       "4  2020-05-22 11:38:59-04:00     A  "
      ]
     },
     "metadata": {},
     "output_type": "display_data"
    },
    {
     "name": "stdout",
     "output_type": "stream",
     "text": [
      "<class 'pandas.core.frame.DataFrame'>\n",
      "RangeIndex: 1407328 entries, 0 to 1407327\n",
      "Data columns (total 6 columns):\n",
      " #   Column      Non-Null Count    Dtype \n",
      "---  ------      --------------    ----- \n",
      " 0   Unnamed: 0  1407328 non-null  int64 \n",
      " 1   headline    1407328 non-null  object\n",
      " 2   url         1407328 non-null  object\n",
      " 3   publisher   1407328 non-null  object\n",
      " 4   date        1407328 non-null  object\n",
      " 5   stock       1407328 non-null  object\n",
      "dtypes: int64(1), object(5)\n",
      "memory usage: 64.4+ MB\n",
      "Missing values:\n",
      " Unnamed: 0          0\n",
      "headline            0\n",
      "url                 0\n",
      "publisher           0\n",
      "date          1351341\n",
      "stock               0\n",
      "dtype: int64\n"
     ]
    },
    {
     "data": {
      "application/vnd.microsoft.datawrangler.viewer.v0+json": {
       "columns": [
        {
         "name": "index",
         "rawType": "object",
         "type": "string"
        },
        {
         "name": "Unnamed: 0",
         "rawType": "float64",
         "type": "float"
        },
        {
         "name": "headline",
         "rawType": "object",
         "type": "unknown"
        },
        {
         "name": "url",
         "rawType": "object",
         "type": "unknown"
        },
        {
         "name": "publisher",
         "rawType": "object",
         "type": "unknown"
        },
        {
         "name": "date",
         "rawType": "object",
         "type": "unknown"
        },
        {
         "name": "stock",
         "rawType": "object",
         "type": "unknown"
        }
       ],
       "ref": "e4bf4d0a-05bb-4d3a-acaa-6cf789293f32",
       "rows": [
        [
         "count",
         "1407328.0",
         "1407328",
         "1407328",
         "1407328",
         "55987",
         "1407328"
        ],
        [
         "unique",
         null,
         "845770",
         "883429",
         "1034",
         null,
         "6204"
        ],
        [
         "top",
         null,
         "Benzinga's Top Upgrades",
         "https://www.benzinga.com/news/20/03/15538835/stocks-that-hit-52-week-lows-on-thursday",
         "Paul Quintaro",
         null,
         "MRK"
        ],
        [
         "freq",
         null,
         "5449",
         "1704",
         "228373",
         null,
         "3333"
        ],
        [
         "mean",
         "707245.3964498681",
         null,
         null,
         null,
         "2018-09-24 13:13:18.521924864-04:00",
         null
        ],
        [
         "min",
         "0.0",
         null,
         null,
         null,
         "2011-04-27 21:01:48-04:00",
         null
        ],
        [
         "25%",
         "353812.75",
         null,
         null,
         null,
         "2017-06-14 23:40:07.500000-04:00",
         null
        ],
        [
         "50%",
         "707239.5",
         null,
         null,
         null,
         "2020-01-16 11:22:53-04:00",
         null
        ],
        [
         "75%",
         "1060710.25",
         null,
         null,
         null,
         "2020-05-06 05:34:23.500000-04:00",
         null
        ],
        [
         "max",
         "1413848.0",
         null,
         null,
         null,
         "2020-06-11 17:12:35-04:00",
         null
        ],
        [
         "std",
         "408100.9104397617",
         null,
         null,
         null,
         null,
         null
        ]
       ],
       "shape": {
        "columns": 6,
        "rows": 11
       }
      },
      "text/html": [
       "<div>\n",
       "<style scoped>\n",
       "    .dataframe tbody tr th:only-of-type {\n",
       "        vertical-align: middle;\n",
       "    }\n",
       "\n",
       "    .dataframe tbody tr th {\n",
       "        vertical-align: top;\n",
       "    }\n",
       "\n",
       "    .dataframe thead th {\n",
       "        text-align: right;\n",
       "    }\n",
       "</style>\n",
       "<table border=\"1\" class=\"dataframe\">\n",
       "  <thead>\n",
       "    <tr style=\"text-align: right;\">\n",
       "      <th></th>\n",
       "      <th>Unnamed: 0</th>\n",
       "      <th>headline</th>\n",
       "      <th>url</th>\n",
       "      <th>publisher</th>\n",
       "      <th>date</th>\n",
       "      <th>stock</th>\n",
       "    </tr>\n",
       "  </thead>\n",
       "  <tbody>\n",
       "    <tr>\n",
       "      <th>count</th>\n",
       "      <td>1.407328e+06</td>\n",
       "      <td>1407328</td>\n",
       "      <td>1407328</td>\n",
       "      <td>1407328</td>\n",
       "      <td>55987</td>\n",
       "      <td>1407328</td>\n",
       "    </tr>\n",
       "    <tr>\n",
       "      <th>unique</th>\n",
       "      <td>NaN</td>\n",
       "      <td>845770</td>\n",
       "      <td>883429</td>\n",
       "      <td>1034</td>\n",
       "      <td>NaN</td>\n",
       "      <td>6204</td>\n",
       "    </tr>\n",
       "    <tr>\n",
       "      <th>top</th>\n",
       "      <td>NaN</td>\n",
       "      <td>Benzinga's Top Upgrades</td>\n",
       "      <td>https://www.benzinga.com/news/20/03/15538835/s...</td>\n",
       "      <td>Paul Quintaro</td>\n",
       "      <td>NaN</td>\n",
       "      <td>MRK</td>\n",
       "    </tr>\n",
       "    <tr>\n",
       "      <th>freq</th>\n",
       "      <td>NaN</td>\n",
       "      <td>5449</td>\n",
       "      <td>1704</td>\n",
       "      <td>228373</td>\n",
       "      <td>NaN</td>\n",
       "      <td>3333</td>\n",
       "    </tr>\n",
       "    <tr>\n",
       "      <th>mean</th>\n",
       "      <td>7.072454e+05</td>\n",
       "      <td>NaN</td>\n",
       "      <td>NaN</td>\n",
       "      <td>NaN</td>\n",
       "      <td>2018-09-24 13:13:18.521924864-04:00</td>\n",
       "      <td>NaN</td>\n",
       "    </tr>\n",
       "    <tr>\n",
       "      <th>min</th>\n",
       "      <td>0.000000e+00</td>\n",
       "      <td>NaN</td>\n",
       "      <td>NaN</td>\n",
       "      <td>NaN</td>\n",
       "      <td>2011-04-27 21:01:48-04:00</td>\n",
       "      <td>NaN</td>\n",
       "    </tr>\n",
       "    <tr>\n",
       "      <th>25%</th>\n",
       "      <td>3.538128e+05</td>\n",
       "      <td>NaN</td>\n",
       "      <td>NaN</td>\n",
       "      <td>NaN</td>\n",
       "      <td>2017-06-14 23:40:07.500000-04:00</td>\n",
       "      <td>NaN</td>\n",
       "    </tr>\n",
       "    <tr>\n",
       "      <th>50%</th>\n",
       "      <td>7.072395e+05</td>\n",
       "      <td>NaN</td>\n",
       "      <td>NaN</td>\n",
       "      <td>NaN</td>\n",
       "      <td>2020-01-16 11:22:53-04:00</td>\n",
       "      <td>NaN</td>\n",
       "    </tr>\n",
       "    <tr>\n",
       "      <th>75%</th>\n",
       "      <td>1.060710e+06</td>\n",
       "      <td>NaN</td>\n",
       "      <td>NaN</td>\n",
       "      <td>NaN</td>\n",
       "      <td>2020-05-06 05:34:23.500000-04:00</td>\n",
       "      <td>NaN</td>\n",
       "    </tr>\n",
       "    <tr>\n",
       "      <th>max</th>\n",
       "      <td>1.413848e+06</td>\n",
       "      <td>NaN</td>\n",
       "      <td>NaN</td>\n",
       "      <td>NaN</td>\n",
       "      <td>2020-06-11 17:12:35-04:00</td>\n",
       "      <td>NaN</td>\n",
       "    </tr>\n",
       "    <tr>\n",
       "      <th>std</th>\n",
       "      <td>4.081009e+05</td>\n",
       "      <td>NaN</td>\n",
       "      <td>NaN</td>\n",
       "      <td>NaN</td>\n",
       "      <td>NaN</td>\n",
       "      <td>NaN</td>\n",
       "    </tr>\n",
       "  </tbody>\n",
       "</table>\n",
       "</div>"
      ],
      "text/plain": [
       "          Unnamed: 0                 headline  \\\n",
       "count   1.407328e+06                  1407328   \n",
       "unique           NaN                   845770   \n",
       "top              NaN  Benzinga's Top Upgrades   \n",
       "freq             NaN                     5449   \n",
       "mean    7.072454e+05                      NaN   \n",
       "min     0.000000e+00                      NaN   \n",
       "25%     3.538128e+05                      NaN   \n",
       "50%     7.072395e+05                      NaN   \n",
       "75%     1.060710e+06                      NaN   \n",
       "max     1.413848e+06                      NaN   \n",
       "std     4.081009e+05                      NaN   \n",
       "\n",
       "                                                      url      publisher  \\\n",
       "count                                             1407328        1407328   \n",
       "unique                                             883429           1034   \n",
       "top     https://www.benzinga.com/news/20/03/15538835/s...  Paul Quintaro   \n",
       "freq                                                 1704         228373   \n",
       "mean                                                  NaN            NaN   \n",
       "min                                                   NaN            NaN   \n",
       "25%                                                   NaN            NaN   \n",
       "50%                                                   NaN            NaN   \n",
       "75%                                                   NaN            NaN   \n",
       "max                                                   NaN            NaN   \n",
       "std                                                   NaN            NaN   \n",
       "\n",
       "                                       date    stock  \n",
       "count                                 55987  1407328  \n",
       "unique                                  NaN     6204  \n",
       "top                                     NaN      MRK  \n",
       "freq                                    NaN     3333  \n",
       "mean    2018-09-24 13:13:18.521924864-04:00      NaN  \n",
       "min               2011-04-27 21:01:48-04:00      NaN  \n",
       "25%        2017-06-14 23:40:07.500000-04:00      NaN  \n",
       "50%               2020-01-16 11:22:53-04:00      NaN  \n",
       "75%        2020-05-06 05:34:23.500000-04:00      NaN  \n",
       "max               2020-06-11 17:12:35-04:00      NaN  \n",
       "std                                     NaN      NaN  "
      ]
     },
     "metadata": {},
     "output_type": "display_data"
    },
    {
     "name": "stdout",
     "output_type": "stream",
     "text": [
      "Shape: (1407328, 6)\n",
      "Unique rows: Unnamed: 0    1407328\n",
      "headline       845770\n",
      "url            883429\n",
      "publisher        1034\n",
      "date            36011\n",
      "stock            6204\n",
      "dtype: int64\n",
      "Shape after dropping duplicates: (1407328, 6)\n",
      "Headline length stats:\n",
      " count    1.407328e+06\n",
      "mean     7.312051e+01\n",
      "std      4.073531e+01\n",
      "min      3.000000e+00\n",
      "25%      4.700000e+01\n",
      "50%      6.400000e+01\n",
      "75%      8.700000e+01\n",
      "max      5.120000e+02\n",
      "Name: headline_length, dtype: float64\n",
      "Article count per publisher:\n",
      " publisher\n",
      "Paul Quintaro        228373\n",
      "Lisa Levin           186979\n",
      "Benzinga Newsdesk    150484\n",
      "Charles Gross         96732\n",
      "Monica Gerson         82380\n",
      "                      ...  \n",
      "Matthew Ely               1\n",
      "Frank Ochoa               1\n",
      "Jeremie Capron            1\n",
      "Marvin Dumont             1\n",
      "Igor Gonta                1\n",
      "Name: count, Length: 1034, dtype: int64\n"
     ]
    },
    {
     "name": "stderr",
     "output_type": "stream",
     "text": [
      "C:\\Users\\getde\\AppData\\Local\\Temp\\ipykernel_1720\\2351600344.py:52: UserWarning: Converting to PeriodArray/Index representation will drop timezone information.\n",
      "  df['year_month'] = df['date'].dt.to_period('M')\n"
     ]
    },
    {
     "data": {
      "image/png": "[encoded data removed]",
      "text/plain": [
       "<Figure size 640x480 with 1 Axes>"
      ]
     },
     "metadata": {},
     "output_type": "display_data"
    },
    {
     "data": {
      "image/png": "[encoded data removed]",
      "text/plain": [
       "<Figure size 640x480 with 1 Axes>"
      ]
     },
     "metadata": {},
     "output_type": "display_data"
    },
    {
     "name": "stdout",
     "output_type": "stream",
     "text": [
      "Top publisher domains:\n",
      " publisher_domain\n",
      "Paul Quintaro        228373\n",
      "Lisa Levin           186979\n",
      "Benzinga Newsdesk    150484\n",
      "Charles Gross         96732\n",
      "Monica Gerson         82380\n",
      "Name: count, dtype: int64\n"
     ]
    },
    {
     "data": {
      "text/markdown": [
       "\n",
       "### EDA Report: Analyst Ratings Data\n",
       "\n",
       "**Key Findings:**\n",
       "- Dataset contains 1407328 rows and 9 columns after cleaning.\n",
       "- 1034 unique publishers, top publisher: Paul Quintaro (228373 articles).\n",
       "- Most common topics: N/A.\n",
       "- Publication frequency peaks in 2020-05.\n",
       "\n",
       "**Insights:**\n",
       "- Articles are published most frequently in 2020-05.\n",
       "- Top topics revolve around N/A.\n",
       "- Some publishers dominate the dataset.\n",
       "\n",
       "**Recommendations:**\n",
       "- Optimal publishing times: 2020-05 (based on frequency trends).\n",
       "- Focus on top topics for higher engagement.\n",
       "- Diversify publisher sources for broader coverage.\n"
      ],
      "text/plain": [
       "<IPython.core.display.Markdown object>"
      ]
     },
     "metadata": {},
     "output_type": "display_data"
    }
   ],
   "source": [
    "from textblob import TextBlob\n",
    "from collections import Counter\n",
    "import re\n",
    "from IPython.display import Markdown, display as md_display\n",
    "import pandas as pd\n",
    "import matplotlib.pyplot as plt\n",
    "\n",
    "# Load the dataset\n",
    "df = pd.read_csv('../data/raw_analyst_ratings.csv')\n",
    "\n",
    "# Display first few rows\n",
    "display(df.head())\n",
    "\n",
    "# Dataset info\n",
    "df.info()\n",
    "\n",
    "# Convert date column to datetime\n",
    "df['date'] = pd.to_datetime(df['date'], errors='coerce')\n",
    "\n",
    "# Check for missing values\n",
    "missing = df.isnull().sum()\n",
    "print(\"Missing values:\\n\", missing)\n",
    "\n",
    "# Summary statistics\n",
    "display(df.describe(include='all'))\n",
    "\n",
    "# Shape of the dataset\n",
    "print(\"Shape:\", df.shape)\n",
    "\n",
    "# Check uniqueness\n",
    "print(\"Unique rows:\", df.nunique())\n",
    "\n",
    "# Drop duplicated rows\n",
    "df = df.drop_duplicates()\n",
    "print(\"Shape after dropping duplicates:\", df.shape)\n",
    "# Basic statistics on headline lengths\n",
    "df['headline_length'] = df['headline'].astype(str).apply(len)\n",
    "print(\"Headline length stats:\\n\", df['headline_length'].describe())\n",
    "\n",
    "# Basic statistics on textual lengths\n",
    "if 'article' in df.columns:\n",
    "    df['article_length'] = df['article'].astype(str).apply(len)\n",
    "    print(\"Article length stats:\\n\", df['article_length'].describe())\n",
    "\n",
    "# Article count per publisher\n",
    "if 'publisher' in df.columns:\n",
    "    publisher_counts = df['publisher'].value_counts()\n",
    "    print(\"Article count per publisher:\\n\", publisher_counts)\n",
    "\n",
    "# Publication date trends\n",
    "if 'date' in df.columns:\n",
    "    df['year_month'] = df['date'].dt.to_period('M')\n",
    "    pub_trend = df['year_month'].value_counts().sort_index()\n",
    "    pub_trend.plot(kind='line', title='Publication Trend Over Time')\n",
    "    plt.xlabel('Year-Month')\n",
    "    plt.ylabel('Article Count')\n",
    "    plt.show()\n",
    "\n",
    "# Topic modeling using NLP\n",
    "if 'article' in df.columns:\n",
    "    df['article_clean'] = df['article'].astype(str).str.lower()\n",
    "    # Simple topic extraction using noun phrases\n",
    "    df['noun_phrases'] = df['article_clean'].apply(lambda x: TextBlob(x).noun_phrases)\n",
    "    all_phrases = [phrase for phrases in df['noun_phrases'] for phrase in phrases]\n",
    "    common_phrases = Counter(all_phrases).most_common(10)\n",
    "    print(\"Top 10 noun phrases (topics):\", common_phrases)\n",
    "\n",
    "# Time series analysis of publication frequency\n",
    "if 'date' in df.columns:\n",
    "    freq = df.set_index('date').resample('W').size()\n",
    "    freq.plot(title='Weekly Publication Frequency')\n",
    "    plt.xlabel('Week')\n",
    "    plt.ylabel('Number of Articles')\n",
    "    plt.show()\n",
    "\n",
    "# Publisher analysis, including domain extraction\n",
    "if 'publisher' in df.columns:\n",
    "    df['publisher_domain'] = df['publisher'].astype(str).apply(lambda x: re.findall(r'[\\w\\.-]+\\.\\w+', x)[0] if re.findall(r'[\\w\\.-]+\\.\\w+', x) else x)\n",
    "    domain_counts = df['publisher_domain'].value_counts()\n",
    "    print(\"Top publisher domains:\\n\", domain_counts.head())\n",
    "\n",
    "# Concise Report\n",
    "\n",
    "report = \"\"\"\n",
    "### EDA Report: Analyst Ratings Data\n",
    "\n",
    "**Key Findings:**\n",
    "- Dataset contains {} rows and {} columns after cleaning.\n",
    "- {} unique publishers, top publisher: {} ({} articles).\n",
    "- Most common topics: {}.\n",
    "- Publication frequency peaks in {}.\n",
    "\n",
    "**Insights:**\n",
    "- Articles are published most frequently in {}.\n",
    "- Top topics revolve around {}.\n",
    "- Some publishers dominate the dataset.\n",
    "\n",
    "**Recommendations:**\n",
    "- Optimal publishing times: {} (based on frequency trends).\n",
    "- Focus on top topics for higher engagement.\n",
    "- Diversify publisher sources for broader coverage.\n",
    "\"\"\".format(\n",
    "    df.shape[0], df.shape[1],\n",
    "    df['publisher'].nunique() if 'publisher' in df.columns else 'N/A',\n",
    "    publisher_counts.index[0] if 'publisher' in df.columns else 'N/A',\n",
    "    publisher_counts.iloc[0] if 'publisher' in df.columns else 'N/A',\n",
    "    ', '.join([p[0] for p in common_phrases]) if 'article' in df.columns else 'N/A',\n",
    "    pub_trend.idxmax() if 'date' in df.columns else 'N/A',\n",
    "    pub_trend.idxmax() if 'date' in df.columns else 'N/A',\n",
    "    ', '.join([p[0] for p in common_phrases[:3]]) if 'article' in df.columns else 'N/A',\n",
    "    pub_trend.idxmax() if 'date' in df.columns else 'N/A'\n",
    ")\n",
    "md_display(Markdown(report))"
   ]
  },
  {
   "cell_type": "code",
   "execution_count": 9,
   "id": "1b991d30",
   "metadata": {},
   "outputs": [
    {
     "name": "stdout",
     "output_type": "stream",
     "text": [
      "Requirement already satisfied: pandas in d:\\kifiya ai master training program 5 6 &7\\predict-price-moves-with-news-sentiment\\.desvenv\\lib\\site-packages (2.2.3)\n",
      "Requirement already satisfied: matplotlib in d:\\kifiya ai master training program 5 6 &7\\predict-price-moves-with-news-sentiment\\.desvenv\\lib\\site-packages (3.10.3)\n",
      "Requirement already satisfied: textblob in d:\\kifiya ai master training program 5 6 &7\\predict-price-moves-with-news-sentiment\\.desvenv\\lib\\site-packages (0.19.0)\n",
      "Requirement already satisfied: numpy>=1.26.0 in d:\\kifiya ai master training program 5 6 &7\\predict-price-moves-with-news-sentiment\\.desvenv\\lib\\site-packages (from pandas) (2.2.6)\n",
      "Requirement already satisfied: python-dateutil>=2.8.2 in d:\\kifiya ai master training program 5 6 &7\\predict-price-moves-with-news-sentiment\\.desvenv\\lib\\site-packages (from pandas) (2.9.0.post0)\n",
      "Requirement already satisfied: pytz>=2020.1 in d:\\kifiya ai master training program 5 6 &7\\predict-price-moves-with-news-sentiment\\.desvenv\\lib\\site-packages (from pandas) (2025.2)\n",
      "Requirement already satisfied: tzdata>=2022.7 in d:\\kifiya ai master training program 5 6 &7\\predict-price-moves-with-news-sentiment\\.desvenv\\lib\\site-packages (from pandas) (2025.2)\n",
      "Requirement already satisfied: contourpy>=1.0.1 in d:\\kifiya ai master training program 5 6 &7\\predict-price-moves-with-news-sentiment\\.desvenv\\lib\\site-packages (from matplotlib) (1.3.2)\n",
      "Requirement already satisfied: cycler>=0.10 in d:\\kifiya ai master training program 5 6 &7\\predict-price-moves-with-news-sentiment\\.desvenv\\lib\\site-packages (from matplotlib) (0.12.1)\n",
      "Requirement already satisfied: fonttools>=4.22.0 in d:\\kifiya ai master training program 5 6 &7\\predict-price-moves-with-news-sentiment\\.desvenv\\lib\\site-packages (from matplotlib) (4.58.1)\n",
      "Requirement already satisfied: kiwisolver>=1.3.1 in d:\\kifiya ai master training program 5 6 &7\\predict-price-moves-with-news-sentiment\\.desvenv\\lib\\site-packages (from matplotlib) (1.4.8)\n",
      "Requirement already satisfied: packaging>=20.0 in d:\\kifiya ai master training program 5 6 &7\\predict-price-moves-with-news-sentiment\\.desvenv\\lib\\site-packages (from matplotlib) (25.0)\n",
      "Requirement already satisfied: pillow>=8 in d:\\kifiya ai master training program 5 6 &7\\predict-price-moves-with-news-sentiment\\.desvenv\\lib\\site-packages (from matplotlib) (11.2.1)\n",
      "Requirement already satisfied: pyparsing>=2.3.1 in d:\\kifiya ai master training program 5 6 &7\\predict-price-moves-with-news-sentiment\\.desvenv\\lib\\site-packages (from matplotlib) (3.2.3)\n",
      "Requirement already satisfied: nltk>=3.9 in d:\\kifiya ai master training program 5 6 &7\\predict-price-moves-with-news-sentiment\\.desvenv\\lib\\site-packages (from textblob) (3.9.1)\n",
      "Requirement already satisfied: click in d:\\kifiya ai master training program 5 6 &7\\predict-price-moves-with-news-sentiment\\.desvenv\\lib\\site-packages (from nltk>=3.9->textblob) (8.2.1)\n",
      "Requirement already satisfied: joblib in d:\\kifiya ai master training program 5 6 &7\\predict-price-moves-with-news-sentiment\\.desvenv\\lib\\site-packages (from nltk>=3.9->textblob) (1.5.1)\n",
      "Requirement already satisfied: regex>=2021.8.3 in d:\\kifiya ai master training program 5 6 &7\\predict-price-moves-with-news-sentiment\\.desvenv\\lib\\site-packages (from nltk>=3.9->textblob) (2024.11.6)\n",
      "Requirement already satisfied: tqdm in d:\\kifiya ai master training program 5 6 &7\\predict-price-moves-with-news-sentiment\\.desvenv\\lib\\site-packages (from nltk>=3.9->textblob) (4.67.1)\n",
      "Requirement already satisfied: six>=1.5 in d:\\kifiya ai master training program 5 6 &7\\predict-price-moves-with-news-sentiment\\.desvenv\\lib\\site-packages (from python-dateutil>=2.8.2->pandas) (1.17.0)\n",
      "Requirement already satisfied: colorama in d:\\kifiya ai master training program 5 6 &7\\predict-price-moves-with-news-sentiment\\.desvenv\\lib\\site-packages (from click->nltk>=3.9->textblob) (0.4.6)\n",
      "Note: you may need to restart the kernel to use updated packages.\n"
     ]
    },
    {
     "name": "stderr",
     "output_type": "stream",
     "text": [
      "\n",
      "[notice] A new release of pip is available: 25.0.1 -> 25.1.1\n",
      "[notice] To update, run: python.exe -m pip install --upgrade pip\n"
     ]
    }
   ],
   "source": [
    "%pip install pandas matplotlib textblob "
   ]
  },
  {
   "cell_type": "code",
   "execution_count": null,
   "id": "2a17704a",
   "metadata": {},
   "outputs": [],
   "source": []
  },
  {
   "cell_type": "code",
   "execution_count": 10,
   "id": "c4c32e21",
   "metadata": {},
   "outputs": [
    {
     "name": "stdout",
     "output_type": "stream",
     "text": [
      "No 'article' column available for topic extraction.\n"
     ]
    }
   ],
   "source": [
    "from collections import Counter\n",
    "from textblob import TextBlob\n",
    "\n",
    "# Calculate most common topics using noun phrases from article text if available\n",
    "if 'article' in df.columns:\n",
    "\n",
    "    # Clean and extract noun phrases\n",
    "    df['article_clean'] = df['article'].astype(str).str.lower()\n",
    "    df['noun_phrases'] = df['article_clean'].apply(lambda x: TextBlob(x).noun_phrases)\n",
    "    all_phrases = [phrase for phrases in df['noun_phrases'] for phrase in phrases]\n",
    "    common_topics = Counter(all_phrases).most_common(10)\n",
    "    print(\"Most common topics:\", common_topics)\n",
    "else:\n",
    "    print(\"No 'article' column available for topic extraction.\")"
   ]
  },
  {
   "cell_type": "code",
   "execution_count": null,
   "id": "59414289",
   "metadata": {},
   "outputs": [],
   "source": []
  },
  {
   "cell_type": "code",
   "execution_count": 2,
   "id": "04d1c472",
   "metadata": {},
   "outputs": [
    {
     "name": "stderr",
     "output_type": "stream",
     "text": [
      "\n",
      "[notice] A new release of pip is available: 25.0.1 -> 25.1.1\n",
      "[notice] To update, run: python.exe -m pip install --upgrade pip\n"
     ]
    },
    {
     "name": "stdout",
     "output_type": "stream",
     "text": [
      "Collecting seaborn\n",
      "  Using cached seaborn-0.13.2-py3-none-any.whl.metadata (5.4 kB)\n",
      "Collecting scikit-learn\n",
      "  Using cached scikit_learn-1.6.1-cp313-cp313-win_amd64.whl.metadata (15 kB)\n",
      "Requirement already satisfied: numpy!=1.24.0,>=1.20 in d:\\kifiya ai master training program 5 6 &7\\predict-price-moves-with-news-sentiment\\.desvenv\\lib\\site-packages (from seaborn) (2.2.6)\n",
      "Requirement already satisfied: pandas>=1.2 in d:\\kifiya ai master training program 5 6 &7\\predict-price-moves-with-news-sentiment\\.desvenv\\lib\\site-packages (from seaborn) (2.2.3)\n",
      "Requirement already satisfied: matplotlib!=3.6.1,>=3.4 in d:\\kifiya ai master training program 5 6 &7\\predict-price-moves-with-news-sentiment\\.desvenv\\lib\\site-packages (from seaborn) (3.10.3)\n",
      "Collecting scipy>=1.6.0 (from scikit-learn)\n",
      "  Using cached scipy-1.15.3-cp313-cp313-win_amd64.whl.metadata (60 kB)\n",
      "Requirement already satisfied: joblib>=1.2.0 in d:\\kifiya ai master training program 5 6 &7\\predict-price-moves-with-news-sentiment\\.desvenv\\lib\\site-packages (from scikit-learn) (1.5.1)\n",
      "Collecting threadpoolctl>=3.1.0 (from scikit-learn)\n",
      "  Using cached threadpoolctl-3.6.0-py3-none-any.whl.metadata (13 kB)\n",
      "Requirement already satisfied: contourpy>=1.0.1 in d:\\kifiya ai master training program 5 6 &7\\predict-price-moves-with-news-sentiment\\.desvenv\\lib\\site-packages (from matplotlib!=3.6.1,>=3.4->seaborn) (1.3.2)\n",
      "Requirement already satisfied: cycler>=0.10 in d:\\kifiya ai master training program 5 6 &7\\predict-price-moves-with-news-sentiment\\.desvenv\\lib\\site-packages (from matplotlib!=3.6.1,>=3.4->seaborn) (0.12.1)\n",
      "Requirement already satisfied: fonttools>=4.22.0 in d:\\kifiya ai master training program 5 6 &7\\predict-price-moves-with-news-sentiment\\.desvenv\\lib\\site-packages (from matplotlib!=3.6.1,>=3.4->seaborn) (4.58.1)\n",
      "Requirement already satisfied: kiwisolver>=1.3.1 in d:\\kifiya ai master training program 5 6 &7\\predict-price-moves-with-news-sentiment\\.desvenv\\lib\\site-packages (from matplotlib!=3.6.1,>=3.4->seaborn) (1.4.8)\n",
      "Requirement already satisfied: packaging>=20.0 in d:\\kifiya ai master training program 5 6 &7\\predict-price-moves-with-news-sentiment\\.desvenv\\lib\\site-packages (from matplotlib!=3.6.1,>=3.4->seaborn) (25.0)\n",
      "Requirement already satisfied: pillow>=8 in d:\\kifiya ai master training program 5 6 &7\\predict-price-moves-with-news-sentiment\\.desvenv\\lib\\site-packages (from matplotlib!=3.6.1,>=3.4->seaborn) (11.2.1)\n",
      "Requirement already satisfied: pyparsing>=2.3.1 in d:\\kifiya ai master training program 5 6 &7\\predict-price-moves-with-news-sentiment\\.desvenv\\lib\\site-packages (from matplotlib!=3.6.1,>=3.4->seaborn) (3.2.3)\n",
      "Requirement already satisfied: python-dateutil>=2.7 in d:\\kifiya ai master training program 5 6 &7\\predict-price-moves-with-news-sentiment\\.desvenv\\lib\\site-packages (from matplotlib!=3.6.1,>=3.4->seaborn) (2.9.0.post0)\n",
      "Requirement already satisfied: pytz>=2020.1 in d:\\kifiya ai master training program 5 6 &7\\predict-price-moves-with-news-sentiment\\.desvenv\\lib\\site-packages (from pandas>=1.2->seaborn) (2025.2)\n",
      "Requirement already satisfied: tzdata>=2022.7 in d:\\kifiya ai master training program 5 6 &7\\predict-price-moves-with-news-sentiment\\.desvenv\\lib\\site-packages (from pandas>=1.2->seaborn) (2025.2)\n",
      "Requirement already satisfied: six>=1.5 in d:\\kifiya ai master training program 5 6 &7\\predict-price-moves-with-news-sentiment\\.desvenv\\lib\\site-packages (from python-dateutil>=2.7->matplotlib!=3.6.1,>=3.4->seaborn) (1.17.0)\n",
      "Using cached seaborn-0.13.2-py3-none-any.whl (294 kB)\n",
      "Using cached scikit_learn-1.6.1-cp313-cp313-win_amd64.whl (11.1 MB)\n",
      "Using cached scipy-1.15.3-cp313-cp313-win_amd64.whl (41.0 MB)\n",
      "Using cached threadpoolctl-3.6.0-py3-none-any.whl (18 kB)\n",
      "Installing collected packages: threadpoolctl, scipy, scikit-learn, seaborn\n",
      "Successfully installed scikit-learn-1.6.1 scipy-1.15.3 seaborn-0.13.2 threadpoolctl-3.6.0\n",
      "Note: you may need to restart the kernel to use updated packages.\n"
     ]
    }
   ],
   "source": [
    "%pip install seaborn scikit-learn\n",
    "\n",
    "import re\n",
    "import nltk\n",
    "import pandas as pd\n",
    "import seaborn as sns\n",
    "from collections import Counter\n",
    "import matplotlib.pyplot as plt\n",
    "from nltk.corpus import stopwords\n",
    "from sklearn.feature_extraction.text import CountVectorizer\n",
    "from sklearn.decomposition import LatentDirichletAllocation"
   ]
  },
  {
   "cell_type": "code",
   "execution_count": 3,
   "id": "9c39d44e",
   "metadata": {},
   "outputs": [
    {
     "name": "stdout",
     "output_type": "stream",
     "text": [
      "   Unnamed: 0                                           headline  \\\n",
      "0           0            Stocks That Hit 52-Week Highs On Friday   \n",
      "1           1         Stocks That Hit 52-Week Highs On Wednesday   \n",
      "2           2                      71 Biggest Movers From Friday   \n",
      "3           3       46 Stocks Moving In Friday's Mid-Day Session   \n",
      "4           4  B of A Securities Maintains Neutral on Agilent...   \n",
      "\n",
      "                                                 url          publisher  \\\n",
      "0  https://www.benzinga.com/news/20/06/16190091/s...  Benzinga Insights   \n",
      "1  https://www.benzinga.com/news/20/06/16170189/s...  Benzinga Insights   \n",
      "2  https://www.benzinga.com/news/20/05/16103463/7...         Lisa Levin   \n",
      "3  https://www.benzinga.com/news/20/05/16095921/4...         Lisa Levin   \n",
      "4  https://www.benzinga.com/news/20/05/16095304/b...         Vick Meyer   \n",
      "\n",
      "                        date stock  \n",
      "0  2020-06-05 10:30:54-04:00     A  \n",
      "1  2020-06-03 10:45:20-04:00     A  \n",
      "2  2020-05-26 04:30:07-04:00     A  \n",
      "3  2020-05-22 12:45:06-04:00     A  \n",
      "4  2020-05-22 11:38:59-04:00     A  \n"
     ]
    }
   ],
   "source": [
    "df = pd.read_csv('../data/raw_analyst_ratings.csv')\n",
    "# Display the first few rows of the data\n",
    "print(df.head())"
   ]
  },
  {
   "cell_type": "markdown",
   "id": "2ed1cd4f",
   "metadata": {},
   "source": [
    "Descriptive statistics\n"
   ]
  },
  {
   "cell_type": "code",
   "execution_count": 4,
   "id": "314df0e8",
   "metadata": {},
   "outputs": [],
   "source": [
    "# Convert the date column to datetime format\n",
    "# Using format='%Y-%m-%d %H:%M:%S' to match the data format\n",
    "df['date'] = pd.to_datetime(df['date'], format='%Y-%m-%d %H:%M:%S', errors='coerce', utc=True)\n"
   ]
  },
  {
   "cell_type": "code",
   "execution_count": 5,
   "id": "dbb2612e",
   "metadata": {},
   "outputs": [
    {
     "name": "stdout",
     "output_type": "stream",
     "text": [
      "Descriptive Statistics for Headline Lengths:\n",
      "count    1.407328e+06\n",
      "mean     7.312051e+01\n",
      "std      4.073531e+01\n",
      "min      3.000000e+00\n",
      "25%      4.700000e+01\n",
      "50%      6.400000e+01\n",
      "75%      8.700000e+01\n",
      "max      5.120000e+02\n",
      "Name: headline_length, dtype: float64\n"
     ]
    },
    {
     "data": {
      "image/png": "[encoded data removed]",
      "text/plain": [
       "<Figure size 1000x600 with 1 Axes>"
      ]
     },
     "metadata": {},
     "output_type": "display_data"
    }
   ],
   "source": [
    "# Task 1: Descriptive Statistics for textual lengths (like headline length)\n",
    "df['headline_length'] = df['headline'].apply(len)\n",
    "headline_stats = df['headline_length'].describe()\n",
    "print(\"Descriptive Statistics for Headline Lengths:\")\n",
    "print(headline_stats)\n",
    "\n",
    "# Visualize the distribution of headline lengths\n",
    "plt.figure(figsize=(10, 6))\n",
    "sns.histplot(df['headline_length'], bins=30, kde=True)\n",
    "plt.title('Distribution of Headline Lengths')\n",
    "plt.xlabel('Headline Length')\n",
    "plt.ylabel('Frequency')\n",
    "plt.show()\n"
   ]
  },
  {
   "cell_type": "code",
   "execution_count": 7,
   "id": "4cb87762",
   "metadata": {},
   "outputs": [
    {
     "name": "stdout",
     "output_type": "stream",
     "text": [
      "\n",
      "Number of Articles per Publisher:\n",
      "publisher\n",
      "Paul Quintaro        228373\n",
      "Lisa Levin           186979\n",
      "Benzinga Newsdesk    150484\n",
      "Charles Gross         96732\n",
      "Monica Gerson         82380\n",
      "                      ...  \n",
      "Matthew Ely               1\n",
      "Frank Ochoa               1\n",
      "Jeremie Capron            1\n",
      "Marvin Dumont             1\n",
      "Igor Gonta                1\n",
      "Name: count, Length: 1034, dtype: int64\n"
     ]
    },
    {
     "data": {
      "image/png": "[encoded data removed]",
      "text/plain": [
       "<Figure size 1000x600 with 1 Axes>"
      ]
     },
     "metadata": {},
     "output_type": "display_data"
    }
   ],
   "source": [
    "# Task 2: Count the number of articles per publisher\n",
    "publisher_counts = df['publisher'].value_counts()\n",
    "print(\"\\nNumber of Articles per Publisher:\")\n",
    "print(publisher_counts)\n",
    "\n",
    "# Visualize the number of articles per publisher\n",
    "plt.figure(figsize=(10, 6))\n",
    "publisher_counts.plot(kind='bar')\n",
    "plt.title('Number of Articles per Publisher')\n",
    "plt.xlabel('Publisher')\n",
    "plt.ylabel('Number of Articles')\n",
    "plt.xticks(rotation=45)\n",
    "plt.show()"
   ]
  },
  {
   "cell_type": "code",
   "execution_count": 8,
   "id": "9fd5c65f",
   "metadata": {},
   "outputs": [
    {
     "name": "stdout",
     "output_type": "stream",
     "text": [
      "\n",
      "Number of Articles Published Over Time:\n",
      "publication_date\n",
      "2009-02-14      1\n",
      "2009-04-27      2\n",
      "2009-04-29      1\n",
      "2009-05-22      1\n",
      "2009-05-27      6\n",
      "             ... \n",
      "2020-05-30     14\n",
      "2020-05-31     17\n",
      "2020-06-01    205\n",
      "2020-06-02    183\n",
      "2020-06-03     69\n",
      "Length: 3946, dtype: int64\n"
     ]
    },
    {
     "data": {
      "image/png": "[encoded data removed]",
      "text/plain": [
       "<Figure size 1000x600 with 1 Axes>"
      ]
     },
     "metadata": {},
     "output_type": "display_data"
    }
   ],
   "source": [
    "# Task 3: Analyze publication dates to see trends over time\n",
    "# Extracting the date part (ignoring the time)\n",
    "df['publication_date'] = df['date'].dt.date\n",
    "df['day_of_week'] = df['date'].dt.day_name()\n",
    "\n",
    "# Group by date to get the number of articles per day\n",
    "articles_per_day = df.groupby('publication_date').size()\n",
    "\n",
    "print(\"\\nNumber of Articles Published Over Time:\")\n",
    "print(articles_per_day)\n",
    "\n",
    "# Visualize the number of articles over time\n",
    "plt.figure(figsize=(10, 6))\n",
    "articles_per_day.plot(kind='line')\n",
    "plt.title('Number of Articles Published Over Time')\n",
    "plt.xlabel('Date')\n",
    "plt.ylabel('Number of Articles')\n",
    "plt.show()"
   ]
  },
  {
   "cell_type": "code",
   "execution_count": 9,
   "id": "d225bdeb",
   "metadata": {},
   "outputs": [
    {
     "name": "stdout",
     "output_type": "stream",
     "text": [
      "\n",
      "Number of Articles by Day of the Week:\n",
      "day_of_week\n",
      "Monday       254842\n",
      "Tuesday      285468\n",
      "Wednesday    289049\n",
      "Thursday     289907\n",
      "Friday       208511\n",
      "Saturday       7486\n",
      "Sunday        16078\n",
      "Name: count, dtype: int64\n"
     ]
    },
    {
     "data": {
      "image/png": "[encoded data removed]",
      "text/plain": [
       "<Figure size 1000x600 with 1 Axes>"
      ]
     },
     "metadata": {},
     "output_type": "display_data"
    }
   ],
   "source": [
    "# Analyze the number of articles by day of the week\n",
    "articles_by_day = df['day_of_week'].value_counts().reindex(['Monday', 'Tuesday', 'Wednesday', 'Thursday', 'Friday', 'Saturday', 'Sunday'])\n",
    "print(\"\\nNumber of Articles by Day of the Week:\")\n",
    "print(articles_by_day)\n",
    "\n",
    "# Visualize the number of articles by day of the week\n",
    "plt.figure(figsize=(10, 6))\n",
    "articles_by_day.plot(kind='bar')\n",
    "plt.title('Number of Articles by Day of the Week')\n",
    "plt.xlabel('Day of the Week')\n",
    "plt.ylabel('Number of Articles')\n",
    "plt.show()"
   ]
  },
  {
   "cell_type": "markdown",
   "id": "b83a8267",
   "metadata": {},
   "source": [
    "Text Analysis(Sentiment analysis & Topic Modeling):\n"
   ]
  },
  {
   "cell_type": "code",
   "execution_count": 10,
   "id": "c52da562",
   "metadata": {},
   "outputs": [
    {
     "name": "stderr",
     "output_type": "stream",
     "text": [
      "[nltk_data] Downloading package vader_lexicon to\n",
      "[nltk_data]     C:\\Users\\getde\\AppData\\Roaming\\nltk_data...\n",
      "[nltk_data]   Package vader_lexicon is already up-to-date!\n"
     ]
    },
    {
     "data": {
      "text/plain": [
       "True"
      ]
     },
     "execution_count": 10,
     "metadata": {},
     "output_type": "execute_result"
    }
   ],
   "source": [
    "import nltk\n",
    "nltk.download('vader_lexicon')"
   ]
  },
  {
   "cell_type": "code",
   "execution_count": 11,
   "id": "a22ed22e",
   "metadata": {},
   "outputs": [
    {
     "name": "stdout",
     "output_type": "stream",
     "text": [
      "Unnamed: 0              0\n",
      "headline                0\n",
      "url                     0\n",
      "publisher               0\n",
      "date                55987\n",
      "stock                   0\n",
      "headline_length         0\n",
      "publication_date    55987\n",
      "day_of_week         55987\n",
      "dtype: int64\n"
     ]
    }
   ],
   "source": [
    "print(df.isnull().sum())\n"
   ]
  },
  {
   "cell_type": "code",
   "execution_count": 12,
   "id": "e0aeb930",
   "metadata": {},
   "outputs": [
    {
     "name": "stdout",
     "output_type": "stream",
     "text": [
      "<class 'pandas.core.frame.DataFrame'>\n",
      "RangeIndex: 1407328 entries, 0 to 1407327\n",
      "Data columns (total 9 columns):\n",
      " #   Column            Non-Null Count    Dtype              \n",
      "---  ------            --------------    -----              \n",
      " 0   Unnamed: 0        1407328 non-null  int64              \n",
      " 1   headline          1407328 non-null  object             \n",
      " 2   url               1407328 non-null  object             \n",
      " 3   publisher         1407328 non-null  object             \n",
      " 4   date              1351341 non-null  datetime64[ns, UTC]\n",
      " 5   stock             1407328 non-null  object             \n",
      " 6   headline_length   1407328 non-null  int64              \n",
      " 7   publication_date  1351341 non-null  object             \n",
      " 8   day_of_week       1351341 non-null  object             \n",
      "dtypes: datetime64[ns, UTC](1), int64(2), object(6)\n",
      "memory usage: 96.6+ MB\n"
     ]
    }
   ],
   "source": [
    "df.info()\n"
   ]
  },
  {
   "cell_type": "code",
   "execution_count": 13,
   "id": "d507705b",
   "metadata": {},
   "outputs": [
    {
     "data": {
      "text/plain": [
       "(1407328, 9)"
      ]
     },
     "execution_count": 13,
     "metadata": {},
     "output_type": "execute_result"
    }
   ],
   "source": [
    "df.shape\n",
    "\n"
   ]
  },
  {
   "cell_type": "code",
   "execution_count": 14,
   "id": "e33f3e93",
   "metadata": {},
   "outputs": [
    {
     "name": "stdout",
     "output_type": "stream",
     "text": [
      "1351341\n"
     ]
    }
   ],
   "source": [
    "time_data = df['date'].apply(lambda x: pd.notna(x) and isinstance(x, pd.Timestamp) and x.time() != pd.Timestamp.min.time())\n",
    "print(time_data.sum())"
   ]
  },
  {
   "cell_type": "code",
   "execution_count": 15,
   "id": "51b969be",
   "metadata": {},
   "outputs": [],
   "source": [
    "sentiment_data=df.copy()\n"
   ]
  },
  {
   "cell_type": "code",
   "execution_count": 16,
   "id": "e8735407",
   "metadata": {},
   "outputs": [],
   "source": [
    "from nltk.sentiment.vader import SentimentIntensityAnalyzer\n",
    "sia = SentimentIntensityAnalyzer()"
   ]
  },
  {
   "cell_type": "code",
   "execution_count": 17,
   "id": "6f30e4c8",
   "metadata": {},
   "outputs": [],
   "source": [
    "# Calculate the sentiment of the headlines\n",
    "sentiment_data['sentiment'] = sentiment_data['headline'].apply(lambda x: sia.polarity_scores(text=x)['compound'])"
   ]
  },
  {
   "cell_type": "code",
   "execution_count": null,
   "id": "05fbe756",
   "metadata": {},
   "outputs": [],
   "source": [
    "sentiment_data = sentiment_data['date'].dt.date\n",
    "sentiment_data = sentiment_data['date'].dt.time"
   ]
  },
  {
   "cell_type": "code",
   "execution_count": 22,
   "id": "f3c418d5",
   "metadata": {},
   "outputs": [
    {
     "data": {
      "application/vnd.microsoft.datawrangler.viewer.v0+json": {
       "columns": [
        {
         "name": "index",
         "rawType": "int64",
         "type": "integer"
        },
        {
         "name": "Unnamed: 0",
         "rawType": "int64",
         "type": "integer"
        },
        {
         "name": "headline",
         "rawType": "object",
         "type": "string"
        },
        {
         "name": "url",
         "rawType": "object",
         "type": "string"
        },
        {
         "name": "publisher",
         "rawType": "object",
         "type": "string"
        },
        {
         "name": "date",
         "rawType": "datetime64[ns, UTC]",
         "type": "unknown"
        },
        {
         "name": "stock",
         "rawType": "object",
         "type": "string"
        },
        {
         "name": "headline_length",
         "rawType": "int64",
         "type": "integer"
        },
        {
         "name": "publication_date",
         "rawType": "object",
         "type": "unknown"
        },
        {
         "name": "day_of_week",
         "rawType": "object",
         "type": "unknown"
        },
        {
         "name": "sentiment",
         "rawType": "float64",
         "type": "float"
        },
        {
         "name": "sentiment_category",
         "rawType": "category",
         "type": "unknown"
        }
       ],
       "ref": "999bad78-a881-4423-a966-c38e49bcfb51",
       "rows": [
        [
         "0",
         "0",
         "Stocks That Hit 52-Week Highs On Friday",
         "https://www.benzinga.com/news/20/06/16190091/stocks-that-hit-52-week-highs-on-friday",
         "Benzinga Insights",
         null,
         "A",
         "39",
         null,
         null,
         "0.0",
         "Neutral"
        ],
        [
         "1",
         "1",
         "Stocks That Hit 52-Week Highs On Wednesday",
         "https://www.benzinga.com/news/20/06/16170189/stocks-that-hit-52-week-highs-on-wednesday",
         "Benzinga Insights",
         null,
         "A",
         "42",
         null,
         null,
         "0.0",
         "Neutral"
        ],
        [
         "2",
         "2",
         "71 Biggest Movers From Friday",
         "https://www.benzinga.com/news/20/05/16103463/71-biggest-movers-from-friday",
         "Lisa Levin",
         null,
         "A",
         "29",
         null,
         null,
         "0.0",
         "Neutral"
        ],
        [
         "3",
         "3",
         "46 Stocks Moving In Friday's Mid-Day Session",
         "https://www.benzinga.com/news/20/05/16095921/46-stocks-moving-in-fridays-mid-day-session",
         "Lisa Levin",
         null,
         "A",
         "44",
         null,
         null,
         "0.0",
         "Neutral"
        ],
        [
         "4",
         "4",
         "B of A Securities Maintains Neutral on Agilent Technologies, Raises Price Target to $88",
         "https://www.benzinga.com/news/20/05/16095304/b-of-a-securities-maintains-neutral-on-agilent-technologies-raises-price-target-to-88",
         "Vick Meyer",
         null,
         "A",
         "87",
         null,
         null,
         "0.296",
         "Neutral"
        ],
        [
         "5",
         "5",
         "CFRA Maintains Hold on Agilent Technologies, Lowers Price Target to $85",
         "https://www.benzinga.com/news/20/05/16095163/cfra-maintains-hold-on-agilent-technologies-lowers-price-target-to-85",
         "vishwanath@benzinga.com",
         null,
         "A",
         "71",
         null,
         null,
         "-0.128",
         "Negative"
        ],
        [
         "6",
         "6",
         "UBS Maintains Neutral on Agilent Technologies, Raises Price Target to $87",
         "https://www.benzinga.com/news/20/05/16094027/ubs-maintains-neutral-on-agilent-technologies-raises-price-target-to-87",
         "vishwanath@benzinga.com",
         null,
         "A",
         "73",
         null,
         null,
         "0.0",
         "Neutral"
        ],
        [
         "7",
         "7",
         "Agilent Technologies shares are trading higher after the company reported better-than-expected Q2 EPS and sales results.",
         "https://www.benzinga.com/wiim/20/05/16093805/agilent-technologies-shares-are-trading-higher-after-the-company-reported-better-than-expected-q2-ep",
         "Benzinga Newsdesk",
         null,
         "A",
         "120",
         null,
         null,
         "0.296",
         "Neutral"
        ],
        [
         "8",
         "8",
         "Wells Fargo Maintains Overweight on Agilent Technologies, Raises Price Target to $95",
         "https://www.benzinga.com/news/20/05/16093505/wells-fargo-maintains-overweight-on-agilent-technologies-raises-price-target-to-95",
         "vishwanath@benzinga.com",
         null,
         "A",
         "84",
         null,
         null,
         "-0.128",
         "Negative"
        ],
        [
         "9",
         "9",
         "10 Biggest Price Target Changes For Friday",
         "https://www.benzinga.com/analyst-ratings/price-target/20/05/16093262/10-biggest-price-target-changes-for-friday",
         "Lisa Levin",
         null,
         "A",
         "42",
         null,
         null,
         "0.0",
         "Neutral"
        ],
        [
         "10",
         "10",
         "30 Stocks Moving in Friday's Pre-Market Session",
         "https://www.benzinga.com/news/20/05/16092879/30-stocks-moving-in-fridays-pre-market-session",
         "Lisa Levin",
         "2020-05-22 00:00:00+00:00",
         "A",
         "47",
         "2020-05-22",
         "Friday",
         "0.0",
         "Neutral"
        ],
        [
         "11",
         "11",
         "SVB Leerink Maintains Outperform on Agilent Technologies, Raises Price Target to $95",
         "https://www.benzinga.com/news/20/05/16092270/svb-leerink-maintains-outperform-on-agilent-technologies-raises-price-target-to-95",
         "vishwanath@benzinga.com",
         "2020-05-22 00:00:00+00:00",
         "A",
         "84",
         "2020-05-22",
         "Friday",
         "0.0",
         "Neutral"
        ],
        [
         "12",
         "12",
         "8 Stocks Moving In Thursday's After-Hours Session",
         "https://www.benzinga.com/news/20/05/16089803/8-stocks-moving-in-thursdays-after-hours-session",
         "Tyree Gorges",
         "2020-05-21 00:00:00+00:00",
         "A",
         "49",
         "2020-05-21",
         "Thursday",
         "0.0",
         "Neutral"
        ],
        [
         "13",
         "13",
         "Agilent Technologies shares are trading higher after the company reported better-than-expected Q2 EPS and sales results.",
         "https://www.benzinga.com/wiim/20/05/16089218/agilent-technologies-shares-are-trading-higher-after-the-company-reported-better-than-expected-q2-ep",
         "Benzinga Newsdesk",
         "2020-05-21 00:00:00+00:00",
         "A",
         "120",
         "2020-05-21",
         "Thursday",
         "0.296",
         "Neutral"
        ],
        [
         "14",
         "14",
         "Agilent Technologies Q2 Adj. EPS $0.71 Beats $0.61 Estimate, Sales $1.24B Beat $1.21B Estimate",
         "https://www.benzinga.com/news/earnings/20/05/16088886/agilent-technologies-q2-adj-eps-0-71-beats-0-61-estimate-sales-1-24b-beat-1-21b-estimate",
         "Benzinga Newsdesk",
         "2020-05-21 00:00:00+00:00",
         "A",
         "94",
         "2020-05-21",
         "Thursday",
         "0.0",
         "Neutral"
        ],
        [
         "15",
         "15",
         "Earnings Scheduled For May 21, 2020",
         "https://www.benzinga.com/news/earnings/20/05/16082427/earnings-scheduled-for-may-21-2020",
         "Lisa Levin",
         "2020-05-21 00:00:00+00:00",
         "A",
         "35",
         "2020-05-21",
         "Thursday",
         "0.0",
         "Neutral"
        ],
        [
         "16",
         "16",
         "Agilent Technologies Receives FDA Approval for PD-L1 as a Companion Diagnostic",
         "https://www.benzinga.com/news/20/05/16054223/agilent-technologies-receives-fda-approval-for-pd-l1-as-a-companion-diagnostic",
         "Luke J Jacobi",
         "2020-05-18 00:00:00+00:00",
         "A",
         "78",
         "2020-05-18",
         "Monday",
         "0.4767",
         "Neutral"
        ],
        [
         "17",
         "17",
         "Q1 13F Roundup: How Buffett, Einhorn, Ackman And Others Adjusted Their Portfolios",
         "https://www.benzinga.com/news/20/05/16051311/q1-13f-roundup-how-buffett-einhorn-ackman-and-others-adjusted-their-portfolios",
         "Wayne Duggan",
         "2020-05-16 00:00:00+00:00",
         "A",
         "81",
         "2020-05-16",
         "Saturday",
         "0.0",
         "Neutral"
        ],
        [
         "18",
         "18",
         "Pershing Square 13F Shows Fund Raises Stake In Agilent Technologies To 12,626,593 Shares",
         "https://www.benzinga.com/general/hedge-funds/20/05/16048806/pershing-square-13f-shows-fund-raises-stake-in-agilent-technologies-to-12-626-593-shares",
         "Benzinga Newsdesk",
         "2020-05-15 00:00:00+00:00",
         "A",
         "88",
         "2020-05-15",
         "Friday",
         "0.296",
         "Neutral"
        ],
        [
         "19",
         "19",
         "How Bill Ackman Successfully Navigated Coronavirus Market Volatility",
         "https://www.benzinga.com/general/education/20/05/15979110/how-bill-ackman-successfully-navigated-coronavirus-market-volatility",
         "Wayne Duggan",
         "2020-05-08 00:00:00+00:00",
         "A",
         "68",
         "2020-05-08",
         "Friday",
         "0.4939",
         "Neutral"
        ],
        [
         "20",
         "20",
         "Shares of several healthcare companies are trading higher amid positive investor sentiment as some US states begin to reopen their economies and as oil prices gain for the session.",
         "https://www.benzinga.com/wiim/20/05/15957697/shares-of-several-healthcare-companies-are-trading-higher-amid-positive-investor-sentiment-as-some-u",
         "Benzinga Newsdesk",
         "2020-05-05 00:00:00+00:00",
         "A",
         "180",
         "2020-05-05",
         "Tuesday",
         "0.8481",
         "Positive"
        ],
        [
         "21",
         "21",
         "Shares of several healthcare companies are trading lower as markets dip following recent strength. Markets have sold off as investors weigh recent earnings and amid concerns of renewed US-China trade frictions.",
         "https://www.benzinga.com/20/05/15935673/shares-of-several-healthcare-companies-are-trading-lower-as-markets-dip-following-recent-strength-ma",
         "Benzinga Newsdesk",
         "2020-05-01 00:00:00+00:00",
         "A",
         "210",
         "2020-05-01",
         "Friday",
         "0.4939",
         "Neutral"
        ],
        [
         "22",
         "22",
         "UBS Maintains Neutral on Agilent Technologies, Lowers Price Target to $84",
         "https://www.benzinga.com/news/20/04/15897306/ubs-maintains-neutral-on-agilent-technologies-lowers-price-target-to-84",
         "vishwanath@benzinga.com",
         "2020-04-28 00:00:00+00:00",
         "A",
         "73",
         "2020-04-28",
         "Tuesday",
         "-0.128",
         "Negative"
        ],
        [
         "23",
         "23",
         "Agilent Reports FDA Approval For PD-L1 Companion Diagnostic On Dako Omni",
         "https://www.benzinga.com/news/20/04/15864339/agilent-reports-fda-approval-for-pd-l1-companion-diagnostic-on-dako-omni",
         "Benzinga Newsdesk",
         "2020-04-23 00:00:00+00:00",
         "A",
         "72",
         "2020-04-23",
         "Thursday",
         "0.4767",
         "Neutral"
        ],
        [
         "24",
         "24",
         "Agilent Reports Has Become Top-Level Sponsor Of My Green Lab",
         "https://www.benzinga.com/news/20/04/15855436/agilent-reports-has-become-top-level-sponsor-of-my-green-lab",
         "Benzinga Newsdesk",
         "2020-04-22 00:00:00+00:00",
         "A",
         "60",
         "2020-04-22",
         "Wednesday",
         "0.0",
         "Neutral"
        ],
        [
         "25",
         "25",
         "Agilent Withdraws Q2 And FY20 Guidance",
         "https://www.benzinga.com/news/20/04/15796369/agilent-withdraws-q2-and-fy20-guidance",
         "Benzinga Newsdesk",
         "2020-04-14 00:00:00+00:00",
         "A",
         "38",
         "2020-04-14",
         "Tuesday",
         "0.0",
         "Neutral"
        ],
        [
         "26",
         "26",
         "Shares of several companies in the auto dealer space are trading higher amid positive market sentiment. Speculation some coronavirus hotspots leveling off has raised hopes of a return to economic activity, which could mean a rebound in consumer spending.",
         "https://www.benzinga.com/wiim/20/04/15769071/shares-of-several-companies-in-the-auto-dealer-space-are-trading-higher-amid-positive-market-sentime",
         "Benzinga Newsdesk",
         "2020-04-08 00:00:00+00:00",
         "A",
         "254",
         "2020-04-08",
         "Wednesday",
         "0.8225",
         "Positive"
        ],
        [
         "27",
         "27",
         "Shares of several healthcare companies are trading higher as markets gain amid optimism that coronavirus cases in several US hotspots may be peaking. A sooner peak could mean a sooner return to economic activity.",
         "https://www.benzinga.com/wiim/20/04/15748126/shares-of-several-healthcare-companies-are-trading-higher-as-markets-gain-amid-optimism-that-coronav",
         "Benzinga Newsdesk",
         "2020-04-06 00:00:00+00:00",
         "A",
         "212",
         "2020-04-06",
         "Monday",
         "0.8442",
         "Positive"
        ],
        [
         "28",
         "28",
         "Stifel Maintains Hold on Agilent Technologies, Lowers Price Target to $73",
         "https://www.benzinga.com/news/20/04/15728603/stifel-maintains-hold-on-agilent-technologies-lowers-price-target-to-73",
         "Vick Meyer",
         "2020-04-02 00:00:00+00:00",
         "A",
         "73",
         "2020-04-02",
         "Thursday",
         "-0.128",
         "Negative"
        ],
        [
         "29",
         "29",
         "Shares of several healthcare companies are trading lower amid market weakness as growing coronavirus concerns in the US weigh on equities.",
         "https://www.benzinga.com/wiim/20/04/15717065/shares-of-several-healthcare-companies-are-trading-lower-amid-market-weakness-as-growing-coronavirus",
         "Benzinga Newsdesk",
         "2020-04-01 00:00:00+00:00",
         "A",
         "138",
         "2020-04-01",
         "Wednesday",
         "-0.2732",
         "Negative"
        ],
        [
         "30",
         "30",
         "Int'l. Air Transport Authority Chief Economist Sees Consolidation In Airline Sector As Some Airlines Fail, Calls Signs In Chinese Domestic Market 'Encouraging,' Load Factors Are About 60%",
         "https://www.benzinga.com/news/20/03/15705690/intl-air-transport-authority-chief-economist-sees-consolidation-in-airline-sector-as-some-airlines-f",
         "Benzinga Newsdesk",
         "2020-03-31 00:00:00+00:00",
         "A",
         "187",
         "2020-03-31",
         "Tuesday",
         "-0.4939",
         "Negative"
        ],
        [
         "31",
         "31",
         "Wells Fargo Maintains Overweight on Agilent Technologies, Lowers Price Target to $82",
         "https://www.benzinga.com/news/20/03/15695415/wells-fargo-maintains-overweight-on-agilent-technologies-lowers-price-target-to-82",
         "Vick Meyer",
         "2020-03-30 00:00:00+00:00",
         "A",
         "84",
         "2020-03-30",
         "Monday",
         "-0.25",
         "Negative"
        ],
        [
         "32",
         "32",
         "Shares of several technology companies are trading higher as equities continue to rise following last week's rebound amid US stimulus measures.",
         "https://www.benzinga.com/wiim/20/03/15695372/shares-of-several-technology-companies-are-trading-higher-as-equities-continue-to-rise-following-las",
         "Benzinga Newsdesk",
         "2020-03-30 00:00:00+00:00",
         "A",
         "143",
         "2020-03-30",
         "Monday",
         "0.296",
         "Neutral"
        ],
        [
         "33",
         "33",
         "Shares of several healthcare companies are trading lower, selling off from this week's strength. While the US stimulus package boosted economic optimism, demand concerns still exist amid the coronavirus outbreak.",
         "https://www.benzinga.com/wiim/20/03/15683827/shares-of-several-healthcare-companies-are-trading-lower-selling-off-from-this-weeks-strength-while",
         "Benzinga Newsdesk",
         "2020-03-27 00:00:00+00:00",
         "A",
         "212",
         "2020-03-27",
         "Friday",
         "0.8271",
         "Positive"
        ],
        [
         "34",
         "34",
         "Shares of several healthcare companies are trading higher following Senate passage of a $2 trillion economic stimulus package, which has lifted stocks across sectors.",
         "https://www.benzinga.com/wiim/20/03/15674560/shares-of-several-healthcare-companies-are-trading-higher-following-senate-passage-of-a-2-trillion-e",
         "Benzinga Newsdesk",
         "2020-03-26 00:00:00+00:00",
         "A",
         "166",
         "2020-03-26",
         "Thursday",
         "0.296",
         "Neutral"
        ],
        [
         "35",
         "35",
         "Barclays Maintains Equal-Weight on Agilent Technologies, Lowers Price Target to $76",
         "https://www.benzinga.com/news/20/03/15673665/barclays-maintains-equal-weight-on-agilent-technologies-lowers-price-target-to-76",
         "Vick Meyer",
         "2020-03-26 00:00:00+00:00",
         "A",
         "83",
         "2020-03-26",
         "Thursday",
         "-0.128",
         "Negative"
        ],
        [
         "36",
         "36",
         "Ariel Chairman John Rogers Thinks Current Market Is 'Once In A Lifetime Opportunity To Buy Stocks'",
         "https://www.benzinga.com/news/20/03/15668620/ariel-chairman-john-rogers-thinks-current-market-is-once-in-a-lifetime-opportunity-to-buy-stocks",
         "Shivdeep Dhaliwal",
         "2020-03-26 00:00:00+00:00",
         "A",
         "98",
         "2020-03-26",
         "Thursday",
         "0.4215",
         "Neutral"
        ],
        [
         "37",
         "37",
         "Citigroup Maintains Neutral on Agilent Technologies, Lowers Price Target to $75",
         "https://www.benzinga.com/news/20/03/15615851/citigroup-maintains-neutral-on-agilent-technologies-lowers-price-target-to-75",
         "Vick Meyer",
         "2020-03-20 00:00:00+00:00",
         "A",
         "79",
         "2020-03-20",
         "Friday",
         "-0.128",
         "Negative"
        ],
        [
         "38",
         "38",
         "Stocks That Hit 52-Week Lows On Monday",
         "https://www.benzinga.com/news/20/03/15560273/stocks-that-hit-52-week-lows-on-monday",
         "Benzinga Newsdesk",
         "2020-03-16 00:00:00+00:00",
         "A",
         "38",
         "2020-03-16",
         "Monday",
         "-0.2023",
         "Negative"
        ],
        [
         "39",
         "39",
         "Shares of several healthcare companies are trading lower in sympathy with the overall market on continued downward momentum caused by the coronavirus. The virus has had a negative impact on the global economy.",
         "https://www.benzinga.com/wiim/20/03/15558425/shares-of-several-healthcare-companies-are-trading-lower-in-sympathy-with-the-overall-market-on-cont",
         "Benzinga Newsdesk",
         "2020-03-16 00:00:00+00:00",
         "A",
         "209",
         "2020-03-16",
         "Monday",
         "-0.296",
         "Negative"
        ],
        [
         "40",
         "40",
         "Shares of several basic materials companies are trading higher, rebounding following Thursday's crash. The sector has been volatile amid the coronavirus outbreak, which has disrupted economic activity. NOTE: While markets rebound, virus fears persist.",
         "https://www.benzinga.com/wiim/20/03/15546085/shares-of-several-basic-materials-companies-are-trading-higher-rebounding-following-thursdays-crash",
         "Benzinga Newsdesk",
         "2020-03-13 00:00:00+00:00",
         "A",
         "251",
         "2020-03-13",
         "Friday",
         "-0.5106",
         "Very Negative"
        ],
        [
         "41",
         "41",
         "Stocks That Hit 52-Week Lows On Thursday",
         "https://www.benzinga.com/news/20/03/15538835/stocks-that-hit-52-week-lows-on-thursday",
         "Lisa Levin",
         "2020-03-12 00:00:00+00:00",
         "A",
         "40",
         "2020-03-12",
         "Thursday",
         "-0.2023",
         "Negative"
        ],
        [
         "42",
         "42",
         "Shares of several coronavirus-related companies including vaccine makers, protective apparel manufacturers and emergency medical suppliers are trading higher as the coronavirus continues to spread globally.",
         "https://www.benzinga.com/wiim/20/03/15528213/shares-of-several-coronavirus-related-companies-including-vaccine-makers-protective-apparel-manufact",
         "luke@benzinga.com",
         "2020-03-11 00:00:00+00:00",
         "A",
         "206",
         "2020-03-11",
         "Wednesday",
         "-0.1027",
         "Negative"
        ],
        [
         "43",
         "43",
         "Agilent Technologies Inc Says In January 2020, Net Revenue Was Negatively Impacted Due To The Public Health Crisis In China; Says In Jan 2020, Net Revenue Negatively Impacted Also Due To Extension Of Lunar New Year Resulting In Fewer Selling Days In Month",
         "https://www.benzinga.com/news/20/03/15472189/agilent-technologies-inc-says-in-january-2020-net-revenue-was-negatively-impacted-due-to-the-public",
         "luke@benzinga.com",
         "2020-03-03 00:00:00+00:00",
         "A",
         "255",
         "2020-03-03",
         "Tuesday",
         "-0.6249",
         "Very Negative"
        ],
        [
         "44",
         "44",
         "Shares of several healthcare companies are trading higher in sympathy with the overall market as it rebounds from a selloff caused by coronavirus fears.",
         "https://www.benzinga.com/wiim/20/03/15456786/shares-of-several-healthcare-companies-are-trading-higher-in-sympathy-with-the-overall-market-as-it",
         "Benzinga Newsdesk",
         "2020-03-02 00:00:00+00:00",
         "A",
         "152",
         "2020-03-02",
         "Monday",
         "0.2263",
         "Neutral"
        ],
        [
         "45",
         "45",
         "Benzinga's Top Upgrades, Downgrades For February 24, 2020",
         "https://www.benzinga.com/analyst-ratings/upgrades/20/02/15393664/benzingas-top-upgrades-downgrades-for-february-24-2020",
         "Lisa Levin",
         "2020-02-24 00:00:00+00:00",
         "A",
         "57",
         "2020-02-24",
         "Monday",
         "0.2023",
         "Neutral"
        ],
        [
         "46",
         "46",
         "Shares of several software companies are trading lower as the coronavirus cases surge outside of China. NOTE: The virus has raised fear of a global economic slowdown.",
         "https://www.benzinga.com/wiim/20/02/15392140/shares-of-several-software-companies-are-trading-lower-as-the-coronavirus-cases-surge-outside-of-chi",
         "Benzinga Newsdesk",
         "2020-02-24 00:00:00+00:00",
         "A",
         "166",
         "2020-02-24",
         "Monday",
         "-0.4939",
         "Negative"
        ],
        [
         "47",
         "47",
         "Needham Downgrades Agilent Technologies to Hold, Announces $85 Price Target",
         "https://www.benzinga.com/news/20/02/15391251/needham-downgrades-agilent-technologies-to-hold-announces-85-price-target",
         "Vick Meyer",
         "2020-02-24 00:00:00+00:00",
         "A",
         "75",
         "2020-02-24",
         "Monday",
         "0.0",
         "Neutral"
        ],
        [
         "48",
         "48",
         "UBS Maintains Neutral on Agilent Technologies, Raises Price Target to $90",
         "https://www.benzinga.com/news/20/02/15363071/ubs-maintains-neutral-on-agilent-technologies-raises-price-target-to-90",
         "Vick Meyer",
         "2020-02-19 00:00:00+00:00",
         "A",
         "73",
         "2020-02-19",
         "Wednesday",
         "0.0",
         "Neutral"
        ],
        [
         "49",
         "49",
         "12 Stocks Moving In Tuesday's After-Hours Session",
         "https://www.benzinga.com/news/20/02/15359453/12-stocks-moving-in-tuesdays-after-hours-session",
         "Tyree Gorges",
         "2020-02-18 00:00:00+00:00",
         "A",
         "49",
         "2020-02-18",
         "Tuesday",
         "0.0",
         "Neutral"
        ]
       ],
       "shape": {
        "columns": 11,
        "rows": 1407328
       }
      },
      "text/html": [
       "<div>\n",
       "<style scoped>\n",
       "    .dataframe tbody tr th:only-of-type {\n",
       "        vertical-align: middle;\n",
       "    }\n",
       "\n",
       "    .dataframe tbody tr th {\n",
       "        vertical-align: top;\n",
       "    }\n",
       "\n",
       "    .dataframe thead th {\n",
       "        text-align: right;\n",
       "    }\n",
       "</style>\n",
       "<table border=\"1\" class=\"dataframe\">\n",
       "  <thead>\n",
       "    <tr style=\"text-align: right;\">\n",
       "      <th></th>\n",
       "      <th>Unnamed: 0</th>\n",
       "      <th>headline</th>\n",
       "      <th>url</th>\n",
       "      <th>publisher</th>\n",
       "      <th>date</th>\n",
       "      <th>stock</th>\n",
       "      <th>headline_length</th>\n",
       "      <th>publication_date</th>\n",
       "      <th>day_of_week</th>\n",
       "      <th>sentiment</th>\n",
       "      <th>sentiment_category</th>\n",
       "    </tr>\n",
       "  </thead>\n",
       "  <tbody>\n",
       "    <tr>\n",
       "      <th>0</th>\n",
       "      <td>0</td>\n",
       "      <td>Stocks That Hit 52-Week Highs On Friday</td>\n",
       "      <td>https://www.benzinga.com/news/20/06/16190091/s...</td>\n",
       "      <td>Benzinga Insights</td>\n",
       "      <td>NaT</td>\n",
       "      <td>A</td>\n",
       "      <td>39</td>\n",
       "      <td>NaT</td>\n",
       "      <td>NaN</td>\n",
       "      <td>0.0000</td>\n",
       "      <td>Neutral</td>\n",
       "    </tr>\n",
       "    <tr>\n",
       "      <th>1</th>\n",
       "      <td>1</td>\n",
       "      <td>Stocks That Hit 52-Week Highs On Wednesday</td>\n",
       "      <td>https://www.benzinga.com/news/20/06/16170189/s...</td>\n",
       "      <td>Benzinga Insights</td>\n",
       "      <td>NaT</td>\n",
       "      <td>A</td>\n",
       "      <td>42</td>\n",
       "      <td>NaT</td>\n",
       "      <td>NaN</td>\n",
       "      <td>0.0000</td>\n",
       "      <td>Neutral</td>\n",
       "    </tr>\n",
       "    <tr>\n",
       "      <th>2</th>\n",
       "      <td>2</td>\n",
       "      <td>71 Biggest Movers From Friday</td>\n",
       "      <td>https://www.benzinga.com/news/20/05/16103463/7...</td>\n",
       "      <td>Lisa Levin</td>\n",
       "      <td>NaT</td>\n",
       "      <td>A</td>\n",
       "      <td>29</td>\n",
       "      <td>NaT</td>\n",
       "      <td>NaN</td>\n",
       "      <td>0.0000</td>\n",
       "      <td>Neutral</td>\n",
       "    </tr>\n",
       "    <tr>\n",
       "      <th>3</th>\n",
       "      <td>3</td>\n",
       "      <td>46 Stocks Moving In Friday's Mid-Day Session</td>\n",
       "      <td>https://www.benzinga.com/news/20/05/16095921/4...</td>\n",
       "      <td>Lisa Levin</td>\n",
       "      <td>NaT</td>\n",
       "      <td>A</td>\n",
       "      <td>44</td>\n",
       "      <td>NaT</td>\n",
       "      <td>NaN</td>\n",
       "      <td>0.0000</td>\n",
       "      <td>Neutral</td>\n",
       "    </tr>\n",
       "    <tr>\n",
       "      <th>4</th>\n",
       "      <td>4</td>\n",
       "      <td>B of A Securities Maintains Neutral on Agilent...</td>\n",
       "      <td>https://www.benzinga.com/news/20/05/16095304/b...</td>\n",
       "      <td>Vick Meyer</td>\n",
       "      <td>NaT</td>\n",
       "      <td>A</td>\n",
       "      <td>87</td>\n",
       "      <td>NaT</td>\n",
       "      <td>NaN</td>\n",
       "      <td>0.2960</td>\n",
       "      <td>Neutral</td>\n",
       "    </tr>\n",
       "    <tr>\n",
       "      <th>...</th>\n",
       "      <td>...</td>\n",
       "      <td>...</td>\n",
       "      <td>...</td>\n",
       "      <td>...</td>\n",
       "      <td>...</td>\n",
       "      <td>...</td>\n",
       "      <td>...</td>\n",
       "      <td>...</td>\n",
       "      <td>...</td>\n",
       "      <td>...</td>\n",
       "      <td>...</td>\n",
       "    </tr>\n",
       "    <tr>\n",
       "      <th>1407323</th>\n",
       "      <td>1413844</td>\n",
       "      <td>Top Narrow Based Indexes For August 29</td>\n",
       "      <td>https://www.benzinga.com/news/11/08/1888782/to...</td>\n",
       "      <td>Monica Gerson</td>\n",
       "      <td>2011-08-29 00:00:00+00:00</td>\n",
       "      <td>ZX</td>\n",
       "      <td>38</td>\n",
       "      <td>2011-08-29</td>\n",
       "      <td>Monday</td>\n",
       "      <td>0.2023</td>\n",
       "      <td>Neutral</td>\n",
       "    </tr>\n",
       "    <tr>\n",
       "      <th>1407324</th>\n",
       "      <td>1413845</td>\n",
       "      <td>Recap: Wednesday's Top Percentage Gainers and ...</td>\n",
       "      <td>https://www.benzinga.com/news/earnings/11/06/1...</td>\n",
       "      <td>Benjamin Lee</td>\n",
       "      <td>2011-06-22 00:00:00+00:00</td>\n",
       "      <td>ZX</td>\n",
       "      <td>52</td>\n",
       "      <td>2011-06-22</td>\n",
       "      <td>Wednesday</td>\n",
       "      <td>-0.3818</td>\n",
       "      <td>Negative</td>\n",
       "    </tr>\n",
       "    <tr>\n",
       "      <th>1407325</th>\n",
       "      <td>1413846</td>\n",
       "      <td>UPDATE: Oppenheimer Color on China Zenix Auto ...</td>\n",
       "      <td>https://www.benzinga.com/analyst-ratings/analy...</td>\n",
       "      <td>BenzingaStaffL</td>\n",
       "      <td>2011-06-21 00:00:00+00:00</td>\n",
       "      <td>ZX</td>\n",
       "      <td>56</td>\n",
       "      <td>2011-06-21</td>\n",
       "      <td>Tuesday</td>\n",
       "      <td>0.0000</td>\n",
       "      <td>Neutral</td>\n",
       "    </tr>\n",
       "    <tr>\n",
       "      <th>1407326</th>\n",
       "      <td>1413847</td>\n",
       "      <td>Oppenheimer Initiates China Zenix At Outperfor...</td>\n",
       "      <td>https://www.benzinga.com/analyst-ratings/price...</td>\n",
       "      <td>Joe Young</td>\n",
       "      <td>2011-06-21 00:00:00+00:00</td>\n",
       "      <td>ZX</td>\n",
       "      <td>54</td>\n",
       "      <td>2011-06-21</td>\n",
       "      <td>Tuesday</td>\n",
       "      <td>0.0000</td>\n",
       "      <td>Neutral</td>\n",
       "    </tr>\n",
       "    <tr>\n",
       "      <th>1407327</th>\n",
       "      <td>1413848</td>\n",
       "      <td>China Zenix Auto International Opens For Tradi...</td>\n",
       "      <td>https://www.benzinga.com/news/ipos/11/05/10789...</td>\n",
       "      <td>Allie Wickman</td>\n",
       "      <td>2011-05-12 00:00:00+00:00</td>\n",
       "      <td>ZX</td>\n",
       "      <td>81</td>\n",
       "      <td>2011-05-12</td>\n",
       "      <td>Thursday</td>\n",
       "      <td>0.0000</td>\n",
       "      <td>Neutral</td>\n",
       "    </tr>\n",
       "  </tbody>\n",
       "</table>\n",
       "<p>1407328 rows × 11 columns</p>\n",
       "</div>"
      ],
      "text/plain": [
       "         Unnamed: 0                                           headline  \\\n",
       "0                 0            Stocks That Hit 52-Week Highs On Friday   \n",
       "1                 1         Stocks That Hit 52-Week Highs On Wednesday   \n",
       "2                 2                      71 Biggest Movers From Friday   \n",
       "3                 3       46 Stocks Moving In Friday's Mid-Day Session   \n",
       "4                 4  B of A Securities Maintains Neutral on Agilent...   \n",
       "...             ...                                                ...   \n",
       "1407323     1413844             Top Narrow Based Indexes For August 29   \n",
       "1407324     1413845  Recap: Wednesday's Top Percentage Gainers and ...   \n",
       "1407325     1413846  UPDATE: Oppenheimer Color on China Zenix Auto ...   \n",
       "1407326     1413847  Oppenheimer Initiates China Zenix At Outperfor...   \n",
       "1407327     1413848  China Zenix Auto International Opens For Tradi...   \n",
       "\n",
       "                                                       url          publisher  \\\n",
       "0        https://www.benzinga.com/news/20/06/16190091/s...  Benzinga Insights   \n",
       "1        https://www.benzinga.com/news/20/06/16170189/s...  Benzinga Insights   \n",
       "2        https://www.benzinga.com/news/20/05/16103463/7...         Lisa Levin   \n",
       "3        https://www.benzinga.com/news/20/05/16095921/4...         Lisa Levin   \n",
       "4        https://www.benzinga.com/news/20/05/16095304/b...         Vick Meyer   \n",
       "...                                                    ...                ...   \n",
       "1407323  https://www.benzinga.com/news/11/08/1888782/to...      Monica Gerson   \n",
       "1407324  https://www.benzinga.com/news/earnings/11/06/1...       Benjamin Lee   \n",
       "1407325  https://www.benzinga.com/analyst-ratings/analy...     BenzingaStaffL   \n",
       "1407326  https://www.benzinga.com/analyst-ratings/price...          Joe Young   \n",
       "1407327  https://www.benzinga.com/news/ipos/11/05/10789...      Allie Wickman   \n",
       "\n",
       "                             date stock  headline_length publication_date  \\\n",
       "0                             NaT     A               39              NaT   \n",
       "1                             NaT     A               42              NaT   \n",
       "2                             NaT     A               29              NaT   \n",
       "3                             NaT     A               44              NaT   \n",
       "4                             NaT     A               87              NaT   \n",
       "...                           ...   ...              ...              ...   \n",
       "1407323 2011-08-29 00:00:00+00:00    ZX               38       2011-08-29   \n",
       "1407324 2011-06-22 00:00:00+00:00    ZX               52       2011-06-22   \n",
       "1407325 2011-06-21 00:00:00+00:00    ZX               56       2011-06-21   \n",
       "1407326 2011-06-21 00:00:00+00:00    ZX               54       2011-06-21   \n",
       "1407327 2011-05-12 00:00:00+00:00    ZX               81       2011-05-12   \n",
       "\n",
       "        day_of_week  sentiment sentiment_category  \n",
       "0               NaN     0.0000            Neutral  \n",
       "1               NaN     0.0000            Neutral  \n",
       "2               NaN     0.0000            Neutral  \n",
       "3               NaN     0.0000            Neutral  \n",
       "4               NaN     0.2960            Neutral  \n",
       "...             ...        ...                ...  \n",
       "1407323      Monday     0.2023            Neutral  \n",
       "1407324   Wednesday    -0.3818           Negative  \n",
       "1407325     Tuesday     0.0000            Neutral  \n",
       "1407326     Tuesday     0.0000            Neutral  \n",
       "1407327    Thursday     0.0000            Neutral  \n",
       "\n",
       "[1407328 rows x 11 columns]"
      ]
     },
     "execution_count": 22,
     "metadata": {},
     "output_type": "execute_result"
    }
   ],
   "source": [
    "sentiment_data\n",
    "# Display the sentiment data\n"
   ]
  },
  {
   "cell_type": "code",
   "execution_count": null,
   "id": "3967d5b7",
   "metadata": {},
   "outputs": [],
   "source": []
  },
  {
   "cell_type": "code",
   "execution_count": 20,
   "id": "96d02ef0",
   "metadata": {},
   "outputs": [],
   "source": [
    "# Categorize the sentiment scores\n",
    "sentiment_data['sentiment_category'] = pd.cut(sentiment_data['sentiment'], bins=[-1, -0.5, -0.0001, 0.5, 1], labels=['Very Negative', 'Negative', 'Neutral', 'Positive'])"
   ]
  },
  {
   "cell_type": "code",
   "execution_count": 21,
   "id": "d4ba87a3",
   "metadata": {},
   "outputs": [
    {
     "data": {
      "application/vnd.microsoft.datawrangler.viewer.v0+json": {
       "columns": [
        {
         "name": "index",
         "rawType": "int64",
         "type": "integer"
        },
        {
         "name": "Unnamed: 0",
         "rawType": "int64",
         "type": "integer"
        },
        {
         "name": "headline",
         "rawType": "object",
         "type": "string"
        },
        {
         "name": "url",
         "rawType": "object",
         "type": "string"
        },
        {
         "name": "publisher",
         "rawType": "object",
         "type": "string"
        },
        {
         "name": "date",
         "rawType": "datetime64[ns, UTC]",
         "type": "unknown"
        },
        {
         "name": "stock",
         "rawType": "object",
         "type": "string"
        },
        {
         "name": "headline_length",
         "rawType": "int64",
         "type": "integer"
        },
        {
         "name": "publication_date",
         "rawType": "object",
         "type": "unknown"
        },
        {
         "name": "day_of_week",
         "rawType": "object",
         "type": "unknown"
        },
        {
         "name": "sentiment",
         "rawType": "float64",
         "type": "float"
        },
        {
         "name": "sentiment_category",
         "rawType": "category",
         "type": "unknown"
        }
       ],
       "ref": "568b7008-039a-46a3-bd64-d24277b4e3c2",
       "rows": [
        [
         "0",
         "0",
         "Stocks That Hit 52-Week Highs On Friday",
         "https://www.benzinga.com/news/20/06/16190091/stocks-that-hit-52-week-highs-on-friday",
         "Benzinga Insights",
         null,
         "A",
         "39",
         null,
         null,
         "0.0",
         "Neutral"
        ],
        [
         "1",
         "1",
         "Stocks That Hit 52-Week Highs On Wednesday",
         "https://www.benzinga.com/news/20/06/16170189/stocks-that-hit-52-week-highs-on-wednesday",
         "Benzinga Insights",
         null,
         "A",
         "42",
         null,
         null,
         "0.0",
         "Neutral"
        ],
        [
         "2",
         "2",
         "71 Biggest Movers From Friday",
         "https://www.benzinga.com/news/20/05/16103463/71-biggest-movers-from-friday",
         "Lisa Levin",
         null,
         "A",
         "29",
         null,
         null,
         "0.0",
         "Neutral"
        ],
        [
         "3",
         "3",
         "46 Stocks Moving In Friday's Mid-Day Session",
         "https://www.benzinga.com/news/20/05/16095921/46-stocks-moving-in-fridays-mid-day-session",
         "Lisa Levin",
         null,
         "A",
         "44",
         null,
         null,
         "0.0",
         "Neutral"
        ],
        [
         "4",
         "4",
         "B of A Securities Maintains Neutral on Agilent Technologies, Raises Price Target to $88",
         "https://www.benzinga.com/news/20/05/16095304/b-of-a-securities-maintains-neutral-on-agilent-technologies-raises-price-target-to-88",
         "Vick Meyer",
         null,
         "A",
         "87",
         null,
         null,
         "0.296",
         "Neutral"
        ],
        [
         "5",
         "5",
         "CFRA Maintains Hold on Agilent Technologies, Lowers Price Target to $85",
         "https://www.benzinga.com/news/20/05/16095163/cfra-maintains-hold-on-agilent-technologies-lowers-price-target-to-85",
         "vishwanath@benzinga.com",
         null,
         "A",
         "71",
         null,
         null,
         "-0.128",
         "Negative"
        ],
        [
         "6",
         "6",
         "UBS Maintains Neutral on Agilent Technologies, Raises Price Target to $87",
         "https://www.benzinga.com/news/20/05/16094027/ubs-maintains-neutral-on-agilent-technologies-raises-price-target-to-87",
         "vishwanath@benzinga.com",
         null,
         "A",
         "73",
         null,
         null,
         "0.0",
         "Neutral"
        ],
        [
         "7",
         "7",
         "Agilent Technologies shares are trading higher after the company reported better-than-expected Q2 EPS and sales results.",
         "https://www.benzinga.com/wiim/20/05/16093805/agilent-technologies-shares-are-trading-higher-after-the-company-reported-better-than-expected-q2-ep",
         "Benzinga Newsdesk",
         null,
         "A",
         "120",
         null,
         null,
         "0.296",
         "Neutral"
        ],
        [
         "8",
         "8",
         "Wells Fargo Maintains Overweight on Agilent Technologies, Raises Price Target to $95",
         "https://www.benzinga.com/news/20/05/16093505/wells-fargo-maintains-overweight-on-agilent-technologies-raises-price-target-to-95",
         "vishwanath@benzinga.com",
         null,
         "A",
         "84",
         null,
         null,
         "-0.128",
         "Negative"
        ],
        [
         "9",
         "9",
         "10 Biggest Price Target Changes For Friday",
         "https://www.benzinga.com/analyst-ratings/price-target/20/05/16093262/10-biggest-price-target-changes-for-friday",
         "Lisa Levin",
         null,
         "A",
         "42",
         null,
         null,
         "0.0",
         "Neutral"
        ],
        [
         "10",
         "10",
         "30 Stocks Moving in Friday's Pre-Market Session",
         "https://www.benzinga.com/news/20/05/16092879/30-stocks-moving-in-fridays-pre-market-session",
         "Lisa Levin",
         "2020-05-22 00:00:00+00:00",
         "A",
         "47",
         "2020-05-22",
         "Friday",
         "0.0",
         "Neutral"
        ],
        [
         "11",
         "11",
         "SVB Leerink Maintains Outperform on Agilent Technologies, Raises Price Target to $95",
         "https://www.benzinga.com/news/20/05/16092270/svb-leerink-maintains-outperform-on-agilent-technologies-raises-price-target-to-95",
         "vishwanath@benzinga.com",
         "2020-05-22 00:00:00+00:00",
         "A",
         "84",
         "2020-05-22",
         "Friday",
         "0.0",
         "Neutral"
        ],
        [
         "12",
         "12",
         "8 Stocks Moving In Thursday's After-Hours Session",
         "https://www.benzinga.com/news/20/05/16089803/8-stocks-moving-in-thursdays-after-hours-session",
         "Tyree Gorges",
         "2020-05-21 00:00:00+00:00",
         "A",
         "49",
         "2020-05-21",
         "Thursday",
         "0.0",
         "Neutral"
        ],
        [
         "13",
         "13",
         "Agilent Technologies shares are trading higher after the company reported better-than-expected Q2 EPS and sales results.",
         "https://www.benzinga.com/wiim/20/05/16089218/agilent-technologies-shares-are-trading-higher-after-the-company-reported-better-than-expected-q2-ep",
         "Benzinga Newsdesk",
         "2020-05-21 00:00:00+00:00",
         "A",
         "120",
         "2020-05-21",
         "Thursday",
         "0.296",
         "Neutral"
        ],
        [
         "14",
         "14",
         "Agilent Technologies Q2 Adj. EPS $0.71 Beats $0.61 Estimate, Sales $1.24B Beat $1.21B Estimate",
         "https://www.benzinga.com/news/earnings/20/05/16088886/agilent-technologies-q2-adj-eps-0-71-beats-0-61-estimate-sales-1-24b-beat-1-21b-estimate",
         "Benzinga Newsdesk",
         "2020-05-21 00:00:00+00:00",
         "A",
         "94",
         "2020-05-21",
         "Thursday",
         "0.0",
         "Neutral"
        ],
        [
         "15",
         "15",
         "Earnings Scheduled For May 21, 2020",
         "https://www.benzinga.com/news/earnings/20/05/16082427/earnings-scheduled-for-may-21-2020",
         "Lisa Levin",
         "2020-05-21 00:00:00+00:00",
         "A",
         "35",
         "2020-05-21",
         "Thursday",
         "0.0",
         "Neutral"
        ],
        [
         "16",
         "16",
         "Agilent Technologies Receives FDA Approval for PD-L1 as a Companion Diagnostic",
         "https://www.benzinga.com/news/20/05/16054223/agilent-technologies-receives-fda-approval-for-pd-l1-as-a-companion-diagnostic",
         "Luke J Jacobi",
         "2020-05-18 00:00:00+00:00",
         "A",
         "78",
         "2020-05-18",
         "Monday",
         "0.4767",
         "Neutral"
        ],
        [
         "17",
         "17",
         "Q1 13F Roundup: How Buffett, Einhorn, Ackman And Others Adjusted Their Portfolios",
         "https://www.benzinga.com/news/20/05/16051311/q1-13f-roundup-how-buffett-einhorn-ackman-and-others-adjusted-their-portfolios",
         "Wayne Duggan",
         "2020-05-16 00:00:00+00:00",
         "A",
         "81",
         "2020-05-16",
         "Saturday",
         "0.0",
         "Neutral"
        ],
        [
         "18",
         "18",
         "Pershing Square 13F Shows Fund Raises Stake In Agilent Technologies To 12,626,593 Shares",
         "https://www.benzinga.com/general/hedge-funds/20/05/16048806/pershing-square-13f-shows-fund-raises-stake-in-agilent-technologies-to-12-626-593-shares",
         "Benzinga Newsdesk",
         "2020-05-15 00:00:00+00:00",
         "A",
         "88",
         "2020-05-15",
         "Friday",
         "0.296",
         "Neutral"
        ],
        [
         "19",
         "19",
         "How Bill Ackman Successfully Navigated Coronavirus Market Volatility",
         "https://www.benzinga.com/general/education/20/05/15979110/how-bill-ackman-successfully-navigated-coronavirus-market-volatility",
         "Wayne Duggan",
         "2020-05-08 00:00:00+00:00",
         "A",
         "68",
         "2020-05-08",
         "Friday",
         "0.4939",
         "Neutral"
        ],
        [
         "20",
         "20",
         "Shares of several healthcare companies are trading higher amid positive investor sentiment as some US states begin to reopen their economies and as oil prices gain for the session.",
         "https://www.benzinga.com/wiim/20/05/15957697/shares-of-several-healthcare-companies-are-trading-higher-amid-positive-investor-sentiment-as-some-u",
         "Benzinga Newsdesk",
         "2020-05-05 00:00:00+00:00",
         "A",
         "180",
         "2020-05-05",
         "Tuesday",
         "0.8481",
         "Positive"
        ],
        [
         "21",
         "21",
         "Shares of several healthcare companies are trading lower as markets dip following recent strength. Markets have sold off as investors weigh recent earnings and amid concerns of renewed US-China trade frictions.",
         "https://www.benzinga.com/20/05/15935673/shares-of-several-healthcare-companies-are-trading-lower-as-markets-dip-following-recent-strength-ma",
         "Benzinga Newsdesk",
         "2020-05-01 00:00:00+00:00",
         "A",
         "210",
         "2020-05-01",
         "Friday",
         "0.4939",
         "Neutral"
        ],
        [
         "22",
         "22",
         "UBS Maintains Neutral on Agilent Technologies, Lowers Price Target to $84",
         "https://www.benzinga.com/news/20/04/15897306/ubs-maintains-neutral-on-agilent-technologies-lowers-price-target-to-84",
         "vishwanath@benzinga.com",
         "2020-04-28 00:00:00+00:00",
         "A",
         "73",
         "2020-04-28",
         "Tuesday",
         "-0.128",
         "Negative"
        ],
        [
         "23",
         "23",
         "Agilent Reports FDA Approval For PD-L1 Companion Diagnostic On Dako Omni",
         "https://www.benzinga.com/news/20/04/15864339/agilent-reports-fda-approval-for-pd-l1-companion-diagnostic-on-dako-omni",
         "Benzinga Newsdesk",
         "2020-04-23 00:00:00+00:00",
         "A",
         "72",
         "2020-04-23",
         "Thursday",
         "0.4767",
         "Neutral"
        ],
        [
         "24",
         "24",
         "Agilent Reports Has Become Top-Level Sponsor Of My Green Lab",
         "https://www.benzinga.com/news/20/04/15855436/agilent-reports-has-become-top-level-sponsor-of-my-green-lab",
         "Benzinga Newsdesk",
         "2020-04-22 00:00:00+00:00",
         "A",
         "60",
         "2020-04-22",
         "Wednesday",
         "0.0",
         "Neutral"
        ],
        [
         "25",
         "25",
         "Agilent Withdraws Q2 And FY20 Guidance",
         "https://www.benzinga.com/news/20/04/15796369/agilent-withdraws-q2-and-fy20-guidance",
         "Benzinga Newsdesk",
         "2020-04-14 00:00:00+00:00",
         "A",
         "38",
         "2020-04-14",
         "Tuesday",
         "0.0",
         "Neutral"
        ],
        [
         "26",
         "26",
         "Shares of several companies in the auto dealer space are trading higher amid positive market sentiment. Speculation some coronavirus hotspots leveling off has raised hopes of a return to economic activity, which could mean a rebound in consumer spending.",
         "https://www.benzinga.com/wiim/20/04/15769071/shares-of-several-companies-in-the-auto-dealer-space-are-trading-higher-amid-positive-market-sentime",
         "Benzinga Newsdesk",
         "2020-04-08 00:00:00+00:00",
         "A",
         "254",
         "2020-04-08",
         "Wednesday",
         "0.8225",
         "Positive"
        ],
        [
         "27",
         "27",
         "Shares of several healthcare companies are trading higher as markets gain amid optimism that coronavirus cases in several US hotspots may be peaking. A sooner peak could mean a sooner return to economic activity.",
         "https://www.benzinga.com/wiim/20/04/15748126/shares-of-several-healthcare-companies-are-trading-higher-as-markets-gain-amid-optimism-that-coronav",
         "Benzinga Newsdesk",
         "2020-04-06 00:00:00+00:00",
         "A",
         "212",
         "2020-04-06",
         "Monday",
         "0.8442",
         "Positive"
        ],
        [
         "28",
         "28",
         "Stifel Maintains Hold on Agilent Technologies, Lowers Price Target to $73",
         "https://www.benzinga.com/news/20/04/15728603/stifel-maintains-hold-on-agilent-technologies-lowers-price-target-to-73",
         "Vick Meyer",
         "2020-04-02 00:00:00+00:00",
         "A",
         "73",
         "2020-04-02",
         "Thursday",
         "-0.128",
         "Negative"
        ],
        [
         "29",
         "29",
         "Shares of several healthcare companies are trading lower amid market weakness as growing coronavirus concerns in the US weigh on equities.",
         "https://www.benzinga.com/wiim/20/04/15717065/shares-of-several-healthcare-companies-are-trading-lower-amid-market-weakness-as-growing-coronavirus",
         "Benzinga Newsdesk",
         "2020-04-01 00:00:00+00:00",
         "A",
         "138",
         "2020-04-01",
         "Wednesday",
         "-0.2732",
         "Negative"
        ],
        [
         "30",
         "30",
         "Int'l. Air Transport Authority Chief Economist Sees Consolidation In Airline Sector As Some Airlines Fail, Calls Signs In Chinese Domestic Market 'Encouraging,' Load Factors Are About 60%",
         "https://www.benzinga.com/news/20/03/15705690/intl-air-transport-authority-chief-economist-sees-consolidation-in-airline-sector-as-some-airlines-f",
         "Benzinga Newsdesk",
         "2020-03-31 00:00:00+00:00",
         "A",
         "187",
         "2020-03-31",
         "Tuesday",
         "-0.4939",
         "Negative"
        ],
        [
         "31",
         "31",
         "Wells Fargo Maintains Overweight on Agilent Technologies, Lowers Price Target to $82",
         "https://www.benzinga.com/news/20/03/15695415/wells-fargo-maintains-overweight-on-agilent-technologies-lowers-price-target-to-82",
         "Vick Meyer",
         "2020-03-30 00:00:00+00:00",
         "A",
         "84",
         "2020-03-30",
         "Monday",
         "-0.25",
         "Negative"
        ],
        [
         "32",
         "32",
         "Shares of several technology companies are trading higher as equities continue to rise following last week's rebound amid US stimulus measures.",
         "https://www.benzinga.com/wiim/20/03/15695372/shares-of-several-technology-companies-are-trading-higher-as-equities-continue-to-rise-following-las",
         "Benzinga Newsdesk",
         "2020-03-30 00:00:00+00:00",
         "A",
         "143",
         "2020-03-30",
         "Monday",
         "0.296",
         "Neutral"
        ],
        [
         "33",
         "33",
         "Shares of several healthcare companies are trading lower, selling off from this week's strength. While the US stimulus package boosted economic optimism, demand concerns still exist amid the coronavirus outbreak.",
         "https://www.benzinga.com/wiim/20/03/15683827/shares-of-several-healthcare-companies-are-trading-lower-selling-off-from-this-weeks-strength-while",
         "Benzinga Newsdesk",
         "2020-03-27 00:00:00+00:00",
         "A",
         "212",
         "2020-03-27",
         "Friday",
         "0.8271",
         "Positive"
        ],
        [
         "34",
         "34",
         "Shares of several healthcare companies are trading higher following Senate passage of a $2 trillion economic stimulus package, which has lifted stocks across sectors.",
         "https://www.benzinga.com/wiim/20/03/15674560/shares-of-several-healthcare-companies-are-trading-higher-following-senate-passage-of-a-2-trillion-e",
         "Benzinga Newsdesk",
         "2020-03-26 00:00:00+00:00",
         "A",
         "166",
         "2020-03-26",
         "Thursday",
         "0.296",
         "Neutral"
        ],
        [
         "35",
         "35",
         "Barclays Maintains Equal-Weight on Agilent Technologies, Lowers Price Target to $76",
         "https://www.benzinga.com/news/20/03/15673665/barclays-maintains-equal-weight-on-agilent-technologies-lowers-price-target-to-76",
         "Vick Meyer",
         "2020-03-26 00:00:00+00:00",
         "A",
         "83",
         "2020-03-26",
         "Thursday",
         "-0.128",
         "Negative"
        ],
        [
         "36",
         "36",
         "Ariel Chairman John Rogers Thinks Current Market Is 'Once In A Lifetime Opportunity To Buy Stocks'",
         "https://www.benzinga.com/news/20/03/15668620/ariel-chairman-john-rogers-thinks-current-market-is-once-in-a-lifetime-opportunity-to-buy-stocks",
         "Shivdeep Dhaliwal",
         "2020-03-26 00:00:00+00:00",
         "A",
         "98",
         "2020-03-26",
         "Thursday",
         "0.4215",
         "Neutral"
        ],
        [
         "37",
         "37",
         "Citigroup Maintains Neutral on Agilent Technologies, Lowers Price Target to $75",
         "https://www.benzinga.com/news/20/03/15615851/citigroup-maintains-neutral-on-agilent-technologies-lowers-price-target-to-75",
         "Vick Meyer",
         "2020-03-20 00:00:00+00:00",
         "A",
         "79",
         "2020-03-20",
         "Friday",
         "-0.128",
         "Negative"
        ],
        [
         "38",
         "38",
         "Stocks That Hit 52-Week Lows On Monday",
         "https://www.benzinga.com/news/20/03/15560273/stocks-that-hit-52-week-lows-on-monday",
         "Benzinga Newsdesk",
         "2020-03-16 00:00:00+00:00",
         "A",
         "38",
         "2020-03-16",
         "Monday",
         "-0.2023",
         "Negative"
        ],
        [
         "39",
         "39",
         "Shares of several healthcare companies are trading lower in sympathy with the overall market on continued downward momentum caused by the coronavirus. The virus has had a negative impact on the global economy.",
         "https://www.benzinga.com/wiim/20/03/15558425/shares-of-several-healthcare-companies-are-trading-lower-in-sympathy-with-the-overall-market-on-cont",
         "Benzinga Newsdesk",
         "2020-03-16 00:00:00+00:00",
         "A",
         "209",
         "2020-03-16",
         "Monday",
         "-0.296",
         "Negative"
        ],
        [
         "40",
         "40",
         "Shares of several basic materials companies are trading higher, rebounding following Thursday's crash. The sector has been volatile amid the coronavirus outbreak, which has disrupted economic activity. NOTE: While markets rebound, virus fears persist.",
         "https://www.benzinga.com/wiim/20/03/15546085/shares-of-several-basic-materials-companies-are-trading-higher-rebounding-following-thursdays-crash",
         "Benzinga Newsdesk",
         "2020-03-13 00:00:00+00:00",
         "A",
         "251",
         "2020-03-13",
         "Friday",
         "-0.5106",
         "Very Negative"
        ],
        [
         "41",
         "41",
         "Stocks That Hit 52-Week Lows On Thursday",
         "https://www.benzinga.com/news/20/03/15538835/stocks-that-hit-52-week-lows-on-thursday",
         "Lisa Levin",
         "2020-03-12 00:00:00+00:00",
         "A",
         "40",
         "2020-03-12",
         "Thursday",
         "-0.2023",
         "Negative"
        ],
        [
         "42",
         "42",
         "Shares of several coronavirus-related companies including vaccine makers, protective apparel manufacturers and emergency medical suppliers are trading higher as the coronavirus continues to spread globally.",
         "https://www.benzinga.com/wiim/20/03/15528213/shares-of-several-coronavirus-related-companies-including-vaccine-makers-protective-apparel-manufact",
         "luke@benzinga.com",
         "2020-03-11 00:00:00+00:00",
         "A",
         "206",
         "2020-03-11",
         "Wednesday",
         "-0.1027",
         "Negative"
        ],
        [
         "43",
         "43",
         "Agilent Technologies Inc Says In January 2020, Net Revenue Was Negatively Impacted Due To The Public Health Crisis In China; Says In Jan 2020, Net Revenue Negatively Impacted Also Due To Extension Of Lunar New Year Resulting In Fewer Selling Days In Month",
         "https://www.benzinga.com/news/20/03/15472189/agilent-technologies-inc-says-in-january-2020-net-revenue-was-negatively-impacted-due-to-the-public",
         "luke@benzinga.com",
         "2020-03-03 00:00:00+00:00",
         "A",
         "255",
         "2020-03-03",
         "Tuesday",
         "-0.6249",
         "Very Negative"
        ],
        [
         "44",
         "44",
         "Shares of several healthcare companies are trading higher in sympathy with the overall market as it rebounds from a selloff caused by coronavirus fears.",
         "https://www.benzinga.com/wiim/20/03/15456786/shares-of-several-healthcare-companies-are-trading-higher-in-sympathy-with-the-overall-market-as-it",
         "Benzinga Newsdesk",
         "2020-03-02 00:00:00+00:00",
         "A",
         "152",
         "2020-03-02",
         "Monday",
         "0.2263",
         "Neutral"
        ],
        [
         "45",
         "45",
         "Benzinga's Top Upgrades, Downgrades For February 24, 2020",
         "https://www.benzinga.com/analyst-ratings/upgrades/20/02/15393664/benzingas-top-upgrades-downgrades-for-february-24-2020",
         "Lisa Levin",
         "2020-02-24 00:00:00+00:00",
         "A",
         "57",
         "2020-02-24",
         "Monday",
         "0.2023",
         "Neutral"
        ],
        [
         "46",
         "46",
         "Shares of several software companies are trading lower as the coronavirus cases surge outside of China. NOTE: The virus has raised fear of a global economic slowdown.",
         "https://www.benzinga.com/wiim/20/02/15392140/shares-of-several-software-companies-are-trading-lower-as-the-coronavirus-cases-surge-outside-of-chi",
         "Benzinga Newsdesk",
         "2020-02-24 00:00:00+00:00",
         "A",
         "166",
         "2020-02-24",
         "Monday",
         "-0.4939",
         "Negative"
        ],
        [
         "47",
         "47",
         "Needham Downgrades Agilent Technologies to Hold, Announces $85 Price Target",
         "https://www.benzinga.com/news/20/02/15391251/needham-downgrades-agilent-technologies-to-hold-announces-85-price-target",
         "Vick Meyer",
         "2020-02-24 00:00:00+00:00",
         "A",
         "75",
         "2020-02-24",
         "Monday",
         "0.0",
         "Neutral"
        ],
        [
         "48",
         "48",
         "UBS Maintains Neutral on Agilent Technologies, Raises Price Target to $90",
         "https://www.benzinga.com/news/20/02/15363071/ubs-maintains-neutral-on-agilent-technologies-raises-price-target-to-90",
         "Vick Meyer",
         "2020-02-19 00:00:00+00:00",
         "A",
         "73",
         "2020-02-19",
         "Wednesday",
         "0.0",
         "Neutral"
        ],
        [
         "49",
         "49",
         "12 Stocks Moving In Tuesday's After-Hours Session",
         "https://www.benzinga.com/news/20/02/15359453/12-stocks-moving-in-tuesdays-after-hours-session",
         "Tyree Gorges",
         "2020-02-18 00:00:00+00:00",
         "A",
         "49",
         "2020-02-18",
         "Tuesday",
         "0.0",
         "Neutral"
        ]
       ],
       "shape": {
        "columns": 11,
        "rows": 1407328
       }
      },
      "text/html": [
       "<div>\n",
       "<style scoped>\n",
       "    .dataframe tbody tr th:only-of-type {\n",
       "        vertical-align: middle;\n",
       "    }\n",
       "\n",
       "    .dataframe tbody tr th {\n",
       "        vertical-align: top;\n",
       "    }\n",
       "\n",
       "    .dataframe thead th {\n",
       "        text-align: right;\n",
       "    }\n",
       "</style>\n",
       "<table border=\"1\" class=\"dataframe\">\n",
       "  <thead>\n",
       "    <tr style=\"text-align: right;\">\n",
       "      <th></th>\n",
       "      <th>Unnamed: 0</th>\n",
       "      <th>headline</th>\n",
       "      <th>url</th>\n",
       "      <th>publisher</th>\n",
       "      <th>date</th>\n",
       "      <th>stock</th>\n",
       "      <th>headline_length</th>\n",
       "      <th>publication_date</th>\n",
       "      <th>day_of_week</th>\n",
       "      <th>sentiment</th>\n",
       "      <th>sentiment_category</th>\n",
       "    </tr>\n",
       "  </thead>\n",
       "  <tbody>\n",
       "    <tr>\n",
       "      <th>0</th>\n",
       "      <td>0</td>\n",
       "      <td>Stocks That Hit 52-Week Highs On Friday</td>\n",
       "      <td>https://www.benzinga.com/news/20/06/16190091/s...</td>\n",
       "      <td>Benzinga Insights</td>\n",
       "      <td>NaT</td>\n",
       "      <td>A</td>\n",
       "      <td>39</td>\n",
       "      <td>NaT</td>\n",
       "      <td>NaN</td>\n",
       "      <td>0.0000</td>\n",
       "      <td>Neutral</td>\n",
       "    </tr>\n",
       "    <tr>\n",
       "      <th>1</th>\n",
       "      <td>1</td>\n",
       "      <td>Stocks That Hit 52-Week Highs On Wednesday</td>\n",
       "      <td>https://www.benzinga.com/news/20/06/16170189/s...</td>\n",
       "      <td>Benzinga Insights</td>\n",
       "      <td>NaT</td>\n",
       "      <td>A</td>\n",
       "      <td>42</td>\n",
       "      <td>NaT</td>\n",
       "      <td>NaN</td>\n",
       "      <td>0.0000</td>\n",
       "      <td>Neutral</td>\n",
       "    </tr>\n",
       "    <tr>\n",
       "      <th>2</th>\n",
       "      <td>2</td>\n",
       "      <td>71 Biggest Movers From Friday</td>\n",
       "      <td>https://www.benzinga.com/news/20/05/16103463/7...</td>\n",
       "      <td>Lisa Levin</td>\n",
       "      <td>NaT</td>\n",
       "      <td>A</td>\n",
       "      <td>29</td>\n",
       "      <td>NaT</td>\n",
       "      <td>NaN</td>\n",
       "      <td>0.0000</td>\n",
       "      <td>Neutral</td>\n",
       "    </tr>\n",
       "    <tr>\n",
       "      <th>3</th>\n",
       "      <td>3</td>\n",
       "      <td>46 Stocks Moving In Friday's Mid-Day Session</td>\n",
       "      <td>https://www.benzinga.com/news/20/05/16095921/4...</td>\n",
       "      <td>Lisa Levin</td>\n",
       "      <td>NaT</td>\n",
       "      <td>A</td>\n",
       "      <td>44</td>\n",
       "      <td>NaT</td>\n",
       "      <td>NaN</td>\n",
       "      <td>0.0000</td>\n",
       "      <td>Neutral</td>\n",
       "    </tr>\n",
       "    <tr>\n",
       "      <th>4</th>\n",
       "      <td>4</td>\n",
       "      <td>B of A Securities Maintains Neutral on Agilent...</td>\n",
       "      <td>https://www.benzinga.com/news/20/05/16095304/b...</td>\n",
       "      <td>Vick Meyer</td>\n",
       "      <td>NaT</td>\n",
       "      <td>A</td>\n",
       "      <td>87</td>\n",
       "      <td>NaT</td>\n",
       "      <td>NaN</td>\n",
       "      <td>0.2960</td>\n",
       "      <td>Neutral</td>\n",
       "    </tr>\n",
       "    <tr>\n",
       "      <th>...</th>\n",
       "      <td>...</td>\n",
       "      <td>...</td>\n",
       "      <td>...</td>\n",
       "      <td>...</td>\n",
       "      <td>...</td>\n",
       "      <td>...</td>\n",
       "      <td>...</td>\n",
       "      <td>...</td>\n",
       "      <td>...</td>\n",
       "      <td>...</td>\n",
       "      <td>...</td>\n",
       "    </tr>\n",
       "    <tr>\n",
       "      <th>1407323</th>\n",
       "      <td>1413844</td>\n",
       "      <td>Top Narrow Based Indexes For August 29</td>\n",
       "      <td>https://www.benzinga.com/news/11/08/1888782/to...</td>\n",
       "      <td>Monica Gerson</td>\n",
       "      <td>2011-08-29 00:00:00+00:00</td>\n",
       "      <td>ZX</td>\n",
       "      <td>38</td>\n",
       "      <td>2011-08-29</td>\n",
       "      <td>Monday</td>\n",
       "      <td>0.2023</td>\n",
       "      <td>Neutral</td>\n",
       "    </tr>\n",
       "    <tr>\n",
       "      <th>1407324</th>\n",
       "      <td>1413845</td>\n",
       "      <td>Recap: Wednesday's Top Percentage Gainers and ...</td>\n",
       "      <td>https://www.benzinga.com/news/earnings/11/06/1...</td>\n",
       "      <td>Benjamin Lee</td>\n",
       "      <td>2011-06-22 00:00:00+00:00</td>\n",
       "      <td>ZX</td>\n",
       "      <td>52</td>\n",
       "      <td>2011-06-22</td>\n",
       "      <td>Wednesday</td>\n",
       "      <td>-0.3818</td>\n",
       "      <td>Negative</td>\n",
       "    </tr>\n",
       "    <tr>\n",
       "      <th>1407325</th>\n",
       "      <td>1413846</td>\n",
       "      <td>UPDATE: Oppenheimer Color on China Zenix Auto ...</td>\n",
       "      <td>https://www.benzinga.com/analyst-ratings/analy...</td>\n",
       "      <td>BenzingaStaffL</td>\n",
       "      <td>2011-06-21 00:00:00+00:00</td>\n",
       "      <td>ZX</td>\n",
       "      <td>56</td>\n",
       "      <td>2011-06-21</td>\n",
       "      <td>Tuesday</td>\n",
       "      <td>0.0000</td>\n",
       "      <td>Neutral</td>\n",
       "    </tr>\n",
       "    <tr>\n",
       "      <th>1407326</th>\n",
       "      <td>1413847</td>\n",
       "      <td>Oppenheimer Initiates China Zenix At Outperfor...</td>\n",
       "      <td>https://www.benzinga.com/analyst-ratings/price...</td>\n",
       "      <td>Joe Young</td>\n",
       "      <td>2011-06-21 00:00:00+00:00</td>\n",
       "      <td>ZX</td>\n",
       "      <td>54</td>\n",
       "      <td>2011-06-21</td>\n",
       "      <td>Tuesday</td>\n",
       "      <td>0.0000</td>\n",
       "      <td>Neutral</td>\n",
       "    </tr>\n",
       "    <tr>\n",
       "      <th>1407327</th>\n",
       "      <td>1413848</td>\n",
       "      <td>China Zenix Auto International Opens For Tradi...</td>\n",
       "      <td>https://www.benzinga.com/news/ipos/11/05/10789...</td>\n",
       "      <td>Allie Wickman</td>\n",
       "      <td>2011-05-12 00:00:00+00:00</td>\n",
       "      <td>ZX</td>\n",
       "      <td>81</td>\n",
       "      <td>2011-05-12</td>\n",
       "      <td>Thursday</td>\n",
       "      <td>0.0000</td>\n",
       "      <td>Neutral</td>\n",
       "    </tr>\n",
       "  </tbody>\n",
       "</table>\n",
       "<p>1407328 rows × 11 columns</p>\n",
       "</div>"
      ],
      "text/plain": [
       "         Unnamed: 0                                           headline  \\\n",
       "0                 0            Stocks That Hit 52-Week Highs On Friday   \n",
       "1                 1         Stocks That Hit 52-Week Highs On Wednesday   \n",
       "2                 2                      71 Biggest Movers From Friday   \n",
       "3                 3       46 Stocks Moving In Friday's Mid-Day Session   \n",
       "4                 4  B of A Securities Maintains Neutral on Agilent...   \n",
       "...             ...                                                ...   \n",
       "1407323     1413844             Top Narrow Based Indexes For August 29   \n",
       "1407324     1413845  Recap: Wednesday's Top Percentage Gainers and ...   \n",
       "1407325     1413846  UPDATE: Oppenheimer Color on China Zenix Auto ...   \n",
       "1407326     1413847  Oppenheimer Initiates China Zenix At Outperfor...   \n",
       "1407327     1413848  China Zenix Auto International Opens For Tradi...   \n",
       "\n",
       "                                                       url          publisher  \\\n",
       "0        https://www.benzinga.com/news/20/06/16190091/s...  Benzinga Insights   \n",
       "1        https://www.benzinga.com/news/20/06/16170189/s...  Benzinga Insights   \n",
       "2        https://www.benzinga.com/news/20/05/16103463/7...         Lisa Levin   \n",
       "3        https://www.benzinga.com/news/20/05/16095921/4...         Lisa Levin   \n",
       "4        https://www.benzinga.com/news/20/05/16095304/b...         Vick Meyer   \n",
       "...                                                    ...                ...   \n",
       "1407323  https://www.benzinga.com/news/11/08/1888782/to...      Monica Gerson   \n",
       "1407324  https://www.benzinga.com/news/earnings/11/06/1...       Benjamin Lee   \n",
       "1407325  https://www.benzinga.com/analyst-ratings/analy...     BenzingaStaffL   \n",
       "1407326  https://www.benzinga.com/analyst-ratings/price...          Joe Young   \n",
       "1407327  https://www.benzinga.com/news/ipos/11/05/10789...      Allie Wickman   \n",
       "\n",
       "                             date stock  headline_length publication_date  \\\n",
       "0                             NaT     A               39              NaT   \n",
       "1                             NaT     A               42              NaT   \n",
       "2                             NaT     A               29              NaT   \n",
       "3                             NaT     A               44              NaT   \n",
       "4                             NaT     A               87              NaT   \n",
       "...                           ...   ...              ...              ...   \n",
       "1407323 2011-08-29 00:00:00+00:00    ZX               38       2011-08-29   \n",
       "1407324 2011-06-22 00:00:00+00:00    ZX               52       2011-06-22   \n",
       "1407325 2011-06-21 00:00:00+00:00    ZX               56       2011-06-21   \n",
       "1407326 2011-06-21 00:00:00+00:00    ZX               54       2011-06-21   \n",
       "1407327 2011-05-12 00:00:00+00:00    ZX               81       2011-05-12   \n",
       "\n",
       "        day_of_week  sentiment sentiment_category  \n",
       "0               NaN     0.0000            Neutral  \n",
       "1               NaN     0.0000            Neutral  \n",
       "2               NaN     0.0000            Neutral  \n",
       "3               NaN     0.0000            Neutral  \n",
       "4               NaN     0.2960            Neutral  \n",
       "...             ...        ...                ...  \n",
       "1407323      Monday     0.2023            Neutral  \n",
       "1407324   Wednesday    -0.3818           Negative  \n",
       "1407325     Tuesday     0.0000            Neutral  \n",
       "1407326     Tuesday     0.0000            Neutral  \n",
       "1407327    Thursday     0.0000            Neutral  \n",
       "\n",
       "[1407328 rows x 11 columns]"
      ]
     },
     "execution_count": 21,
     "metadata": {},
     "output_type": "execute_result"
    }
   ],
   "source": [
    "sentiment_data\n",
    "# Display the sentiment data"
   ]
  },
  {
   "cell_type": "code",
   "execution_count": 23,
   "id": "2c1e0e56",
   "metadata": {},
   "outputs": [
    {
     "data": {
      "application/vnd.microsoft.datawrangler.viewer.v0+json": {
       "columns": [
        {
         "name": "sentiment_category",
         "rawType": "category",
         "type": "unknown"
        },
        {
         "name": "count",
         "rawType": "int64",
         "type": "integer"
        }
       ],
       "ref": "2489e64a-fde7-4f98-b6b1-36b5314b947b",
       "rows": [
        [
         "Neutral",
         "1070915"
        ],
        [
         "Negative",
         "182864"
        ],
        [
         "Positive",
         "109718"
        ],
        [
         "Very Negative",
         "43831"
        ]
       ],
       "shape": {
        "columns": 1,
        "rows": 4
       }
      },
      "text/plain": [
       "sentiment_category\n",
       "Neutral          1070915\n",
       "Negative          182864\n",
       "Positive          109718\n",
       "Very Negative      43831\n",
       "Name: count, dtype: int64"
      ]
     },
     "execution_count": 23,
     "metadata": {},
     "output_type": "execute_result"
    }
   ],
   "source": [
    "sentiment_data['sentiment_category'].value_counts()\n"
   ]
  },
  {
   "cell_type": "code",
   "execution_count": 24,
   "id": "fc6765a1",
   "metadata": {},
   "outputs": [
    {
     "data": {
      "application/vnd.microsoft.datawrangler.viewer.v0+json": {
       "columns": [
        {
         "name": "index",
         "rawType": "int64",
         "type": "integer"
        },
        {
         "name": "Unnamed: 0",
         "rawType": "int64",
         "type": "integer"
        },
        {
         "name": "headline",
         "rawType": "object",
         "type": "string"
        },
        {
         "name": "url",
         "rawType": "object",
         "type": "string"
        },
        {
         "name": "publisher",
         "rawType": "object",
         "type": "string"
        },
        {
         "name": "date",
         "rawType": "datetime64[ns, UTC]",
         "type": "unknown"
        },
        {
         "name": "stock",
         "rawType": "object",
         "type": "string"
        },
        {
         "name": "headline_length",
         "rawType": "int64",
         "type": "integer"
        },
        {
         "name": "publication_date",
         "rawType": "object",
         "type": "unknown"
        },
        {
         "name": "day_of_week",
         "rawType": "object",
         "type": "unknown"
        },
        {
         "name": "sentiment",
         "rawType": "float64",
         "type": "float"
        },
        {
         "name": "sentiment_category",
         "rawType": "category",
         "type": "unknown"
        }
       ],
       "ref": "49a3b5b1-810a-4502-afb3-f0519c3abab6",
       "rows": [
        [
         "6680",
         "7120",
         "Tech Stocks And FAANGS Strong Again To Start Day As Market Awaits Fed",
         "https://www.benzinga.com/government/20/06/16223418/tech-stocks-and-faangs-strong-again-to-start-day-as-market-awaits-fed",
         "JJ Kinahan",
         null,
         "AAPL",
         "69",
         null,
         null,
         "0.5574",
         "Positive"
        ],
        [
         "6681",
         "7121",
         "10 Biggest Price Target Changes For Wednesday",
         "https://www.benzinga.com/analyst-ratings/price-target/20/06/16220539/10-biggest-price-target-changes-for-wednesday",
         "Lisa Levin",
         null,
         "AAPL",
         "45",
         null,
         null,
         "0.0",
         "Neutral"
        ],
        [
         "6682",
         "7122",
         "Benzinga Pro's Top 5 Stocks To Watch For Wed., Jun. 10, 2020: AAPL, BAC, NIO, SONO, GLW",
         "https://www.benzinga.com/short-sellers/20/06/16220099/benzinga-pros-top-5-stocks-to-watch-for-wed-jun-10-2020-aapl-bac-nio-sono-glw",
         "Benzinga Newsdesk",
         null,
         "AAPL",
         "87",
         null,
         null,
         "0.2023",
         "Neutral"
        ],
        [
         "6683",
         "7123",
         "Deutsche Bank Maintains Buy on Apple, Raises Price Target to $350",
         "https://www.benzinga.com/news/20/06/16219873/deutsche-bank-maintains-buy-on-apple-raises-price-target-to-350",
         "Benzinga Newsdesk",
         null,
         "AAPL",
         "65",
         null,
         null,
         "0.0",
         "Neutral"
        ],
        [
         "6684",
         "7124",
         "Apple To Let Users Trade In Their Mac Computers For Credit At US, Canada Stores: Report",
         "https://www.benzinga.com/news/20/06/16218697/apple-to-let-users-turn-in-their-mac-computers-for-credit-at-us-canada-stores-starting-this-month-re",
         "Neer Varshney",
         null,
         "AAPL",
         "87",
         null,
         null,
         "0.3818",
         "Neutral"
        ],
        [
         "6685",
         "7125",
         "Big Tech Reaches New Record Heights At The Stock Market",
         "https://www.benzinga.com/news/20/06/16218615/big-tech-reaches-new-record-heights-at-the-stock-market",
         "Neer Varshney",
         null,
         "AAPL",
         "55",
         null,
         null,
         "0.0516",
         "Neutral"
        ],
        [
         "6686",
         "7126",
         "Why Apple's Stock Is Trading Higher Today",
         "https://www.benzinga.com/news/20/06/16215446/why-apples-stock-is-trading-higher-today",
         "Tanzeel Akhtar",
         null,
         "AAPL",
         "41",
         null,
         null,
         "0.0",
         "Neutral"
        ],
        [
         "6687",
         "7127",
         "Apple Could Announce In-House Chips For Macs At WWDC: Report",
         "https://www.benzinga.com/news/20/06/16214115/apple-could-announce-in-house-chips-for-macs-at-wwdc-report",
         "Shanthi Rexaline",
         null,
         "AAPL",
         "60",
         null,
         null,
         "0.0",
         "Neutral"
        ],
        [
         "6688",
         "7128",
         "Apple shares are trading higher despite market weakness, not currently seeing company-specific news. It was reported the company is expected to begin iPhone 12 production in July.",
         "https://www.benzinga.com/wiim/20/06/16214320/apple-shares-are-trading-higher-despite-market-weakness-not-currently-seeing-company-specific-news-i",
         "Benzinga Newsdesk",
         null,
         "AAPL",
         "179",
         null,
         null,
         "0.5472",
         "Positive"
        ],
        [
         "6689",
         "7129",
         "Sonos Shares Spike To Session High, Now Up 9.5%, As Citron's Andrew Left, Currently Interviewing On FOX Business, Said Co. Could Be Acquired By Apple Or Amazon",
         "https://www.benzinga.com/m-a/20/06/16213381/sonos-shares-spike-to-session-high-now-up-9-5-as-citrons-andrew-left-currently-interviewing-on-fox-b",
         "Benzinga Newsdesk",
         null,
         "AAPL",
         "159",
         null,
         null,
         "0.4404",
         "Neutral"
        ],
        [
         "6690",
         "7159",
         "'Apple is tracking iPhones stolen by looters' -Earlier NY Post Article",
         "https://www.benzinga.com/news/20/06/16161103/apple-is-tracking-iphones-stolen-by-looters-earlier-ny-post-article",
         "Benzinga Newsdesk",
         "2020-06-02 00:00:00+00:00",
         "AAPL",
         "70",
         "2020-06-02",
         "Tuesday",
         "-0.4939",
         "Negative"
        ],
        [
         "6691",
         "7160",
         "MoneyGram Shares Jump 50% As Western Union Reportedly Looks For Acquisition",
         "https://www.benzinga.com/m-a/20/06/16156730/moneygram-shares-jump-50-as-western-union-reportedly-looks-for-acquisition",
         "Neer Varshney",
         "2020-06-02 00:00:00+00:00",
         "AAPL",
         "75",
         "2020-06-02",
         "Tuesday",
         "0.296",
         "Neutral"
        ],
        [
         "6692",
         "7161",
         "Hearing Susquehanna Check Suggests Total iPhone 12 Builds Tracking To 10M, Below Firm's Expectation Of 25M; Unconfirmed",
         "https://www.benzinga.com/analyst-ratings/analyst-color/20/06/16158083/hearing-susquehanna-check-suggests-total-iphone-12-builds-tracking-to-10m-below-fir",
         "Benzinga Newsdesk",
         "2020-06-02 00:00:00+00:00",
         "AAPL",
         "119",
         "2020-06-02",
         "Tuesday",
         "-0.128",
         "Negative"
        ],
        [
         "6693",
         "7162",
         "Tesla CEO Musk Says Other Three Officers Should Be Charged In Floyd's Murder Case",
         "https://www.benzinga.com/news/20/06/16156648/tesla-ceo-musk-says-other-three-officers-should-be-charged-in-floyds-murder-case",
         "Neer Varshney",
         "2020-06-02 00:00:00+00:00",
         "AAPL",
         "81",
         "2020-06-02",
         "Tuesday",
         "-0.7579",
         "Very Negative"
        ],
        [
         "6694",
         "7163",
         "A Peek Into The Markets: US Stock Futures Up; Crude Oil Rises Over 2%",
         "https://www.benzinga.com/news/earnings/20/06/16157378/a-peek-into-the-markets-us-stock-futures-up-crude-oil-rises-over-2",
         "Lisa Levin",
         "2020-06-02 00:00:00+00:00",
         "AAPL",
         "69",
         "2020-06-02",
         "Tuesday",
         "-0.5719",
         "Very Negative"
        ],
        [
         "6695",
         "7164",
         "Pepper Spray, Books On Racism, 'I Can't Breathe' Merchandise Are Top Sellers On Amazon As Protests Rage",
         "https://www.benzinga.com/news/20/06/16156515/pepper-spray-books-on-racism-i-cant-breathe-merchandise-are-top-sellers-on-amazon-as-protests-rage",
         "Neer Varshney",
         "2020-06-02 00:00:00+00:00",
         "AAPL",
         "103",
         "2020-06-02",
         "Tuesday",
         "-0.7964",
         "Very Negative"
        ],
        [
         "6696",
         "7165",
         "Apple Cuts iPhone Prices in China To Push Sales As Country Reopens Economy",
         "https://www.benzinga.com/news/20/06/16156462/apple-cuts-iphone-prices-in-china-to-push-sales-as-country-reopens-economy",
         "Shivdeep Dhaliwal",
         "2020-06-01 00:00:00+00:00",
         "AAPL",
         "74",
         "2020-06-01",
         "Monday",
         "-0.296",
         "Negative"
        ],
        [
         "6697",
         "7166",
         "Gun, Security Stocks Trade Higher After Weekend Protests Turn Violent And Destructive",
         "https://www.benzinga.com/news/20/06/16150247/gun-security-stocks-trade-higher-after-weekend-protests-turn-violent-and-destructive",
         "Wayne Duggan",
         "2020-06-01 00:00:00+00:00",
         "AAPL",
         "85",
         "2020-06-01",
         "Monday",
         "-0.8689",
         "Very Negative"
        ],
        [
         "6698",
         "7167",
         "Carter Worth And Mike Khouw's Apple Trade",
         "https://www.benzinga.com/markets/options/20/06/16148745/carter-worth-and-mike-khouws-apple-trade",
         "Craig Jones",
         "2020-06-01 00:00:00+00:00",
         "AAPL",
         "41",
         "2020-06-01",
         "Monday",
         "0.2263",
         "Neutral"
        ],
        [
         "6699",
         "7168",
         "Apple Pays Hacker From India $100,000 For Discovering Serious 'Sign In With Apple' Vulnerability",
         "https://www.benzinga.com/news/20/06/16146494/apple-pays-hacker-from-india-100-000-for-discovering-serious-sign-in-with-apple-vulnerability",
         "Shivdeep Dhaliwal",
         "2020-06-01 00:00:00+00:00",
         "AAPL",
         "96",
         "2020-06-01",
         "Monday",
         "-0.296",
         "Negative"
        ],
        [
         "6700",
         "7169",
         "Volume Production of New iPhone Models to Begin in Q3 2020",
         "https://www.benzinga.com/news/20/06/16147117/volume-production-of-new-iphone-models-to-begin-in-q3-2020",
         "Charles Gross",
         "2020-06-01 00:00:00+00:00",
         "AAPL",
         "58",
         "2020-06-01",
         "Monday",
         "0.0",
         "Neutral"
        ],
        [
         "6701",
         "7170",
         "Apple CEO Writes To Employees About George Floyd Death, Urges For 'Better, More Just World For Everyone'",
         "https://www.benzinga.com/news/20/06/16146417/apple-ceo-writes-to-employees-about-george-floyd-death-urges-for-better-more-just-world-for-everyone",
         "Shivdeep Dhaliwal",
         "2020-06-01 00:00:00+00:00",
         "AAPL",
         "104",
         "2020-06-01",
         "Monday",
         "-0.5994",
         "Very Negative"
        ],
        [
         "6702",
         "7171",
         "Amazon, Apple, Walmart, Other Retailers Shutter Stores, Scale Back Operations In Areas Worst Hit With Protests",
         "https://www.benzinga.com/news/20/06/16146370/amazon-apple-walmart-other-retailers-shutter-stores-scale-back-operations-in-areas-worst-hit-with-pr",
         "Neer Varshney",
         "2020-05-31 00:00:00+00:00",
         "AAPL",
         "110",
         "2020-05-31",
         "Sunday",
         "-0.6486",
         "Very Negative"
        ],
        [
         "6703",
         "7172",
         "Apple Says With Health and Safety of Its Teams in Mind, Decided to Keep Number of Its Stores in the U.S. Closed on Sunday",
         "https://www.benzinga.com/news/20/05/16146213/apple-says-with-health-and-safety-of-its-teams-in-mind-decided-to-keep-number-of-its-stores-in-the-u",
         "Charles Gross",
         "2020-05-31 00:00:00+00:00",
         "AAPL",
         "121",
         "2020-05-31",
         "Sunday",
         "0.4767",
         "Neutral"
        ],
        [
         "6704",
         "7173",
         "Costco Shares Come Under Pressure Despite Strong Earnings, Same-Store Sales",
         "https://www.benzinga.com/government/20/05/16138428/costco-shares-come-under-pressure-despite-strong-earnings-same-store-sales",
         "JJ Kinahan",
         "2020-05-29 00:00:00+00:00",
         "AAPL",
         "75",
         "2020-05-29",
         "Friday",
         "-0.4023",
         "Negative"
        ],
        [
         "6705",
         "7174",
         "Trump's Executive Order To Expose Social Media To Lawsuits Over Content Policies",
         "https://www.benzinga.com/analyst-ratings/analyst-color/20/05/16128213/trumps-executive-order-to-expose-social-media-to-lawsuits-over-content-policies",
         "Elizabeth Balboa",
         "2020-05-28 00:00:00+00:00",
         "AAPL",
         "80",
         "2020-05-28",
         "Thursday",
         "-0.296",
         "Negative"
        ],
        [
         "6706",
         "7175",
         "Costco Earnings On Tap After Close As Investors Mull Strong Toll Brothers Results",
         "https://www.benzinga.com/news/20/05/16127758/costco-earnings-on-tap-after-close-as-investors-mull-strong-toll-brothers-results",
         "JJ Kinahan",
         "2020-05-28 00:00:00+00:00",
         "AAPL",
         "81",
         "2020-05-28",
         "Thursday",
         "0.5106",
         "Positive"
        ],
        [
         "6707",
         "7176",
         "Martin Scorsese's Next Movie Will Be Financed By Apple: Report",
         "https://www.benzinga.com/news/20/05/16124204/martin-scorseses-next-movie-will-be-financed-by-apple-report",
         "Shivdeep Dhaliwal",
         "2020-05-28 00:00:00+00:00",
         "AAPL",
         "62",
         "2020-05-28",
         "Thursday",
         "0.0",
         "Neutral"
        ],
        [
         "6708",
         "7177",
         "Tech Companies Aren't 'State Actors,' Judge Dismisses Conservative Bias Lawsuit Against Facebook, Twitter, Google, Apple",
         "https://www.benzinga.com/news/20/05/16124533/tech-companies-arent-state-actors-judge-dismisses-conservative-bias-lawsuit-against-facebook-twitter",
         "Neer Varshney",
         "2020-05-28 00:00:00+00:00",
         "AAPL",
         "120",
         "2020-05-28",
         "Thursday",
         "-0.3182",
         "Negative"
        ],
        [
         "6709",
         "7178",
         "Leidos Awarded $84.6M Payment from VirnetX Lawsuit vs Apple",
         "https://www.benzinga.com/news/20/05/16123778/leidos-awarded-84-6m-payment-from-virnetx-lawsuit-vs-apple",
         "Charles Gross",
         "2020-05-27 00:00:00+00:00",
         "AAPL",
         "59",
         "2020-05-27",
         "Wednesday",
         "0.2023",
         "Neutral"
        ],
        [
         "6710",
         "7179",
         "The Most Popular Smartphone Model Of Q1",
         "https://www.benzinga.com/news/20/05/16115833/the-most-popular-smartphone-model-of-q1",
         "Shanthi Rexaline",
         "2020-05-27 00:00:00+00:00",
         "AAPL",
         "39",
         "2020-05-27",
         "Wednesday",
         "0.4754",
         "Neutral"
        ],
        [
         "6711",
         "7180",
         "This New Tool Will Tell You Whether Or Not An Options Spread Is A Good Deal",
         "https://www.benzinga.com/general/education/20/05/16120055/this-new-tool-will-tell-you-whether-or-not-an-options-spread-is-a-good-deal",
         "Spencer Israel",
         "2020-05-27 00:00:00+00:00",
         "AAPL",
         "75",
         "2020-05-27",
         "Wednesday",
         "0.4404",
         "Neutral"
        ],
        [
         "6712",
         "7181",
         "B of A Securities Maintains Buy on Apple, Raises Price Target to $340",
         "https://www.benzinga.com/news/20/05/16117795/b-of-a-securities-maintains-buy-on-apple-raises-price-target-to-340",
         "Vick Meyer",
         "2020-05-27 00:00:00+00:00",
         "AAPL",
         "69",
         "2020-05-27",
         "Wednesday",
         "0.296",
         "Neutral"
        ],
        [
         "6713",
         "7182",
         "3 Apple Analysts Lift Price Targets: Why They're Optimistic On iPhone's Trajectory",
         "https://www.benzinga.com/analyst-ratings/analyst-color/20/05/16116516/3-apple-analysts-lift-price-targets-why-theyre-optimistic-on-iphones-trajectory",
         "Shanthi Rexaline",
         "2020-05-27 00:00:00+00:00",
         "AAPL",
         "82",
         "2020-05-27",
         "Wednesday",
         "0.3182",
         "Neutral"
        ],
        [
         "6714",
         "7183",
         "'LG reportedly supplying 20 million OLED panels for 'iPhone 12 Max'' -AppleInsider",
         "https://www.benzinga.com/news/20/05/16115993/lg-reportedly-supplying-20-million-oled-panels-for-iphone-12-max-appleinsider",
         "Benzinga Newsdesk",
         "2020-05-27 00:00:00+00:00",
         "AAPL",
         "82",
         "2020-05-27",
         "Wednesday",
         "0.0",
         "Neutral"
        ],
        [
         "6715",
         "7184",
         "Same Old Leadership Song Lifts These Leveraged ETFs",
         "https://www.benzinga.com/trading-ideas/long-ideas/20/05/16112730/same-old-leadership-song-lifts-these-leveraged-etfs",
         "ETF Professor",
         "2020-05-27 00:00:00+00:00",
         "AAPL",
         "51",
         "2020-05-27",
         "Wednesday",
         "0.0",
         "Neutral"
        ],
        [
         "6716",
         "7185",
         "Deutsche Bank Maintains Buy on Apple, Raises Price Target to $320",
         "https://www.benzinga.com/news/20/05/16114459/deutsche-bank-maintains-buy-on-apple-raises-price-target-to-320",
         "Benzinga_Newsdesk",
         "2020-05-27 00:00:00+00:00",
         "AAPL",
         "65",
         "2020-05-27",
         "Wednesday",
         "0.0",
         "Neutral"
        ],
        [
         "6717",
         "7186",
         "YouTube Makes Its Dedicated Children App Available On Apple TV",
         "https://www.benzinga.com/news/20/05/16113144/youtube-makes-its-dedicated-children-app-available-on-apple-tv",
         "Neer Varshney",
         "2020-05-27 00:00:00+00:00",
         "AAPL",
         "62",
         "2020-05-27",
         "Wednesday",
         "0.4588",
         "Neutral"
        ],
        [
         "6718",
         "7187",
         "Samsung Display Secures Majority of Panel Orders for Next-gen iPhone",
         "https://www.benzinga.com/news/20/05/16113529/samsung-display-secures-majority-of-panel-orders-for-next-gen-iphone",
         "Charles Gross",
         "2020-05-27 00:00:00+00:00",
         "AAPL",
         "68",
         "2020-05-27",
         "Wednesday",
         "0.3182",
         "Neutral"
        ],
        [
         "6719",
         "7188",
         "Study: 34% Of Americans Report Looking Through Their Partner's Phone Without Permission",
         "https://www.benzinga.com/general/education/20/05/16100606/study-34-of-americans-report-looking-through-their-partners-phone-without-permission",
         "Henry Khederian",
         "2020-05-26 00:00:00+00:00",
         "AAPL",
         "87",
         "2020-05-26",
         "Tuesday",
         "0.0",
         "Neutral"
        ],
        [
         "6720",
         "7189",
         "Apple To Reopen ~100 More US Stores This Week",
         "https://www.benzinga.com/news/20/05/16108713/apple-to-reopen-100-more-us-stores-this-week",
         "Benzinga Newsdesk",
         "2020-05-26 00:00:00+00:00",
         "AAPL",
         "45",
         "2020-05-26",
         "Tuesday",
         "0.0",
         "Neutral"
        ],
        [
         "6721",
         "7190",
         "'FAANG Stocks Are Strong Once Again,' Facebook, Amazon, Netflix Hit Record Highs Last Week",
         "https://www.benzinga.com/news/20/05/16103196/faang-stocks-are-strong-once-again-facebook-amazon-netflix-hit-record-highs-last-week",
         "Neer Varshney",
         "2020-05-26 00:00:00+00:00",
         "AAPL",
         "90",
         "2020-05-26",
         "Tuesday",
         "0.6124",
         "Positive"
        ],
        [
         "6722",
         "7191",
         "Apple Expected to Incorporate Ambient Light Sensors in Next-generation Airpods Devices",
         "https://www.benzinga.com/news/20/05/16101534/apple-expected-to-incorporate-ambient-light-sensors-in-next-generation-airpods-devices",
         "Charles Gross",
         "2020-05-25 00:00:00+00:00",
         "AAPL",
         "86",
         "2020-05-25",
         "Monday",
         "0.0",
         "Neutral"
        ],
        [
         "6723",
         "7192",
         "The Secret to Tech's Resilience to COVID-19- Infrastructure Expansion",
         "https://www.benzinga.com/news/earnings/20/05/16093892/the-secret-to-techs-resilience-to-covid-19-infrastructure-expansion",
         "IAM Newswire",
         "2020-05-22 00:00:00+00:00",
         "AAPL",
         "69",
         "2020-05-22",
         "Friday",
         "0.0",
         "Neutral"
        ],
        [
         "6724",
         "7193",
         "Apple Is Seeking An Executive To Lead Original Podcast Effort, Is Buying Original Podcasts That Would Be Exclusive; New Podcasts Will Help Promote TV+ Video Service",
         "https://www.benzinga.com/tech/20/05/16088267/apple-is-seeking-an-executive-to-lead-original-podcast-effort-is-buying-original-podcasts-that-would",
         "Benzinga Newsdesk",
         "2020-05-21 00:00:00+00:00",
         "AAPL",
         "164",
         "2020-05-21",
         "Thursday",
         "0.8555",
         "Positive"
        ],
        [
         "6725",
         "7194",
         "Evercore ISI Analyst Amit DAryanani Says Apple Can Exceed $100 Billion In Services Revenue In The Fiscal Year Ending In September 2024",
         "https://www.benzinga.com/analyst-ratings/analyst-color/20/05/16088238/evercore-isi-analyst-amit-daryanani-says-apple-can-exceed-100-billion-in-services-r",
         "Benzinga Newsdesk",
         "2020-05-21 00:00:00+00:00",
         "AAPL",
         "134",
         "2020-05-21",
         "Thursday",
         "0.0",
         "Neutral"
        ],
        [
         "6726",
         "7195",
         "Apple Vs. Tesla: Morgan Stanley Breaks Down The Parallels",
         "https://www.benzinga.com/analyst-ratings/analyst-color/20/05/16084937/apple-vs-tesla-morgan-stanley-breaks-down-the-parallels",
         "Elizabeth Balboa",
         "2020-05-21 00:00:00+00:00",
         "AAPL",
         "57",
         "2020-05-21",
         "Thursday",
         "0.0",
         "Neutral"
        ],
        [
         "6727",
         "7196",
         "As The Global Economy Weighs Fears Of A Recession, Travel Is Already In A Depression",
         "https://www.benzinga.com/news/20/05/16086804/as-the-global-economy-weighs-fears-of-a-recession-travel-is-already-in-a-depression",
         "IAM Newswire",
         "2020-05-21 00:00:00+00:00",
         "AAPL",
         "84",
         "2020-05-21",
         "Thursday",
         "-0.8519",
         "Very Negative"
        ],
        [
         "6728",
         "7197",
         "Hearing Evercore ISI Raises Price Target On Apple From $330 To $345",
         "https://www.benzinga.com/news/20/05/16083197/hearing-evercore-isi-raises-price-target-on-apple-from-330-to-345",
         "Benzinga Newsdesk",
         "2020-05-21 00:00:00+00:00",
         "AAPL",
         "67",
         "2020-05-21",
         "Thursday",
         "0.0",
         "Neutral"
        ],
        [
         "6729",
         "7198",
         "Apple's Face ID Will Allow Mask Wearing Users To Unlock Their Phones Quickly",
         "https://www.benzinga.com/news/20/05/16081929/apples-face-id-will-allow-mask-wearing-users-to-unlock-their-phones-quickly",
         "Shivdeep Dhaliwal",
         "2020-05-20 00:00:00+00:00",
         "AAPL",
         "76",
         "2020-05-20",
         "Wednesday",
         "0.2263",
         "Neutral"
        ]
       ],
       "shape": {
        "columns": 11,
        "rows": 441
       }
      },
      "text/html": [
       "<div>\n",
       "<style scoped>\n",
       "    .dataframe tbody tr th:only-of-type {\n",
       "        vertical-align: middle;\n",
       "    }\n",
       "\n",
       "    .dataframe tbody tr th {\n",
       "        vertical-align: top;\n",
       "    }\n",
       "\n",
       "    .dataframe thead th {\n",
       "        text-align: right;\n",
       "    }\n",
       "</style>\n",
       "<table border=\"1\" class=\"dataframe\">\n",
       "  <thead>\n",
       "    <tr style=\"text-align: right;\">\n",
       "      <th></th>\n",
       "      <th>Unnamed: 0</th>\n",
       "      <th>headline</th>\n",
       "      <th>url</th>\n",
       "      <th>publisher</th>\n",
       "      <th>date</th>\n",
       "      <th>stock</th>\n",
       "      <th>headline_length</th>\n",
       "      <th>publication_date</th>\n",
       "      <th>day_of_week</th>\n",
       "      <th>sentiment</th>\n",
       "      <th>sentiment_category</th>\n",
       "    </tr>\n",
       "  </thead>\n",
       "  <tbody>\n",
       "    <tr>\n",
       "      <th>6680</th>\n",
       "      <td>7120</td>\n",
       "      <td>Tech Stocks And FAANGS Strong Again To Start D...</td>\n",
       "      <td>https://www.benzinga.com/government/20/06/1622...</td>\n",
       "      <td>JJ Kinahan</td>\n",
       "      <td>NaT</td>\n",
       "      <td>AAPL</td>\n",
       "      <td>69</td>\n",
       "      <td>NaT</td>\n",
       "      <td>NaN</td>\n",
       "      <td>0.5574</td>\n",
       "      <td>Positive</td>\n",
       "    </tr>\n",
       "    <tr>\n",
       "      <th>6681</th>\n",
       "      <td>7121</td>\n",
       "      <td>10 Biggest Price Target Changes For Wednesday</td>\n",
       "      <td>https://www.benzinga.com/analyst-ratings/price...</td>\n",
       "      <td>Lisa Levin</td>\n",
       "      <td>NaT</td>\n",
       "      <td>AAPL</td>\n",
       "      <td>45</td>\n",
       "      <td>NaT</td>\n",
       "      <td>NaN</td>\n",
       "      <td>0.0000</td>\n",
       "      <td>Neutral</td>\n",
       "    </tr>\n",
       "    <tr>\n",
       "      <th>6682</th>\n",
       "      <td>7122</td>\n",
       "      <td>Benzinga Pro's Top 5 Stocks To Watch For Wed.,...</td>\n",
       "      <td>https://www.benzinga.com/short-sellers/20/06/1...</td>\n",
       "      <td>Benzinga Newsdesk</td>\n",
       "      <td>NaT</td>\n",
       "      <td>AAPL</td>\n",
       "      <td>87</td>\n",
       "      <td>NaT</td>\n",
       "      <td>NaN</td>\n",
       "      <td>0.2023</td>\n",
       "      <td>Neutral</td>\n",
       "    </tr>\n",
       "    <tr>\n",
       "      <th>6683</th>\n",
       "      <td>7123</td>\n",
       "      <td>Deutsche Bank Maintains Buy on Apple, Raises P...</td>\n",
       "      <td>https://www.benzinga.com/news/20/06/16219873/d...</td>\n",
       "      <td>Benzinga Newsdesk</td>\n",
       "      <td>NaT</td>\n",
       "      <td>AAPL</td>\n",
       "      <td>65</td>\n",
       "      <td>NaT</td>\n",
       "      <td>NaN</td>\n",
       "      <td>0.0000</td>\n",
       "      <td>Neutral</td>\n",
       "    </tr>\n",
       "    <tr>\n",
       "      <th>6684</th>\n",
       "      <td>7124</td>\n",
       "      <td>Apple To Let Users Trade In Their Mac Computer...</td>\n",
       "      <td>https://www.benzinga.com/news/20/06/16218697/a...</td>\n",
       "      <td>Neer Varshney</td>\n",
       "      <td>NaT</td>\n",
       "      <td>AAPL</td>\n",
       "      <td>87</td>\n",
       "      <td>NaT</td>\n",
       "      <td>NaN</td>\n",
       "      <td>0.3818</td>\n",
       "      <td>Neutral</td>\n",
       "    </tr>\n",
       "    <tr>\n",
       "      <th>...</th>\n",
       "      <td>...</td>\n",
       "      <td>...</td>\n",
       "      <td>...</td>\n",
       "      <td>...</td>\n",
       "      <td>...</td>\n",
       "      <td>...</td>\n",
       "      <td>...</td>\n",
       "      <td>...</td>\n",
       "      <td>...</td>\n",
       "      <td>...</td>\n",
       "      <td>...</td>\n",
       "    </tr>\n",
       "    <tr>\n",
       "      <th>7116</th>\n",
       "      <td>7585</td>\n",
       "      <td>UBS Maintains Buy on Apple, Lowers Price Targe...</td>\n",
       "      <td>https://www.benzinga.com/news/20/03/15514989/u...</td>\n",
       "      <td>Vick Meyer</td>\n",
       "      <td>2020-03-10 00:00:00+00:00</td>\n",
       "      <td>AAPL</td>\n",
       "      <td>55</td>\n",
       "      <td>2020-03-10</td>\n",
       "      <td>Tuesday</td>\n",
       "      <td>-0.1280</td>\n",
       "      <td>Negative</td>\n",
       "    </tr>\n",
       "    <tr>\n",
       "      <th>7117</th>\n",
       "      <td>7586</td>\n",
       "      <td>123 Biggest Movers From Yesterday</td>\n",
       "      <td>https://www.benzinga.com/news/20/03/15514298/1...</td>\n",
       "      <td>Lisa Levin</td>\n",
       "      <td>2020-03-10 00:00:00+00:00</td>\n",
       "      <td>AAPL</td>\n",
       "      <td>33</td>\n",
       "      <td>2020-03-10</td>\n",
       "      <td>Tuesday</td>\n",
       "      <td>0.0000</td>\n",
       "      <td>Neutral</td>\n",
       "    </tr>\n",
       "    <tr>\n",
       "      <th>7118</th>\n",
       "      <td>7587</td>\n",
       "      <td>Crude Awakening: Energy Sector Takes A 20% Spi...</td>\n",
       "      <td>https://www.benzinga.com/news/earnings/20/03/1...</td>\n",
       "      <td>JJ Kinahan</td>\n",
       "      <td>2020-03-09 00:00:00+00:00</td>\n",
       "      <td>AAPL</td>\n",
       "      <td>91</td>\n",
       "      <td>2020-03-09</td>\n",
       "      <td>Monday</td>\n",
       "      <td>-0.9062</td>\n",
       "      <td>Very Negative</td>\n",
       "    </tr>\n",
       "    <tr>\n",
       "      <th>7119</th>\n",
       "      <td>7588</td>\n",
       "      <td>Investor Movement Index Summary: February 2020</td>\n",
       "      <td>https://www.benzinga.com/news/earnings/20/03/1...</td>\n",
       "      <td>TD Ameritrade</td>\n",
       "      <td>2020-03-09 00:00:00+00:00</td>\n",
       "      <td>AAPL</td>\n",
       "      <td>46</td>\n",
       "      <td>2020-03-09</td>\n",
       "      <td>Monday</td>\n",
       "      <td>0.0000</td>\n",
       "      <td>Neutral</td>\n",
       "    </tr>\n",
       "    <tr>\n",
       "      <th>7120</th>\n",
       "      <td>7589</td>\n",
       "      <td>101 Stocks Moving In Monday's Mid-Day Session</td>\n",
       "      <td>https://www.benzinga.com/news/20/03/15508983/1...</td>\n",
       "      <td>Lisa Levin</td>\n",
       "      <td>2020-03-09 00:00:00+00:00</td>\n",
       "      <td>AAPL</td>\n",
       "      <td>45</td>\n",
       "      <td>2020-03-09</td>\n",
       "      <td>Monday</td>\n",
       "      <td>0.0000</td>\n",
       "      <td>Neutral</td>\n",
       "    </tr>\n",
       "  </tbody>\n",
       "</table>\n",
       "<p>441 rows × 11 columns</p>\n",
       "</div>"
      ],
      "text/plain": [
       "      Unnamed: 0                                           headline  \\\n",
       "6680        7120  Tech Stocks And FAANGS Strong Again To Start D...   \n",
       "6681        7121      10 Biggest Price Target Changes For Wednesday   \n",
       "6682        7122  Benzinga Pro's Top 5 Stocks To Watch For Wed.,...   \n",
       "6683        7123  Deutsche Bank Maintains Buy on Apple, Raises P...   \n",
       "6684        7124  Apple To Let Users Trade In Their Mac Computer...   \n",
       "...          ...                                                ...   \n",
       "7116        7585  UBS Maintains Buy on Apple, Lowers Price Targe...   \n",
       "7117        7586                  123 Biggest Movers From Yesterday   \n",
       "7118        7587  Crude Awakening: Energy Sector Takes A 20% Spi...   \n",
       "7119        7588     Investor Movement Index Summary: February 2020   \n",
       "7120        7589      101 Stocks Moving In Monday's Mid-Day Session   \n",
       "\n",
       "                                                    url          publisher  \\\n",
       "6680  https://www.benzinga.com/government/20/06/1622...         JJ Kinahan   \n",
       "6681  https://www.benzinga.com/analyst-ratings/price...         Lisa Levin   \n",
       "6682  https://www.benzinga.com/short-sellers/20/06/1...  Benzinga Newsdesk   \n",
       "6683  https://www.benzinga.com/news/20/06/16219873/d...  Benzinga Newsdesk   \n",
       "6684  https://www.benzinga.com/news/20/06/16218697/a...      Neer Varshney   \n",
       "...                                                 ...                ...   \n",
       "7116  https://www.benzinga.com/news/20/03/15514989/u...         Vick Meyer   \n",
       "7117  https://www.benzinga.com/news/20/03/15514298/1...         Lisa Levin   \n",
       "7118  https://www.benzinga.com/news/earnings/20/03/1...         JJ Kinahan   \n",
       "7119  https://www.benzinga.com/news/earnings/20/03/1...      TD Ameritrade   \n",
       "7120  https://www.benzinga.com/news/20/03/15508983/1...         Lisa Levin   \n",
       "\n",
       "                          date stock  headline_length publication_date  \\\n",
       "6680                       NaT  AAPL               69              NaT   \n",
       "6681                       NaT  AAPL               45              NaT   \n",
       "6682                       NaT  AAPL               87              NaT   \n",
       "6683                       NaT  AAPL               65              NaT   \n",
       "6684                       NaT  AAPL               87              NaT   \n",
       "...                        ...   ...              ...              ...   \n",
       "7116 2020-03-10 00:00:00+00:00  AAPL               55       2020-03-10   \n",
       "7117 2020-03-10 00:00:00+00:00  AAPL               33       2020-03-10   \n",
       "7118 2020-03-09 00:00:00+00:00  AAPL               91       2020-03-09   \n",
       "7119 2020-03-09 00:00:00+00:00  AAPL               46       2020-03-09   \n",
       "7120 2020-03-09 00:00:00+00:00  AAPL               45       2020-03-09   \n",
       "\n",
       "     day_of_week  sentiment sentiment_category  \n",
       "6680         NaN     0.5574           Positive  \n",
       "6681         NaN     0.0000            Neutral  \n",
       "6682         NaN     0.2023            Neutral  \n",
       "6683         NaN     0.0000            Neutral  \n",
       "6684         NaN     0.3818            Neutral  \n",
       "...          ...        ...                ...  \n",
       "7116     Tuesday    -0.1280           Negative  \n",
       "7117     Tuesday     0.0000            Neutral  \n",
       "7118      Monday    -0.9062      Very Negative  \n",
       "7119      Monday     0.0000            Neutral  \n",
       "7120      Monday     0.0000            Neutral  \n",
       "\n",
       "[441 rows x 11 columns]"
      ]
     },
     "execution_count": 24,
     "metadata": {},
     "output_type": "execute_result"
    }
   ],
   "source": [
    "apple_data = sentiment_data[sentiment_data['stock'] == 'AAPL']\n",
    "apple_data"
   ]
  },
  {
   "cell_type": "markdown",
   "id": "289bfad5",
   "metadata": {},
   "source": [
    "Sentiment of AAPL\n"
   ]
  },
  {
   "cell_type": "code",
   "execution_count": 28,
   "id": "80d49245",
   "metadata": {},
   "outputs": [
    {
     "data": {
      "application/vnd.microsoft.datawrangler.viewer.v0+json": {
       "columns": [
        {
         "name": "sentiment_category",
         "rawType": "category",
         "type": "unknown"
        },
        {
         "name": "count",
         "rawType": "int64",
         "type": "integer"
        }
       ],
       "ref": "1e36a0a5-7eaf-45ae-b476-17d116e4927e",
       "rows": [
        [
         "Neutral",
         "298"
        ],
        [
         "Negative",
         "74"
        ],
        [
         "Positive",
         "43"
        ],
        [
         "Very Negative",
         "26"
        ]
       ],
       "shape": {
        "columns": 1,
        "rows": 4
       }
      },
      "text/plain": [
       "sentiment_category\n",
       "Neutral          298\n",
       "Negative          74\n",
       "Positive          43\n",
       "Very Negative     26\n",
       "Name: count, dtype: int64"
      ]
     },
     "execution_count": 28,
     "metadata": {},
     "output_type": "execute_result"
    }
   ],
   "source": [
    "apple_data_COUNT = apple_data['sentiment_category'].value_counts()\n",
    "apple_data_COUNT \n"
   ]
  },
  {
   "cell_type": "code",
   "execution_count": 27,
   "id": "94dc7da4",
   "metadata": {},
   "outputs": [
    {
     "name": "stderr",
     "output_type": "stream",
     "text": [
      "C:\\Users\\getde\\AppData\\Local\\Temp\\ipykernel_37432\\1884119829.py:3: FutureWarning: \n",
      "\n",
      "Passing `palette` without assigning `hue` is deprecated and will be removed in v0.14.0. Assign the `x` variable to `hue` and set `legend=False` for the same effect.\n",
      "\n",
      "  sns.barplot(x=apple_data_COUNT .index, y=apple_data_COUNT .values, palette='viridis')\n"
     ]
    },
    {
     "data": {
      "image/png": "[encoded data removed]",
      "text/plain": [
       "<Figure size 800x600 with 1 Axes>"
      ]
     },
     "metadata": {},
     "output_type": "display_data"
    }
   ],
   "source": [
    "# Visualize the sentiment distribution\n",
    "plt.figure(figsize=(8, 6))\n",
    "sns.barplot(x=apple_data_COUNT .index, y=apple_data_COUNT .values, palette='viridis')\n",
    "plt.title('Distribution of Sentiments in Headlines of AAPL')\n",
    "plt.xlabel('Sentiment')\n",
    "plt.ylabel('Number of Articles')\n",
    "plt.show()"
   ]
  },
  {
   "cell_type": "code",
   "execution_count": 29,
   "id": "59d7668d",
   "metadata": {},
   "outputs": [
    {
     "name": "stdout",
     "output_type": "stream",
     "text": [
      "2009-02-14 00:00:00+00:00 2020-06-03 00:00:00+00:00\n"
     ]
    }
   ],
   "source": [
    "print(sentiment_data['date'].min(), sentiment_data['date'].max())\n"
   ]
  },
  {
   "cell_type": "markdown",
   "id": "bd5f26cc",
   "metadata": {},
   "source": [
    "Sentiment of AMZN\n"
   ]
  },
  {
   "cell_type": "code",
   "execution_count": 30,
   "id": "344658a9",
   "metadata": {},
   "outputs": [
    {
     "data": {
      "application/vnd.microsoft.datawrangler.viewer.v0+json": {
       "columns": [
        {
         "name": "sentiment_category",
         "rawType": "category",
         "type": "unknown"
        },
        {
         "name": "count",
         "rawType": "int64",
         "type": "integer"
        }
       ],
       "ref": "44315bd7-d62d-4d01-958c-19c1420706ce",
       "rows": [
        [
         "Neutral",
         "201"
        ],
        [
         "Negative",
         "38"
        ],
        [
         "Positive",
         "28"
        ],
        [
         "Very Negative",
         "11"
        ]
       ],
       "shape": {
        "columns": 1,
        "rows": 4
       }
      },
      "text/plain": [
       "sentiment_category\n",
       "Neutral          201\n",
       "Negative          38\n",
       "Positive          28\n",
       "Very Negative     11\n",
       "Name: count, dtype: int64"
      ]
     },
     "execution_count": 30,
     "metadata": {},
     "output_type": "execute_result"
    }
   ],
   "source": [
    "AMZN_data = sentiment_data[sentiment_data['stock'] == 'AMZN']\n",
    "AMZN_data\n",
    "AMZN_data_COUNT = AMZN_data['sentiment_category'].value_counts()\n",
    "AMZN_data_COUNT "
   ]
  },
  {
   "cell_type": "code",
   "execution_count": 31,
   "id": "fb91032d",
   "metadata": {},
   "outputs": [
    {
     "name": "stderr",
     "output_type": "stream",
     "text": [
      "C:\\Users\\getde\\AppData\\Local\\Temp\\ipykernel_37432\\3853977233.py:3: FutureWarning: \n",
      "\n",
      "Passing `palette` without assigning `hue` is deprecated and will be removed in v0.14.0. Assign the `x` variable to `hue` and set `legend=False` for the same effect.\n",
      "\n",
      "  sns.barplot(x=AMZN_data_COUNT .index, y=AMZN_data_COUNT .values, palette='viridis')\n"
     ]
    },
    {
     "data": {
      "image/png": "[encoded data removed]",
      "text/plain": [
       "<Figure size 800x600 with 1 Axes>"
      ]
     },
     "metadata": {},
     "output_type": "display_data"
    }
   ],
   "source": [
    "# Visualize the sentiment distribution\n",
    "plt.figure(figsize=(8, 6))\n",
    "sns.barplot(x=AMZN_data_COUNT .index, y=AMZN_data_COUNT .values, palette='viridis')\n",
    "plt.title('Distribution of Sentiments in Headlines of AMZN')\n",
    "plt.xlabel('Sentiment')\n",
    "plt.ylabel('Number of Articles')\n",
    "plt.show()"
   ]
  },
  {
   "cell_type": "code",
   "execution_count": 33,
   "id": "7fcb1789",
   "metadata": {},
   "outputs": [
    {
     "name": "stdout",
     "output_type": "stream",
     "text": [
      "2020-04-27 00:00:00+00:00 2020-06-02 00:00:00+00:00\n"
     ]
    },
    {
     "name": "stderr",
     "output_type": "stream",
     "text": [
      "C:\\Users\\getde\\AppData\\Local\\Temp\\ipykernel_37432\\4051443534.py:2: SettingWithCopyWarning: \n",
      "A value is trying to be set on a copy of a slice from a DataFrame.\n",
      "Try using .loc[row_indexer,col_indexer] = value instead\n",
      "\n",
      "See the caveats in the documentation: https://pandas.pydata.org/pandas-docs/stable/user_guide/indexing.html#returning-a-view-versus-a-copy\n",
      "  AMZN_data['date'] = pd.to_datetime(AMZN_data['date'], errors='coerce')\n"
     ]
    }
   ],
   "source": [
    "# Ensure 'date' column in AMZN_data is in datetime format\n",
    "AMZN_data['date'] = pd.to_datetime(AMZN_data['date'], errors='coerce')\n",
    "\n",
    "# Find the minimum and maximum dates\n",
    "print(AMZN_data['date'].min(), AMZN_data['date'].max())"
   ]
  },
  {
   "cell_type": "markdown",
   "id": "4a2a190a",
   "metadata": {},
   "source": [
    "Sentiment of Google\n"
   ]
  },
  {
   "cell_type": "code",
   "execution_count": 32,
   "id": "6cef8da7",
   "metadata": {},
   "outputs": [
    {
     "data": {
      "application/vnd.microsoft.datawrangler.viewer.v0+json": {
       "columns": [
        {
         "name": "sentiment_category",
         "rawType": "category",
         "type": "unknown"
        },
        {
         "name": "count",
         "rawType": "int64",
         "type": "integer"
        }
       ],
       "ref": "09aeca7e-f471-450b-b1b2-66c194afcebd",
       "rows": [
        [
         "Neutral",
         "840"
        ],
        [
         "Negative",
         "169"
        ],
        [
         "Positive",
         "140"
        ],
        [
         "Very Negative",
         "50"
        ]
       ],
       "shape": {
        "columns": 1,
        "rows": 4
       }
      },
      "text/plain": [
       "sentiment_category\n",
       "Neutral          840\n",
       "Negative         169\n",
       "Positive         140\n",
       "Very Negative     50\n",
       "Name: count, dtype: int64"
      ]
     },
     "execution_count": 32,
     "metadata": {},
     "output_type": "execute_result"
    }
   ],
   "source": [
    "GOOG_data = sentiment_data[sentiment_data['stock'] == 'GOOG']\n",
    "GOOG_data\n",
    "GOOG_data_COUNT = GOOG_data['sentiment_category'].value_counts()\n",
    "GOOG_data_COUNT "
   ]
  },
  {
   "cell_type": "code",
   "execution_count": 34,
   "id": "818a3468",
   "metadata": {},
   "outputs": [
    {
     "name": "stderr",
     "output_type": "stream",
     "text": [
      "C:\\Users\\getde\\AppData\\Local\\Temp\\ipykernel_37432\\628827540.py:3: FutureWarning: \n",
      "\n",
      "Passing `palette` without assigning `hue` is deprecated and will be removed in v0.14.0. Assign the `x` variable to `hue` and set `legend=False` for the same effect.\n",
      "\n",
      "  sns.barplot(x=GOOG_data_COUNT .index, y=GOOG_data_COUNT .values, palette='viridis')\n"
     ]
    },
    {
     "data": {
      "image/png": "[encoded data removed]",
      "text/plain": [
       "<Figure size 800x600 with 1 Axes>"
      ]
     },
     "metadata": {},
     "output_type": "display_data"
    }
   ],
   "source": [
    "# Visualize the sentiment distribution\n",
    "plt.figure(figsize=(8, 6))\n",
    "sns.barplot(x=GOOG_data_COUNT .index, y=GOOG_data_COUNT .values, palette='viridis')\n",
    "plt.title('Distribution of Sentiments in Headlines of GOOG')\n",
    "plt.xlabel('Sentiment')\n",
    "plt.ylabel('Number of Articles')\n",
    "plt.show()"
   ]
  },
  {
   "cell_type": "code",
   "execution_count": 35,
   "id": "1d3a0661",
   "metadata": {},
   "outputs": [
    {
     "name": "stdout",
     "output_type": "stream",
     "text": [
      "2018-11-13 00:00:00+00:00 2020-06-02 00:00:00+00:00\n"
     ]
    },
    {
     "name": "stderr",
     "output_type": "stream",
     "text": [
      "C:\\Users\\getde\\AppData\\Local\\Temp\\ipykernel_37432\\4149054654.py:2: SettingWithCopyWarning: \n",
      "A value is trying to be set on a copy of a slice from a DataFrame.\n",
      "Try using .loc[row_indexer,col_indexer] = value instead\n",
      "\n",
      "See the caveats in the documentation: https://pandas.pydata.org/pandas-docs/stable/user_guide/indexing.html#returning-a-view-versus-a-copy\n",
      "  GOOG_data['date'] = pd.to_datetime(GOOG_data['date'], errors='coerce')\n"
     ]
    }
   ],
   "source": [
    "# Ensure 'date' column in AMZN_data is in datetime format\n",
    "GOOG_data['date'] = pd.to_datetime(GOOG_data['date'], errors='coerce')\n",
    "\n",
    "# Find the minimum and maximum dates\n",
    "print(GOOG_data['date'].min(), GOOG_data['date'].max())"
   ]
  },
  {
   "cell_type": "markdown",
   "id": "a1b51787",
   "metadata": {},
   "source": [
    "Sentiment of META\n"
   ]
  },
  {
   "cell_type": "code",
   "execution_count": 36,
   "id": "e41df52c",
   "metadata": {},
   "outputs": [
    {
     "data": {
      "application/vnd.microsoft.datawrangler.viewer.v0+json": {
       "columns": [
        {
         "name": "sentiment_category",
         "rawType": "category",
         "type": "unknown"
        },
        {
         "name": "count",
         "rawType": "int64",
         "type": "integer"
        }
       ],
       "ref": "2f6c7836-2258-48d7-a682-6d1d16c42c1b",
       "rows": [
        [
         "Very Negative",
         "0"
        ],
        [
         "Negative",
         "0"
        ],
        [
         "Neutral",
         "0"
        ],
        [
         "Positive",
         "0"
        ]
       ],
       "shape": {
        "columns": 1,
        "rows": 4
       }
      },
      "text/plain": [
       "sentiment_category\n",
       "Very Negative    0\n",
       "Negative         0\n",
       "Neutral          0\n",
       "Positive         0\n",
       "Name: count, dtype: int64"
      ]
     },
     "execution_count": 36,
     "metadata": {},
     "output_type": "execute_result"
    }
   ],
   "source": [
    "META_data = sentiment_data[sentiment_data['stock'] == 'META']\n",
    "META_data\n",
    "META_data_COUNT = META_data['sentiment_category'].value_counts()\n",
    "META_data_COUNT "
   ]
  },
  {
   "cell_type": "markdown",
   "id": "636560f2",
   "metadata": {},
   "source": [
    "Sentiment of MSFT\n"
   ]
  },
  {
   "cell_type": "code",
   "execution_count": 37,
   "id": "9b02d539",
   "metadata": {},
   "outputs": [
    {
     "data": {
      "application/vnd.microsoft.datawrangler.viewer.v0+json": {
       "columns": [
        {
         "name": "sentiment_category",
         "rawType": "category",
         "type": "unknown"
        },
        {
         "name": "count",
         "rawType": "int64",
         "type": "integer"
        }
       ],
       "ref": "f38199ca-db14-4c2a-b55b-cec2d048eb19",
       "rows": [
        [
         "Very Negative",
         "0"
        ],
        [
         "Negative",
         "0"
        ],
        [
         "Neutral",
         "0"
        ],
        [
         "Positive",
         "0"
        ]
       ],
       "shape": {
        "columns": 1,
        "rows": 4
       }
      },
      "text/plain": [
       "sentiment_category\n",
       "Very Negative    0\n",
       "Negative         0\n",
       "Neutral          0\n",
       "Positive         0\n",
       "Name: count, dtype: int64"
      ]
     },
     "execution_count": 37,
     "metadata": {},
     "output_type": "execute_result"
    }
   ],
   "source": [
    "MSFT_data = sentiment_data[sentiment_data['stock'] == 'MSFT']\n",
    "MSFT_data\n",
    "MSFT_data_COUNT = MSFT_data['sentiment_category'].value_counts()\n",
    "MSFT_data_COUNT "
   ]
  },
  {
   "cell_type": "markdown",
   "id": "0d57fd44",
   "metadata": {},
   "source": [
    "Sentiment of NVDA\n"
   ]
  },
  {
   "cell_type": "code",
   "execution_count": 38,
   "id": "727e48f6",
   "metadata": {},
   "outputs": [
    {
     "data": {
      "application/vnd.microsoft.datawrangler.viewer.v0+json": {
       "columns": [
        {
         "name": "sentiment_category",
         "rawType": "category",
         "type": "unknown"
        },
        {
         "name": "count",
         "rawType": "int64",
         "type": "integer"
        }
       ],
       "ref": "a6c94c39-d6e6-4f4e-a428-d7d0112b1436",
       "rows": [
        [
         "Neutral",
         "2393"
        ],
        [
         "Negative",
         "369"
        ],
        [
         "Positive",
         "281"
        ],
        [
         "Very Negative",
         "103"
        ]
       ],
       "shape": {
        "columns": 1,
        "rows": 4
       }
      },
      "text/plain": [
       "sentiment_category\n",
       "Neutral          2393\n",
       "Negative          369\n",
       "Positive          281\n",
       "Very Negative     103\n",
       "Name: count, dtype: int64"
      ]
     },
     "execution_count": 38,
     "metadata": {},
     "output_type": "execute_result"
    }
   ],
   "source": [
    "NVDA_data = sentiment_data[sentiment_data['stock'] == 'NVDA']\n",
    "NVDA_data\n",
    "NVDA_data_COUNT = NVDA_data['sentiment_category'].value_counts()\n",
    "NVDA_data_COUNT "
   ]
  },
  {
   "cell_type": "code",
   "execution_count": 39,
   "id": "3fc24424",
   "metadata": {},
   "outputs": [
    {
     "name": "stderr",
     "output_type": "stream",
     "text": [
      "C:\\Users\\getde\\AppData\\Local\\Temp\\ipykernel_37432\\493447481.py:3: FutureWarning: \n",
      "\n",
      "Passing `palette` without assigning `hue` is deprecated and will be removed in v0.14.0. Assign the `x` variable to `hue` and set `legend=False` for the same effect.\n",
      "\n",
      "  sns.barplot(x=NVDA_data_COUNT .index, y=NVDA_data_COUNT .values, palette='viridis')\n"
     ]
    },
    {
     "data": {
      "image/png": "[encoded data removed]",
      "text/plain": [
       "<Figure size 800x600 with 1 Axes>"
      ]
     },
     "metadata": {},
     "output_type": "display_data"
    }
   ],
   "source": [
    "# Visualize the sentiment distribution\n",
    "plt.figure(figsize=(8, 6))\n",
    "sns.barplot(x=NVDA_data_COUNT .index, y=NVDA_data_COUNT .values, palette='viridis')\n",
    "plt.title('Distribution of Sentiments in Headlines of NVDA')\n",
    "plt.xlabel('Sentiment')\n",
    "plt.ylabel('Number of Articles')\n",
    "plt.show()"
   ]
  },
  {
   "cell_type": "code",
   "execution_count": 40,
   "id": "dc5ead96",
   "metadata": {},
   "outputs": [
    {
     "name": "stdout",
     "output_type": "stream",
     "text": [
      "2011-03-03 00:00:00+00:00 2020-05-28 00:00:00+00:00\n"
     ]
    },
    {
     "name": "stderr",
     "output_type": "stream",
     "text": [
      "C:\\Users\\getde\\AppData\\Local\\Temp\\ipykernel_37432\\2474779805.py:2: SettingWithCopyWarning: \n",
      "A value is trying to be set on a copy of a slice from a DataFrame.\n",
      "Try using .loc[row_indexer,col_indexer] = value instead\n",
      "\n",
      "See the caveats in the documentation: https://pandas.pydata.org/pandas-docs/stable/user_guide/indexing.html#returning-a-view-versus-a-copy\n",
      "  NVDA_data['date'] = pd.to_datetime(NVDA_data['date'], errors='coerce')\n"
     ]
    }
   ],
   "source": [
    "# Ensure 'date' column in AMZN_data is in datetime format\n",
    "NVDA_data['date'] = pd.to_datetime(NVDA_data['date'], errors='coerce')\n",
    "\n",
    "# Find the minimum and maximum dates\n",
    "print(NVDA_data['date'].min(), NVDA_data['date'].max())"
   ]
  },
  {
   "cell_type": "markdown",
   "id": "55dec508",
   "metadata": {},
   "source": [
    "Sentiment of TSLA\n"
   ]
  },
  {
   "cell_type": "code",
   "execution_count": 42,
   "id": "9bcc163d",
   "metadata": {},
   "outputs": [
    {
     "data": {
      "application/vnd.microsoft.datawrangler.viewer.v0+json": {
       "columns": [
        {
         "name": "sentiment_category",
         "rawType": "category",
         "type": "unknown"
        },
        {
         "name": "count",
         "rawType": "int64",
         "type": "integer"
        }
       ],
       "ref": "2fd85f51-86e0-40c4-8834-2f53ebdc1db9",
       "rows": [
        [
         "Neutral",
         "1418"
        ],
        [
         "Negative",
         "221"
        ],
        [
         "Positive",
         "172"
        ],
        [
         "Very Negative",
         "64"
        ]
       ],
       "shape": {
        "columns": 1,
        "rows": 4
       }
      },
      "text/plain": [
       "sentiment_category\n",
       "Neutral          1418\n",
       "Negative          221\n",
       "Positive          172\n",
       "Very Negative      64\n",
       "Name: count, dtype: int64"
      ]
     },
     "execution_count": 42,
     "metadata": {},
     "output_type": "execute_result"
    }
   ],
   "source": [
    "TSLA_data = sentiment_data[sentiment_data['stock'] == 'TSLA']\n",
    "TSLA_data\n",
    "TSLA_data_COUNT = TSLA_data['sentiment_category'].value_counts()\n",
    "TSLA_data_COUNT "
   ]
  },
  {
   "cell_type": "code",
   "execution_count": 43,
   "id": "d0216e0f",
   "metadata": {},
   "outputs": [
    {
     "name": "stderr",
     "output_type": "stream",
     "text": [
      "C:\\Users\\getde\\AppData\\Local\\Temp\\ipykernel_37432\\4015252206.py:3: FutureWarning: \n",
      "\n",
      "Passing `palette` without assigning `hue` is deprecated and will be removed in v0.14.0. Assign the `x` variable to `hue` and set `legend=False` for the same effect.\n",
      "\n",
      "  sns.barplot(x=TSLA_data_COUNT .index, y=TSLA_data_COUNT .values, palette='viridis')\n"
     ]
    },
    {
     "data": {
      "image/png": "[encoded data removed]",
      "text/plain": [
       "<Figure size 800x600 with 1 Axes>"
      ]
     },
     "metadata": {},
     "output_type": "display_data"
    }
   ],
   "source": [
    "# Visualize the sentiment distribution\n",
    "plt.figure(figsize=(8, 6))\n",
    "sns.barplot(x=TSLA_data_COUNT .index, y=TSLA_data_COUNT .values, palette='viridis')\n",
    "plt.title('Distribution of Sentiments in Headlines of TSLA')\n",
    "plt.xlabel('Sentiment')\n",
    "plt.ylabel('Number of Articles')\n",
    "plt.show()"
   ]
  },
  {
   "cell_type": "code",
   "execution_count": 44,
   "id": "d4f888ae",
   "metadata": {},
   "outputs": [
    {
     "name": "stdout",
     "output_type": "stream",
     "text": [
      "2019-07-01 00:00:00+00:00 2020-06-02 00:00:00+00:00\n"
     ]
    },
    {
     "name": "stderr",
     "output_type": "stream",
     "text": [
      "C:\\Users\\getde\\AppData\\Local\\Temp\\ipykernel_37432\\2367951810.py:2: SettingWithCopyWarning: \n",
      "A value is trying to be set on a copy of a slice from a DataFrame.\n",
      "Try using .loc[row_indexer,col_indexer] = value instead\n",
      "\n",
      "See the caveats in the documentation: https://pandas.pydata.org/pandas-docs/stable/user_guide/indexing.html#returning-a-view-versus-a-copy\n",
      "  TSLA_data['date'] = pd.to_datetime(TSLA_data['date'], errors='coerce')\n"
     ]
    }
   ],
   "source": [
    "# Ensure 'date' column in AMZN_data is in datetime format\n",
    "TSLA_data['date'] = pd.to_datetime(TSLA_data['date'], errors='coerce')\n",
    "\n",
    "# Find the minimum and maximum dates\n",
    "print(TSLA_data['date'].min(), TSLA_data['date'].max())"
   ]
  },
  {
   "cell_type": "markdown",
   "id": "385cd2bd",
   "metadata": {},
   "source": [
    "Text Analysis /Topic Modeling\n"
   ]
  },
  {
   "cell_type": "code",
   "execution_count": 47,
   "id": "3a21f386",
   "metadata": {},
   "outputs": [
    {
     "name": "stderr",
     "output_type": "stream",
     "text": [
      "[nltk_data] Downloading package stopwords to\n",
      "[nltk_data]     C:\\Users\\getde\\AppData\\Roaming\\nltk_data...\n",
      "[nltk_data]   Package stopwords is already up-to-date!\n"
     ]
    },
    {
     "ename": "KeyboardInterrupt",
     "evalue": "",
     "output_type": "error",
     "traceback": [
      "\u001b[31m---------------------------------------------------------------------------\u001b[39m",
      "\u001b[31mKeyboardInterrupt\u001b[39m                         Traceback (most recent call last)",
      "\u001b[36mCell\u001b[39m\u001b[36m \u001b[39m\u001b[32mIn[47]\u001b[39m\u001b[32m, line 20\u001b[39m\n\u001b[32m     18\u001b[39m \u001b[38;5;66;03m# Fit LDA model\u001b[39;00m\n\u001b[32m     19\u001b[39m lda = LatentDirichletAllocation(n_components=\u001b[32m5\u001b[39m, random_state=\u001b[32m0\u001b[39m)  \u001b[38;5;66;03m# Adjust number of topics as needed\u001b[39;00m\n\u001b[32m---> \u001b[39m\u001b[32m20\u001b[39m \u001b[43mlda\u001b[49m\u001b[43m.\u001b[49m\u001b[43mfit\u001b[49m\u001b[43m(\u001b[49m\u001b[43mX\u001b[49m\u001b[43m)\u001b[49m\n\u001b[32m     22\u001b[39m \u001b[38;5;66;03m# Get topic terms\u001b[39;00m\n\u001b[32m     23\u001b[39m feature_names = vectorizer.get_feature_names_out()\n",
      "\u001b[36mFile \u001b[39m\u001b[32md:\\Kifiya AI Master Training Program 5 6 &7\\Predict-Price-Moves-with-News-Sentiment\\.desvenv\\Lib\\site-packages\\sklearn\\base.py:1389\u001b[39m, in \u001b[36m_fit_context.<locals>.decorator.<locals>.wrapper\u001b[39m\u001b[34m(estimator, *args, **kwargs)\u001b[39m\n\u001b[32m   1382\u001b[39m     estimator._validate_params()\n\u001b[32m   1384\u001b[39m \u001b[38;5;28;01mwith\u001b[39;00m config_context(\n\u001b[32m   1385\u001b[39m     skip_parameter_validation=(\n\u001b[32m   1386\u001b[39m         prefer_skip_nested_validation \u001b[38;5;129;01mor\u001b[39;00m global_skip_validation\n\u001b[32m   1387\u001b[39m     )\n\u001b[32m   1388\u001b[39m ):\n\u001b[32m-> \u001b[39m\u001b[32m1389\u001b[39m     \u001b[38;5;28;01mreturn\u001b[39;00m \u001b[43mfit_method\u001b[49m\u001b[43m(\u001b[49m\u001b[43mestimator\u001b[49m\u001b[43m,\u001b[49m\u001b[43m \u001b[49m\u001b[43m*\u001b[49m\u001b[43margs\u001b[49m\u001b[43m,\u001b[49m\u001b[43m \u001b[49m\u001b[43m*\u001b[49m\u001b[43m*\u001b[49m\u001b[43mkwargs\u001b[49m\u001b[43m)\u001b[49m\n",
      "\u001b[36mFile \u001b[39m\u001b[32md:\\Kifiya AI Master Training Program 5 6 &7\\Predict-Price-Moves-with-News-Sentiment\\.desvenv\\Lib\\site-packages\\sklearn\\decomposition\\_lda.py:674\u001b[39m, in \u001b[36mLatentDirichletAllocation.fit\u001b[39m\u001b[34m(self, X, y)\u001b[39m\n\u001b[32m    666\u001b[39m         \u001b[38;5;28mself\u001b[39m._em_step(\n\u001b[32m    667\u001b[39m             X[idx_slice, :],\n\u001b[32m    668\u001b[39m             total_samples=n_samples,\n\u001b[32m    669\u001b[39m             batch_update=\u001b[38;5;28;01mFalse\u001b[39;00m,\n\u001b[32m    670\u001b[39m             parallel=parallel,\n\u001b[32m    671\u001b[39m         )\n\u001b[32m    672\u001b[39m \u001b[38;5;28;01melse\u001b[39;00m:\n\u001b[32m    673\u001b[39m     \u001b[38;5;66;03m# batch update\u001b[39;00m\n\u001b[32m--> \u001b[39m\u001b[32m674\u001b[39m     \u001b[38;5;28;43mself\u001b[39;49m\u001b[43m.\u001b[49m\u001b[43m_em_step\u001b[49m\u001b[43m(\u001b[49m\n\u001b[32m    675\u001b[39m \u001b[43m        \u001b[49m\u001b[43mX\u001b[49m\u001b[43m,\u001b[49m\u001b[43m \u001b[49m\u001b[43mtotal_samples\u001b[49m\u001b[43m=\u001b[49m\u001b[43mn_samples\u001b[49m\u001b[43m,\u001b[49m\u001b[43m \u001b[49m\u001b[43mbatch_update\u001b[49m\u001b[43m=\u001b[49m\u001b[38;5;28;43;01mTrue\u001b[39;49;00m\u001b[43m,\u001b[49m\u001b[43m \u001b[49m\u001b[43mparallel\u001b[49m\u001b[43m=\u001b[49m\u001b[43mparallel\u001b[49m\n\u001b[32m    676\u001b[39m \u001b[43m    \u001b[49m\u001b[43m)\u001b[49m\n\u001b[32m    678\u001b[39m \u001b[38;5;66;03m# check perplexity\u001b[39;00m\n\u001b[32m    679\u001b[39m \u001b[38;5;28;01mif\u001b[39;00m evaluate_every > \u001b[32m0\u001b[39m \u001b[38;5;129;01mand\u001b[39;00m (i + \u001b[32m1\u001b[39m) % evaluate_every == \u001b[32m0\u001b[39m:\n",
      "\u001b[36mFile \u001b[39m\u001b[32md:\\Kifiya AI Master Training Program 5 6 &7\\Predict-Price-Moves-with-News-Sentiment\\.desvenv\\Lib\\site-packages\\sklearn\\decomposition\\_lda.py:523\u001b[39m, in \u001b[36mLatentDirichletAllocation._em_step\u001b[39m\u001b[34m(self, X, total_samples, batch_update, parallel)\u001b[39m\n\u001b[32m    496\u001b[39m \u001b[38;5;250m\u001b[39m\u001b[33;03m\"\"\"EM update for 1 iteration.\u001b[39;00m\n\u001b[32m    497\u001b[39m \n\u001b[32m    498\u001b[39m \u001b[33;03mupdate `_component` by batch VB or online VB.\u001b[39;00m\n\u001b[32m   (...)\u001b[39m\u001b[32m    519\u001b[39m \u001b[33;03m    Unnormalized document topic distribution.\u001b[39;00m\n\u001b[32m    520\u001b[39m \u001b[33;03m\"\"\"\u001b[39;00m\n\u001b[32m    522\u001b[39m \u001b[38;5;66;03m# E-step\u001b[39;00m\n\u001b[32m--> \u001b[39m\u001b[32m523\u001b[39m _, suff_stats = \u001b[38;5;28;43mself\u001b[39;49m\u001b[43m.\u001b[49m\u001b[43m_e_step\u001b[49m\u001b[43m(\u001b[49m\n\u001b[32m    524\u001b[39m \u001b[43m    \u001b[49m\u001b[43mX\u001b[49m\u001b[43m,\u001b[49m\u001b[43m \u001b[49m\u001b[43mcal_sstats\u001b[49m\u001b[43m=\u001b[49m\u001b[38;5;28;43;01mTrue\u001b[39;49;00m\u001b[43m,\u001b[49m\u001b[43m \u001b[49m\u001b[43mrandom_init\u001b[49m\u001b[43m=\u001b[49m\u001b[38;5;28;43;01mTrue\u001b[39;49;00m\u001b[43m,\u001b[49m\u001b[43m \u001b[49m\u001b[43mparallel\u001b[49m\u001b[43m=\u001b[49m\u001b[43mparallel\u001b[49m\n\u001b[32m    525\u001b[39m \u001b[43m\u001b[49m\u001b[43m)\u001b[49m\n\u001b[32m    527\u001b[39m \u001b[38;5;66;03m# M-step\u001b[39;00m\n\u001b[32m    528\u001b[39m \u001b[38;5;28;01mif\u001b[39;00m batch_update:\n",
      "\u001b[36mFile \u001b[39m\u001b[32md:\\Kifiya AI Master Training Program 5 6 &7\\Predict-Price-Moves-with-News-Sentiment\\.desvenv\\Lib\\site-packages\\sklearn\\decomposition\\_lda.py:466\u001b[39m, in \u001b[36mLatentDirichletAllocation._e_step\u001b[39m\u001b[34m(self, X, cal_sstats, random_init, parallel)\u001b[39m\n\u001b[32m    464\u001b[39m \u001b[38;5;28;01mif\u001b[39;00m parallel \u001b[38;5;129;01mis\u001b[39;00m \u001b[38;5;28;01mNone\u001b[39;00m:\n\u001b[32m    465\u001b[39m     parallel = Parallel(n_jobs=n_jobs, verbose=\u001b[38;5;28mmax\u001b[39m(\u001b[32m0\u001b[39m, \u001b[38;5;28mself\u001b[39m.verbose - \u001b[32m1\u001b[39m))\n\u001b[32m--> \u001b[39m\u001b[32m466\u001b[39m results = \u001b[43mparallel\u001b[49m\u001b[43m(\u001b[49m\n\u001b[32m    467\u001b[39m \u001b[43m    \u001b[49m\u001b[43mdelayed\u001b[49m\u001b[43m(\u001b[49m\u001b[43m_update_doc_distribution\u001b[49m\u001b[43m)\u001b[49m\u001b[43m(\u001b[49m\n\u001b[32m    468\u001b[39m \u001b[43m        \u001b[49m\u001b[43mX\u001b[49m\u001b[43m[\u001b[49m\u001b[43midx_slice\u001b[49m\u001b[43m,\u001b[49m\u001b[43m \u001b[49m\u001b[43m:\u001b[49m\u001b[43m]\u001b[49m\u001b[43m,\u001b[49m\n\u001b[32m    469\u001b[39m \u001b[43m        \u001b[49m\u001b[38;5;28;43mself\u001b[39;49m\u001b[43m.\u001b[49m\u001b[43mexp_dirichlet_component_\u001b[49m\u001b[43m,\u001b[49m\n\u001b[32m    470\u001b[39m \u001b[43m        \u001b[49m\u001b[38;5;28;43mself\u001b[39;49m\u001b[43m.\u001b[49m\u001b[43mdoc_topic_prior_\u001b[49m\u001b[43m,\u001b[49m\n\u001b[32m    471\u001b[39m \u001b[43m        \u001b[49m\u001b[38;5;28;43mself\u001b[39;49m\u001b[43m.\u001b[49m\u001b[43mmax_doc_update_iter\u001b[49m\u001b[43m,\u001b[49m\n\u001b[32m    472\u001b[39m \u001b[43m        \u001b[49m\u001b[38;5;28;43mself\u001b[39;49m\u001b[43m.\u001b[49m\u001b[43mmean_change_tol\u001b[49m\u001b[43m,\u001b[49m\n\u001b[32m    473\u001b[39m \u001b[43m        \u001b[49m\u001b[43mcal_sstats\u001b[49m\u001b[43m,\u001b[49m\n\u001b[32m    474\u001b[39m \u001b[43m        \u001b[49m\u001b[43mrandom_state\u001b[49m\u001b[43m,\u001b[49m\n\u001b[32m    475\u001b[39m \u001b[43m    \u001b[49m\u001b[43m)\u001b[49m\n\u001b[32m    476\u001b[39m \u001b[43m    \u001b[49m\u001b[38;5;28;43;01mfor\u001b[39;49;00m\u001b[43m \u001b[49m\u001b[43midx_slice\u001b[49m\u001b[43m \u001b[49m\u001b[38;5;129;43;01min\u001b[39;49;00m\u001b[43m \u001b[49m\u001b[43mgen_even_slices\u001b[49m\u001b[43m(\u001b[49m\u001b[43mX\u001b[49m\u001b[43m.\u001b[49m\u001b[43mshape\u001b[49m\u001b[43m[\u001b[49m\u001b[32;43m0\u001b[39;49m\u001b[43m]\u001b[49m\u001b[43m,\u001b[49m\u001b[43m \u001b[49m\u001b[43mn_jobs\u001b[49m\u001b[43m)\u001b[49m\n\u001b[32m    477\u001b[39m \u001b[43m\u001b[49m\u001b[43m)\u001b[49m\n\u001b[32m    479\u001b[39m \u001b[38;5;66;03m# merge result\u001b[39;00m\n\u001b[32m    480\u001b[39m doc_topics, sstats_list = \u001b[38;5;28mzip\u001b[39m(*results)\n",
      "\u001b[36mFile \u001b[39m\u001b[32md:\\Kifiya AI Master Training Program 5 6 &7\\Predict-Price-Moves-with-News-Sentiment\\.desvenv\\Lib\\site-packages\\sklearn\\utils\\parallel.py:77\u001b[39m, in \u001b[36mParallel.__call__\u001b[39m\u001b[34m(self, iterable)\u001b[39m\n\u001b[32m     72\u001b[39m config = get_config()\n\u001b[32m     73\u001b[39m iterable_with_config = (\n\u001b[32m     74\u001b[39m     (_with_config(delayed_func, config), args, kwargs)\n\u001b[32m     75\u001b[39m     \u001b[38;5;28;01mfor\u001b[39;00m delayed_func, args, kwargs \u001b[38;5;129;01min\u001b[39;00m iterable\n\u001b[32m     76\u001b[39m )\n\u001b[32m---> \u001b[39m\u001b[32m77\u001b[39m \u001b[38;5;28;01mreturn\u001b[39;00m \u001b[38;5;28;43msuper\u001b[39;49m\u001b[43m(\u001b[49m\u001b[43m)\u001b[49m\u001b[43m.\u001b[49m\u001b[34;43m__call__\u001b[39;49m\u001b[43m(\u001b[49m\u001b[43miterable_with_config\u001b[49m\u001b[43m)\u001b[49m\n",
      "\u001b[36mFile \u001b[39m\u001b[32md:\\Kifiya AI Master Training Program 5 6 &7\\Predict-Price-Moves-with-News-Sentiment\\.desvenv\\Lib\\site-packages\\joblib\\parallel.py:1986\u001b[39m, in \u001b[36mParallel.__call__\u001b[39m\u001b[34m(self, iterable)\u001b[39m\n\u001b[32m   1984\u001b[39m     output = \u001b[38;5;28mself\u001b[39m._get_sequential_output(iterable)\n\u001b[32m   1985\u001b[39m     \u001b[38;5;28mnext\u001b[39m(output)\n\u001b[32m-> \u001b[39m\u001b[32m1986\u001b[39m     \u001b[38;5;28;01mreturn\u001b[39;00m output \u001b[38;5;28;01mif\u001b[39;00m \u001b[38;5;28mself\u001b[39m.return_generator \u001b[38;5;28;01melse\u001b[39;00m \u001b[38;5;28;43mlist\u001b[39;49m\u001b[43m(\u001b[49m\u001b[43moutput\u001b[49m\u001b[43m)\u001b[49m\n\u001b[32m   1988\u001b[39m \u001b[38;5;66;03m# Let's create an ID that uniquely identifies the current call. If the\u001b[39;00m\n\u001b[32m   1989\u001b[39m \u001b[38;5;66;03m# call is interrupted early and that the same instance is immediately\u001b[39;00m\n\u001b[32m   1990\u001b[39m \u001b[38;5;66;03m# reused, this id will be used to prevent workers that were\u001b[39;00m\n\u001b[32m   1991\u001b[39m \u001b[38;5;66;03m# concurrently finalizing a task from the previous call to run the\u001b[39;00m\n\u001b[32m   1992\u001b[39m \u001b[38;5;66;03m# callback.\u001b[39;00m\n\u001b[32m   1993\u001b[39m \u001b[38;5;28;01mwith\u001b[39;00m \u001b[38;5;28mself\u001b[39m._lock:\n",
      "\u001b[36mFile \u001b[39m\u001b[32md:\\Kifiya AI Master Training Program 5 6 &7\\Predict-Price-Moves-with-News-Sentiment\\.desvenv\\Lib\\site-packages\\joblib\\parallel.py:1914\u001b[39m, in \u001b[36mParallel._get_sequential_output\u001b[39m\u001b[34m(self, iterable)\u001b[39m\n\u001b[32m   1912\u001b[39m \u001b[38;5;28mself\u001b[39m.n_dispatched_batches += \u001b[32m1\u001b[39m\n\u001b[32m   1913\u001b[39m \u001b[38;5;28mself\u001b[39m.n_dispatched_tasks += \u001b[32m1\u001b[39m\n\u001b[32m-> \u001b[39m\u001b[32m1914\u001b[39m res = \u001b[43mfunc\u001b[49m\u001b[43m(\u001b[49m\u001b[43m*\u001b[49m\u001b[43margs\u001b[49m\u001b[43m,\u001b[49m\u001b[43m \u001b[49m\u001b[43m*\u001b[49m\u001b[43m*\u001b[49m\u001b[43mkwargs\u001b[49m\u001b[43m)\u001b[49m\n\u001b[32m   1915\u001b[39m \u001b[38;5;28mself\u001b[39m.n_completed_tasks += \u001b[32m1\u001b[39m\n\u001b[32m   1916\u001b[39m \u001b[38;5;28mself\u001b[39m.print_progress()\n",
      "\u001b[36mFile \u001b[39m\u001b[32md:\\Kifiya AI Master Training Program 5 6 &7\\Predict-Price-Moves-with-News-Sentiment\\.desvenv\\Lib\\site-packages\\sklearn\\utils\\parallel.py:139\u001b[39m, in \u001b[36m_FuncWrapper.__call__\u001b[39m\u001b[34m(self, *args, **kwargs)\u001b[39m\n\u001b[32m    137\u001b[39m     config = {}\n\u001b[32m    138\u001b[39m \u001b[38;5;28;01mwith\u001b[39;00m config_context(**config):\n\u001b[32m--> \u001b[39m\u001b[32m139\u001b[39m     \u001b[38;5;28;01mreturn\u001b[39;00m \u001b[38;5;28;43mself\u001b[39;49m\u001b[43m.\u001b[49m\u001b[43mfunction\u001b[49m\u001b[43m(\u001b[49m\u001b[43m*\u001b[49m\u001b[43margs\u001b[49m\u001b[43m,\u001b[49m\u001b[43m \u001b[49m\u001b[43m*\u001b[49m\u001b[43m*\u001b[49m\u001b[43mkwargs\u001b[49m\u001b[43m)\u001b[49m\n",
      "\u001b[36mFile \u001b[39m\u001b[32md:\\Kifiya AI Master Training Program 5 6 &7\\Predict-Price-Moves-with-News-Sentiment\\.desvenv\\Lib\\site-packages\\sklearn\\decomposition\\_lda.py:147\u001b[39m, in \u001b[36m_update_doc_distribution\u001b[39m\u001b[34m(X, exp_topic_word_distr, doc_topic_prior, max_doc_update_iter, mean_change_tol, cal_sstats, random_state)\u001b[39m\n\u001b[32m    143\u001b[39m \u001b[38;5;66;03m# The optimal phi_{dwk} is proportional to\u001b[39;00m\n\u001b[32m    144\u001b[39m \u001b[38;5;66;03m# exp(E[log(theta_{dk})]) * exp(E[log(beta_{dw})]).\u001b[39;00m\n\u001b[32m    145\u001b[39m norm_phi = np.dot(exp_doc_topic_d, exp_topic_word_d) + eps\n\u001b[32m--> \u001b[39m\u001b[32m147\u001b[39m doc_topic_d = exp_doc_topic_d * \u001b[43mnp\u001b[49m\u001b[43m.\u001b[49m\u001b[43mdot\u001b[49m\u001b[43m(\u001b[49m\u001b[43mcnts\u001b[49m\u001b[43m \u001b[49m\u001b[43m/\u001b[49m\u001b[43m \u001b[49m\u001b[43mnorm_phi\u001b[49m\u001b[43m,\u001b[49m\u001b[43m \u001b[49m\u001b[43mexp_topic_word_d\u001b[49m\u001b[43m.\u001b[49m\u001b[43mT\u001b[49m\u001b[43m)\u001b[49m\n\u001b[32m    148\u001b[39m \u001b[38;5;66;03m# Note: adds doc_topic_prior to doc_topic_d, in-place.\u001b[39;00m\n\u001b[32m    149\u001b[39m dirichlet_expectation_1d(doc_topic_d, doc_topic_prior, exp_doc_topic_d)\n",
      "\u001b[31mKeyboardInterrupt\u001b[39m: "
     ]
    }
   ],
   "source": [
    "# Download stopwords from NLTK\n",
    "nltk.download('stopwords')\n",
    "# Preprocessing for topic modeling\n",
    "def preprocess_text(text):\n",
    "    text = text.lower()\n",
    "    text = nltk.RegexpTokenizer(r\"\\w+\").tokenize(text)\n",
    "    stopwords = nltk.corpus.stopwords.words('english')\n",
    "    text = [word for word in text if word not in stopwords]\n",
    "    return ' '.join(text)\n",
    "\n",
    "# Apply preprocessing\n",
    "df['processed_headline'] = df['headline'].apply(preprocess_text)\n",
    "\n",
    "# Vectorize text data\n",
    "vectorizer = CountVectorizer(max_features=1000)  # Limit to top 1000 words\n",
    "X = vectorizer.fit_transform(df['processed_headline'])\n",
    "\n",
    "# Fit LDA model\n",
    "lda = LatentDirichletAllocation(n_components=5, random_state=0)  # Adjust number of topics as needed\n",
    "lda.fit(X)\n",
    "\n",
    "# Get topic terms\n",
    "feature_names = vectorizer.get_feature_names_out()\n",
    "topics = lda.components_\n",
    "\n",
    "# Display top words per topic\n",
    "num_words = 10\n",
    "for topic_idx, topic in enumerate(topics):\n",
    "    print(f\"Topic #{topic_idx + 1}:\")\n",
    "    print(\" \".join([feature_names[i] for i in topic.argsort()[:-num_words - 1:-1]]))\n",
    "    print()"
   ]
  },
  {
   "cell_type": "code",
   "execution_count": 48,
   "id": "f8633dec",
   "metadata": {},
   "outputs": [
    {
     "ename": "NameError",
     "evalue": "name 'topics' is not defined",
     "output_type": "error",
     "traceback": [
      "\u001b[31m---------------------------------------------------------------------------\u001b[39m",
      "\u001b[31mNameError\u001b[39m                                 Traceback (most recent call last)",
      "\u001b[36mCell\u001b[39m\u001b[36m \u001b[39m\u001b[32mIn[48]\u001b[39m\u001b[32m, line 2\u001b[39m\n\u001b[32m      1\u001b[39m topic_words = []\n\u001b[32m----> \u001b[39m\u001b[32m2\u001b[39m \u001b[38;5;28;01mfor\u001b[39;00m topic_idx, topic \u001b[38;5;129;01min\u001b[39;00m \u001b[38;5;28menumerate\u001b[39m(\u001b[43mtopics\u001b[49m):\n\u001b[32m      3\u001b[39m     words = [feature_names[i] \u001b[38;5;28;01mfor\u001b[39;00m i \u001b[38;5;129;01min\u001b[39;00m topic.argsort()[:-num_words - \u001b[32m1\u001b[39m:-\u001b[32m1\u001b[39m]]\n\u001b[32m      4\u001b[39m     topic_words.append(words)\n",
      "\u001b[31mNameError\u001b[39m: name 'topics' is not defined"
     ]
    }
   ],
   "source": [
    "topic_words = []\n",
    "for topic_idx, topic in enumerate(topics):\n",
    "    words = [feature_names[i] for i in topic.argsort()[:-num_words - 1:-1]]\n",
    "    topic_words.append(words)\n",
    "\n",
    "topic_df = pd.DataFrame(topic_words, columns=[f\"Word {i+1}\" for i in range(num_words)])\n",
    "topic_df.index.name = 'Topic'\n",
    "\n",
    "# Plot the top words for each topic\n",
    "fig, ax = plt.subplots(figsize=(14, 10))\n",
    "for i, words in enumerate(topic_words):\n",
    "    ax.plot(words, label=f\"Topic {i+1}\", marker='o')\n",
    "\n",
    "ax.set_title('Top Words per Topic')\n",
    "ax.set_xlabel('Word Index')\n",
    "ax.set_ylabel('Words')\n",
    "ax.legend(loc='best')\n",
    "plt.xticks(rotation=90)\n",
    "plt.show()"
   ]
  },
  {
   "cell_type": "markdown",
   "id": "a47cc832",
   "metadata": {},
   "source": [
    "Time Series Analysis\n"
   ]
  },
  {
   "cell_type": "code",
   "execution_count": 54,
   "id": "aa2cecf8",
   "metadata": {},
   "outputs": [
    {
     "data": {
      "image/png": "[encoded data removed]",
      "text/plain": [
       "<Figure size 1200x600 with 1 Axes>"
      ]
     },
     "metadata": {},
     "output_type": "display_data"
    }
   ],
   "source": [
    "# Analyze publication frequency over time using the already loaded df\n",
    "# Load the dataset\n",
    "df = pd.read_csv('../data/raw_analyst_ratings.csv')\n",
    "# Ensure 'date' column is in datetime format (already done in previous cells, but safe to check)\n",
    "df['date'] = pd.to_datetime(df['date'], errors='coerce')\n",
    "\n",
    "# Group by date to get the number of articles per day\n",
    "df['publication_date'] = df['date'].dt.date\n",
    "articles_per_day = df.groupby('publication_date').size()\n",
    "\n",
    "# Visualize the number of articles published over time\n",
    "plt.figure(figsize=(12, 6))\n",
    "plt.plot(articles_per_day, label='Number of Articles per Day', color='blue')\n",
    "plt.title('Number of Articles Published Over Time')\n",
    "plt.xlabel('Date')\n",
    "plt.ylabel('Number of Articles')\n",
    "plt.legend()\n",
    "plt.show()"
   ]
  },
  {
   "cell_type": "code",
   "execution_count": 52,
   "id": "f0769c7f",
   "metadata": {},
   "outputs": [
    {
     "data": {
      "image/png": "[encoded data removed]",
      "text/plain": [
       "<Figure size 1200x600 with 1 Axes>"
      ]
     },
     "metadata": {},
     "output_type": "display_data"
    }
   ],
   "source": [
    "# Task 2: Identify spikes in publication frequency\n",
    "# Rolling mean to smooth the series and detect spikes\n",
    "rolling_mean = articles_per_day.rolling(window=7).mean()\n",
    "\n",
    "plt.figure(figsize=(12, 6))\n",
    "plt.plot(articles_per_day, label='Number of Articles per Day', color='blue', alpha=0.5)\n",
    "plt.plot(rolling_mean, label='7-Day Rolling Mean', color='red')\n",
    "plt.title('Publication Frequency with Rolling Mean')\n",
    "plt.xlabel('Date')\n",
    "plt.ylabel('Number of Articles')\n",
    "plt.legend()\n",
    "plt.show()"
   ]
  },
  {
   "cell_type": "code",
   "execution_count": 55,
   "id": "d452392f",
   "metadata": {},
   "outputs": [
    {
     "data": {
      "image/png": "[encoded data removed]",
      "text/plain": [
       "<Figure size 1200x600 with 1 Axes>"
      ]
     },
     "metadata": {},
     "output_type": "display_data"
    }
   ],
   "source": [
    "# Task 3: Analyze the time of day when most news is released\n",
    "df['time_of_day'] = df['date'].dt.hour\n",
    "\n",
    "# Count the number of articles published at each hour of the day\n",
    "articles_by_hour = df['time_of_day'].value_counts().sort_index()\n",
    "\n",
    "# Visualize the number of articles by hour of the day\n",
    "plt.figure(figsize=(12, 6))\n",
    "sns.barplot(x=articles_by_hour.index, y=articles_by_hour.values, color='green')\n",
    "plt.title('Number of Articles by Hour of the Day')\n",
    "plt.xlabel('Hour of the Day')\n",
    "plt.ylabel('Number of Articles')\n",
    "plt.show()"
   ]
  },
  {
   "cell_type": "markdown",
   "id": "bc2a8b57",
   "metadata": {},
   "source": [
    "Publisher Analysis\n"
   ]
  },
  {
   "cell_type": "code",
   "execution_count": 56,
   "id": "05d39ef5",
   "metadata": {},
   "outputs": [
    {
     "name": "stdout",
     "output_type": "stream",
     "text": [
      "\n",
      "Top Domains:\n",
      "domain\n",
      "Paul Quintaro        228373\n",
      "Lisa Levin           186979\n",
      "Benzinga Newsdesk    150484\n",
      "Charles Gross         96732\n",
      "Monica Gerson         82380\n",
      "Eddie Staley          57254\n",
      "Hal Lindon            49047\n",
      "ETF Professor         28489\n",
      "Juan Lopez            28438\n",
      "Benzinga Staff        28114\n",
      "Name: count, dtype: int64\n"
     ]
    },
    {
     "data": {
      "image/png": "[encoded data removed]",
      "text/plain": [
       "<Figure size 1000x600 with 1 Axes>"
      ]
     },
     "metadata": {},
     "output_type": "display_data"
    }
   ],
   "source": [
    "import re\n",
    "import pandas as pd\n",
    "import matplotlib.pyplot as plt\n",
    "# Load the dataset\n",
    "df = pd.read_csv('../data/raw_analyst_ratings.csv')\n",
    "# Step 1: Extract Domains from Email Addresses using Regex\n",
    "def extract_domain(email):\n",
    "\n",
    "    match = re.search(r'@([\\w.-]+)', email)\n",
    "    return match.group(1) if match else email\n",
    "\n",
    "df['domain'] = df['publisher'].apply(extract_domain)\n",
    "\n",
    "# Count the frequency of each domain\n",
    "domain_counts = df['domain'].value_counts()\n",
    "print(\"\\nTop Domains:\")\n",
    "print(domain_counts.head(10))  # Adjust the number to your need\n",
    "\n",
    "# Visualize the top domains\n",
    "\n",
    "plt.figure(figsize=(10, 6))\n",
    "domain_counts.head(10).plot(kind='bar')\n",
    "plt.title('Top Contributing Domains')\n",
    "plt.xlabel('Domain')\n",
    "plt.ylabel('Number of Articles')\n",
    "plt.xticks(rotation=45)\n",
    "plt.show()"
   ]
  },
  {
   "cell_type": "code",
   "execution_count": 57,
   "id": "ed3a4e61",
   "metadata": {},
   "outputs": [
    {
     "name": "stdout",
     "output_type": "stream",
     "text": [
      "\n",
      "Number of articles mentioning 'earnings' or 'profit': 96748\n",
      "\n",
      "Number of Articles Mentioning 'Earnings' or 'Profit' by Publisher:\n",
      "publisher\n",
      "ABNNewswire           1\n",
      "Aaron Jackson.Ed      1\n",
      "Abe Raymond          13\n",
      "Abhi Rao              5\n",
      "Adam Parker           1\n",
      "                   ... \n",
      "pconfidential         6\n",
      "strichie              8\n",
      "superman              6\n",
      "tradermark           68\n",
      "webmaster           554\n",
      "Length: 336, dtype: int64\n"
     ]
    },
    {
     "data": {
      "image/png": "[encoded data removed]",
      "text/plain": [
       "<Figure size 1000x600 with 1 Axes>"
      ]
     },
     "metadata": {},
     "output_type": "display_data"
    }
   ],
   "source": [
    "# Step 2: Use Regex to Identify Patterns in Headlines\n",
    "# Example: Find headlines mentioning \"earnings\" or \"profit\"\n",
    "df['mention_earnings'] = df['headline'].apply(lambda x: bool(re.search(r'\\b(earnings|profit)\\b', x, re.IGNORECASE)))\n",
    "\n",
    "# Count the number of articles mentioning earnings or profit\n",
    "earnings_count = df['mention_earnings'].sum()\n",
    "print(f\"\\nNumber of articles mentioning 'earnings' or 'profit': {earnings_count}\")\n",
    "\n",
    "# Step 3: Analyze the difference in news types by publishers based on regex\n",
    "# Example: Compare the number of articles mentioning earnings by each publisher\n",
    "publisher_earnings = df[df['mention_earnings']].groupby('publisher').size()\n",
    "print(\"\\nNumber of Articles Mentioning 'Earnings' or 'Profit' by Publisher:\")\n",
    "print(publisher_earnings)\n",
    "\n",
    "# Visualize the comparison\n",
    "plt.figure(figsize=(10, 6))\n",
    "publisher_earnings.head(10).plot(kind='bar')\n",
    "plt.title('Number of Articles Mentioning \"Earnings\" or \"Profit\" by Publisher')\n",
    "plt.xlabel('Publisher')\n",
    "plt.ylabel('Number of Articles')\n",
    "plt.xticks(rotation=45)\n",
    "plt.show()"
   ]
  },
  {
   "cell_type": "code",
   "execution_count": 58,
   "id": "f0733e2b",
   "metadata": {
    "vscode": {
     "languageId": "markdown"
    }
   },
   "outputs": [
    {
     "data": {
      "text/markdown": [
       "\n",
       "### EDA Report: Analyst Ratings News Data\n",
       "\n",
       "**Key Findings:**\n",
       "- The dataset contains over 1.4 million news articles, with comprehensive coverage across major stocks (AAPL, AMZN, GOOG, NVDA, TSLA, etc.).\n",
       "- Most headlines are concise (mean length ~73 characters), and the majority of articles are published on weekdays, especially Wednesday and Thursday.\n",
       "- Sentiment analysis shows that most headlines are neutral, with relatively fewer positive or very negative headlines for all major stocks.\n",
       "- Topic modeling reveals frequent coverage of earnings, profit, and company-specific events.\n",
       "- Publication frequency peaks during market hours, with a significant spike in the mornings (9am–12pm).\n",
       "\n",
       "**Insights:**\n",
       "- News volume is highly correlated with trading days and market events (earnings, upgrades/downgrades).\n",
       "- Certain publishers (e.g., Benzinga Newsdesk, Lisa Levin) dominate the news flow, potentially influencing sentiment trends.\n",
       "- The majority of sentiment is neutral, but spikes in negative or positive sentiment often align with major company announcements or market events.\n",
       "\n",
       "**Actionable Recommendations:**\n",
       "- **Publishing Timing:** For traders and analysts, monitoring news between 9am and 12pm on weekdays is optimal, as most impactful headlines are released during this window.\n",
       "- **Sentiment Monitoring:** Pay special attention to sentiment shifts around earnings seasons and major announcements, as these periods show increased polarity.\n",
       "- **Source Diversification:** Consider tracking multiple publishers to avoid bias and gain a broader perspective on market sentiment.\n",
       "- **Topic Focus:** Articles mentioning \"earnings\" or \"profit\" are prevalent and often drive sentiment; prioritize these for timely trading decisions.\n"
      ],
      "text/plain": [
       "<IPython.core.display.Markdown object>"
      ]
     },
     "metadata": {},
     "output_type": "display_data"
    }
   ],
   "source": [
    "from IPython.display import Markdown, display\n",
    "\n",
    "report = \"\"\"\n",
    "### EDA Report: Analyst Ratings News Data\n",
    "\n",
    "**Key Findings:**\n",
    "- The dataset contains over 1.4 million news articles, with comprehensive coverage across major stocks (AAPL, AMZN, GOOG, NVDA, TSLA, etc.).\n",
    "- Most headlines are concise (mean length ~73 characters), and the majority of articles are published on weekdays, especially Wednesday and Thursday.\n",
    "- Sentiment analysis shows that most headlines are neutral, with relatively fewer positive or very negative headlines for all major stocks.\n",
    "- Topic modeling reveals frequent coverage of earnings, profit, and company-specific events.\n",
    "- Publication frequency peaks during market hours, with a significant spike in the mornings (9am–12pm).\n",
    "\n",
    "**Insights:**\n",
    "- News volume is highly correlated with trading days and market events (earnings, upgrades/downgrades).\n",
    "- Certain publishers (e.g., Benzinga Newsdesk, Lisa Levin) dominate the news flow, potentially influencing sentiment trends.\n",
    "- The majority of sentiment is neutral, but spikes in negative or positive sentiment often align with major company announcements or market events.\n",
    "\n",
    "**Actionable Recommendations:**\n",
    "- **Publishing Timing:** For traders and analysts, monitoring news between 9am and 12pm on weekdays is optimal, as most impactful headlines are released during this window.\n",
    "- **Sentiment Monitoring:** Pay special attention to sentiment shifts around earnings seasons and major announcements, as these periods show increased polarity.\n",
    "- **Source Diversification:** Consider tracking multiple publishers to avoid bias and gain a broader perspective on market sentiment.\n",
    "- **Topic Focus:** Articles mentioning \"earnings\" or \"profit\" are prevalent and often drive sentiment; prioritize these for timely trading decisions.\n",
    "\"\"\"\n",
    "\n",
    "display(Markdown(report))"
   ]
  }
 ],
 "metadata": {
  "kernelspec": {
   "display_name": ".desvenv",
   "language": "python",
   "name": "python3"
  },
  "language_info": {
   "codemirror_mode": {
    "name": "ipython",
    "version": 3
   },
   "file_extension": ".py",
   "mimetype": "text/x-python",
   "name": "python",
   "nbconvert_exporter": "python",
   "pygments_lexer": "ipython3",
   "version": "3.13.3"
  }
 },
 "nbformat": 4,
 "nbformat_minor": 5
}
